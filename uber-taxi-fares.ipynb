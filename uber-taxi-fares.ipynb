{
 "cells": [
  {
   "cell_type": "code",
   "execution_count": 1,
   "id": "7beb673d",
   "metadata": {
    "_cell_guid": "b1076dfc-b9ad-4769-8c92-a6c4dae69d19",
    "_uuid": "8f2839f25d086af736a60e9eeb907d3b93b6e0e5",
    "execution": {
     "iopub.execute_input": "2024-07-15T12:33:46.769902Z",
     "iopub.status.busy": "2024-07-15T12:33:46.769275Z",
     "iopub.status.idle": "2024-07-15T12:33:49.417323Z",
     "shell.execute_reply": "2024-07-15T12:33:49.416215Z"
    },
    "papermill": {
     "duration": 2.671458,
     "end_time": "2024-07-15T12:33:49.419958",
     "exception": false,
     "start_time": "2024-07-15T12:33:46.748500",
     "status": "completed"
    },
    "tags": []
   },
   "outputs": [
    {
     "name": "stdout",
     "output_type": "stream",
     "text": [
      "/kaggle/input/uber-fares-dataset/uber.csv\n"
     ]
    }
   ],
   "source": [
    "import numpy as np \n",
    "import pandas as pd\n",
    "import matplotlib.pyplot as plt\n",
    "import seaborn as sns\n",
    "import datetime as dt\n",
    "\n",
    "import os\n",
    "for dirname, _, filenames in os.walk('/kaggle/input'):\n",
    "    for filename in filenames:\n",
    "        print(os.path.join(dirname, filename))"
   ]
  },
  {
   "cell_type": "markdown",
   "id": "33746d9b",
   "metadata": {
    "papermill": {
     "duration": 0.018262,
     "end_time": "2024-07-15T12:33:49.457100",
     "exception": false,
     "start_time": "2024-07-15T12:33:49.438838",
     "status": "completed"
    },
    "tags": []
   },
   "source": [
    "**Data Inspection** <br>\n",
    "First we will inspect the data including some samples of data, dypes, columns renaming and missing values identification."
   ]
  },
  {
   "cell_type": "code",
   "execution_count": 2,
   "id": "08191009",
   "metadata": {
    "execution": {
     "iopub.execute_input": "2024-07-15T12:33:49.496956Z",
     "iopub.status.busy": "2024-07-15T12:33:49.496416Z",
     "iopub.status.idle": "2024-07-15T12:33:50.652920Z",
     "shell.execute_reply": "2024-07-15T12:33:50.651659Z"
    },
    "papermill": {
     "duration": 1.180165,
     "end_time": "2024-07-15T12:33:50.655887",
     "exception": false,
     "start_time": "2024-07-15T12:33:49.475722",
     "status": "completed"
    },
    "tags": []
   },
   "outputs": [],
   "source": [
    "df = pd.read_csv('/kaggle/input/uber-fares-dataset/uber.csv')"
   ]
  },
  {
   "cell_type": "code",
   "execution_count": 3,
   "id": "4539dfc0",
   "metadata": {
    "execution": {
     "iopub.execute_input": "2024-07-15T12:33:50.695435Z",
     "iopub.status.busy": "2024-07-15T12:33:50.695055Z",
     "iopub.status.idle": "2024-07-15T12:33:50.725312Z",
     "shell.execute_reply": "2024-07-15T12:33:50.724194Z"
    },
    "papermill": {
     "duration": 0.052674,
     "end_time": "2024-07-15T12:33:50.727778",
     "exception": false,
     "start_time": "2024-07-15T12:33:50.675104",
     "status": "completed"
    },
    "tags": []
   },
   "outputs": [
    {
     "data": {
      "text/html": [
       "<div>\n",
       "<style scoped>\n",
       "    .dataframe tbody tr th:only-of-type {\n",
       "        vertical-align: middle;\n",
       "    }\n",
       "\n",
       "    .dataframe tbody tr th {\n",
       "        vertical-align: top;\n",
       "    }\n",
       "\n",
       "    .dataframe thead th {\n",
       "        text-align: right;\n",
       "    }\n",
       "</style>\n",
       "<table border=\"1\" class=\"dataframe\">\n",
       "  <thead>\n",
       "    <tr style=\"text-align: right;\">\n",
       "      <th></th>\n",
       "      <th>Unnamed: 0</th>\n",
       "      <th>key</th>\n",
       "      <th>fare_amount</th>\n",
       "      <th>pickup_datetime</th>\n",
       "      <th>pickup_longitude</th>\n",
       "      <th>pickup_latitude</th>\n",
       "      <th>dropoff_longitude</th>\n",
       "      <th>dropoff_latitude</th>\n",
       "      <th>passenger_count</th>\n",
       "    </tr>\n",
       "  </thead>\n",
       "  <tbody>\n",
       "    <tr>\n",
       "      <th>0</th>\n",
       "      <td>24238194</td>\n",
       "      <td>2015-05-07 19:52:06.0000003</td>\n",
       "      <td>7.5</td>\n",
       "      <td>2015-05-07 19:52:06 UTC</td>\n",
       "      <td>-73.999817</td>\n",
       "      <td>40.738354</td>\n",
       "      <td>-73.999512</td>\n",
       "      <td>40.723217</td>\n",
       "      <td>1</td>\n",
       "    </tr>\n",
       "    <tr>\n",
       "      <th>1</th>\n",
       "      <td>27835199</td>\n",
       "      <td>2009-07-17 20:04:56.0000002</td>\n",
       "      <td>7.7</td>\n",
       "      <td>2009-07-17 20:04:56 UTC</td>\n",
       "      <td>-73.994355</td>\n",
       "      <td>40.728225</td>\n",
       "      <td>-73.994710</td>\n",
       "      <td>40.750325</td>\n",
       "      <td>1</td>\n",
       "    </tr>\n",
       "    <tr>\n",
       "      <th>2</th>\n",
       "      <td>44984355</td>\n",
       "      <td>2009-08-24 21:45:00.00000061</td>\n",
       "      <td>12.9</td>\n",
       "      <td>2009-08-24 21:45:00 UTC</td>\n",
       "      <td>-74.005043</td>\n",
       "      <td>40.740770</td>\n",
       "      <td>-73.962565</td>\n",
       "      <td>40.772647</td>\n",
       "      <td>1</td>\n",
       "    </tr>\n",
       "    <tr>\n",
       "      <th>3</th>\n",
       "      <td>25894730</td>\n",
       "      <td>2009-06-26 08:22:21.0000001</td>\n",
       "      <td>5.3</td>\n",
       "      <td>2009-06-26 08:22:21 UTC</td>\n",
       "      <td>-73.976124</td>\n",
       "      <td>40.790844</td>\n",
       "      <td>-73.965316</td>\n",
       "      <td>40.803349</td>\n",
       "      <td>3</td>\n",
       "    </tr>\n",
       "    <tr>\n",
       "      <th>4</th>\n",
       "      <td>17610152</td>\n",
       "      <td>2014-08-28 17:47:00.000000188</td>\n",
       "      <td>16.0</td>\n",
       "      <td>2014-08-28 17:47:00 UTC</td>\n",
       "      <td>-73.925023</td>\n",
       "      <td>40.744085</td>\n",
       "      <td>-73.973082</td>\n",
       "      <td>40.761247</td>\n",
       "      <td>5</td>\n",
       "    </tr>\n",
       "  </tbody>\n",
       "</table>\n",
       "</div>"
      ],
      "text/plain": [
       "   Unnamed: 0                            key  fare_amount  \\\n",
       "0    24238194    2015-05-07 19:52:06.0000003          7.5   \n",
       "1    27835199    2009-07-17 20:04:56.0000002          7.7   \n",
       "2    44984355   2009-08-24 21:45:00.00000061         12.9   \n",
       "3    25894730    2009-06-26 08:22:21.0000001          5.3   \n",
       "4    17610152  2014-08-28 17:47:00.000000188         16.0   \n",
       "\n",
       "           pickup_datetime  pickup_longitude  pickup_latitude  \\\n",
       "0  2015-05-07 19:52:06 UTC        -73.999817        40.738354   \n",
       "1  2009-07-17 20:04:56 UTC        -73.994355        40.728225   \n",
       "2  2009-08-24 21:45:00 UTC        -74.005043        40.740770   \n",
       "3  2009-06-26 08:22:21 UTC        -73.976124        40.790844   \n",
       "4  2014-08-28 17:47:00 UTC        -73.925023        40.744085   \n",
       "\n",
       "   dropoff_longitude  dropoff_latitude  passenger_count  \n",
       "0         -73.999512         40.723217                1  \n",
       "1         -73.994710         40.750325                1  \n",
       "2         -73.962565         40.772647                1  \n",
       "3         -73.965316         40.803349                3  \n",
       "4         -73.973082         40.761247                5  "
      ]
     },
     "execution_count": 3,
     "metadata": {},
     "output_type": "execute_result"
    }
   ],
   "source": [
    "df.head()"
   ]
  },
  {
   "cell_type": "markdown",
   "id": "42f8bf74",
   "metadata": {
    "papermill": {
     "duration": 0.018814,
     "end_time": "2024-07-15T12:33:50.766209",
     "exception": false,
     "start_time": "2024-07-15T12:33:50.747395",
     "status": "completed"
    },
    "tags": []
   },
   "source": [
    "Let's rename the Unnamed to Id and remove the key column as it duplicate of the pickup_datetime"
   ]
  },
  {
   "cell_type": "code",
   "execution_count": 4,
   "id": "185cb1cf",
   "metadata": {
    "execution": {
     "iopub.execute_input": "2024-07-15T12:33:50.806718Z",
     "iopub.status.busy": "2024-07-15T12:33:50.806263Z",
     "iopub.status.idle": "2024-07-15T12:33:50.837722Z",
     "shell.execute_reply": "2024-07-15T12:33:50.836400Z"
    },
    "papermill": {
     "duration": 0.055468,
     "end_time": "2024-07-15T12:33:50.840754",
     "exception": false,
     "start_time": "2024-07-15T12:33:50.785286",
     "status": "completed"
    },
    "tags": []
   },
   "outputs": [],
   "source": [
    "df = df.rename(columns={\"Unnamed: 0\": \"Id\"})\n",
    "df = df.drop(columns = ['key'])"
   ]
  },
  {
   "cell_type": "code",
   "execution_count": 5,
   "id": "f3506a18",
   "metadata": {
    "execution": {
     "iopub.execute_input": "2024-07-15T12:33:50.880648Z",
     "iopub.status.busy": "2024-07-15T12:33:50.880216Z",
     "iopub.status.idle": "2024-07-15T12:33:50.896647Z",
     "shell.execute_reply": "2024-07-15T12:33:50.895567Z"
    },
    "papermill": {
     "duration": 0.03939,
     "end_time": "2024-07-15T12:33:50.899254",
     "exception": false,
     "start_time": "2024-07-15T12:33:50.859864",
     "status": "completed"
    },
    "tags": []
   },
   "outputs": [
    {
     "data": {
      "text/html": [
       "<div>\n",
       "<style scoped>\n",
       "    .dataframe tbody tr th:only-of-type {\n",
       "        vertical-align: middle;\n",
       "    }\n",
       "\n",
       "    .dataframe tbody tr th {\n",
       "        vertical-align: top;\n",
       "    }\n",
       "\n",
       "    .dataframe thead th {\n",
       "        text-align: right;\n",
       "    }\n",
       "</style>\n",
       "<table border=\"1\" class=\"dataframe\">\n",
       "  <thead>\n",
       "    <tr style=\"text-align: right;\">\n",
       "      <th></th>\n",
       "      <th>Id</th>\n",
       "      <th>fare_amount</th>\n",
       "      <th>pickup_datetime</th>\n",
       "      <th>pickup_longitude</th>\n",
       "      <th>pickup_latitude</th>\n",
       "      <th>dropoff_longitude</th>\n",
       "      <th>dropoff_latitude</th>\n",
       "      <th>passenger_count</th>\n",
       "    </tr>\n",
       "  </thead>\n",
       "  <tbody>\n",
       "    <tr>\n",
       "      <th>0</th>\n",
       "      <td>24238194</td>\n",
       "      <td>7.5</td>\n",
       "      <td>2015-05-07 19:52:06 UTC</td>\n",
       "      <td>-73.999817</td>\n",
       "      <td>40.738354</td>\n",
       "      <td>-73.999512</td>\n",
       "      <td>40.723217</td>\n",
       "      <td>1</td>\n",
       "    </tr>\n",
       "    <tr>\n",
       "      <th>1</th>\n",
       "      <td>27835199</td>\n",
       "      <td>7.7</td>\n",
       "      <td>2009-07-17 20:04:56 UTC</td>\n",
       "      <td>-73.994355</td>\n",
       "      <td>40.728225</td>\n",
       "      <td>-73.994710</td>\n",
       "      <td>40.750325</td>\n",
       "      <td>1</td>\n",
       "    </tr>\n",
       "    <tr>\n",
       "      <th>2</th>\n",
       "      <td>44984355</td>\n",
       "      <td>12.9</td>\n",
       "      <td>2009-08-24 21:45:00 UTC</td>\n",
       "      <td>-74.005043</td>\n",
       "      <td>40.740770</td>\n",
       "      <td>-73.962565</td>\n",
       "      <td>40.772647</td>\n",
       "      <td>1</td>\n",
       "    </tr>\n",
       "    <tr>\n",
       "      <th>3</th>\n",
       "      <td>25894730</td>\n",
       "      <td>5.3</td>\n",
       "      <td>2009-06-26 08:22:21 UTC</td>\n",
       "      <td>-73.976124</td>\n",
       "      <td>40.790844</td>\n",
       "      <td>-73.965316</td>\n",
       "      <td>40.803349</td>\n",
       "      <td>3</td>\n",
       "    </tr>\n",
       "    <tr>\n",
       "      <th>4</th>\n",
       "      <td>17610152</td>\n",
       "      <td>16.0</td>\n",
       "      <td>2014-08-28 17:47:00 UTC</td>\n",
       "      <td>-73.925023</td>\n",
       "      <td>40.744085</td>\n",
       "      <td>-73.973082</td>\n",
       "      <td>40.761247</td>\n",
       "      <td>5</td>\n",
       "    </tr>\n",
       "  </tbody>\n",
       "</table>\n",
       "</div>"
      ],
      "text/plain": [
       "         Id  fare_amount          pickup_datetime  pickup_longitude  \\\n",
       "0  24238194          7.5  2015-05-07 19:52:06 UTC        -73.999817   \n",
       "1  27835199          7.7  2009-07-17 20:04:56 UTC        -73.994355   \n",
       "2  44984355         12.9  2009-08-24 21:45:00 UTC        -74.005043   \n",
       "3  25894730          5.3  2009-06-26 08:22:21 UTC        -73.976124   \n",
       "4  17610152         16.0  2014-08-28 17:47:00 UTC        -73.925023   \n",
       "\n",
       "   pickup_latitude  dropoff_longitude  dropoff_latitude  passenger_count  \n",
       "0        40.738354         -73.999512         40.723217                1  \n",
       "1        40.728225         -73.994710         40.750325                1  \n",
       "2        40.740770         -73.962565         40.772647                1  \n",
       "3        40.790844         -73.965316         40.803349                3  \n",
       "4        40.744085         -73.973082         40.761247                5  "
      ]
     },
     "execution_count": 5,
     "metadata": {},
     "output_type": "execute_result"
    }
   ],
   "source": [
    "df.head()"
   ]
  },
  {
   "cell_type": "code",
   "execution_count": 6,
   "id": "5107bf5c",
   "metadata": {
    "execution": {
     "iopub.execute_input": "2024-07-15T12:33:50.940343Z",
     "iopub.status.busy": "2024-07-15T12:33:50.939554Z",
     "iopub.status.idle": "2024-07-15T12:33:50.986556Z",
     "shell.execute_reply": "2024-07-15T12:33:50.985465Z"
    },
    "papermill": {
     "duration": 0.070241,
     "end_time": "2024-07-15T12:33:50.989098",
     "exception": false,
     "start_time": "2024-07-15T12:33:50.918857",
     "status": "completed"
    },
    "tags": []
   },
   "outputs": [
    {
     "name": "stdout",
     "output_type": "stream",
     "text": [
      "<class 'pandas.core.frame.DataFrame'>\n",
      "RangeIndex: 200000 entries, 0 to 199999\n",
      "Data columns (total 8 columns):\n",
      " #   Column             Non-Null Count   Dtype  \n",
      "---  ------             --------------   -----  \n",
      " 0   Id                 200000 non-null  int64  \n",
      " 1   fare_amount        200000 non-null  float64\n",
      " 2   pickup_datetime    200000 non-null  object \n",
      " 3   pickup_longitude   200000 non-null  float64\n",
      " 4   pickup_latitude    200000 non-null  float64\n",
      " 5   dropoff_longitude  199999 non-null  float64\n",
      " 6   dropoff_latitude   199999 non-null  float64\n",
      " 7   passenger_count    200000 non-null  int64  \n",
      "dtypes: float64(5), int64(2), object(1)\n",
      "memory usage: 12.2+ MB\n"
     ]
    }
   ],
   "source": [
    "df.info()"
   ]
  },
  {
   "cell_type": "markdown",
   "id": "35d5bef0",
   "metadata": {
    "papermill": {
     "duration": 0.019126,
     "end_time": "2024-07-15T12:33:51.027438",
     "exception": false,
     "start_time": "2024-07-15T12:33:51.008312",
     "status": "completed"
    },
    "tags": []
   },
   "source": [
    "As the info shows that the two cols has missing values. Let's find them."
   ]
  },
  {
   "cell_type": "code",
   "execution_count": 7,
   "id": "a5fe4f4c",
   "metadata": {
    "execution": {
     "iopub.execute_input": "2024-07-15T12:33:51.069834Z",
     "iopub.status.busy": "2024-07-15T12:33:51.068939Z",
     "iopub.status.idle": "2024-07-15T12:33:51.100704Z",
     "shell.execute_reply": "2024-07-15T12:33:51.099151Z"
    },
    "papermill": {
     "duration": 0.05587,
     "end_time": "2024-07-15T12:33:51.103597",
     "exception": false,
     "start_time": "2024-07-15T12:33:51.047727",
     "status": "completed"
    },
    "tags": []
   },
   "outputs": [
    {
     "name": "stdout",
     "output_type": "stream",
     "text": [
      "Id                   0\n",
      "fare_amount          0\n",
      "pickup_datetime      0\n",
      "pickup_longitude     0\n",
      "pickup_latitude      0\n",
      "dropoff_longitude    1\n",
      "dropoff_latitude     1\n",
      "passenger_count      0\n",
      "dtype: int64\n"
     ]
    }
   ],
   "source": [
    "missing_values = df.isnull().sum()\n",
    "print(missing_values)"
   ]
  },
  {
   "cell_type": "markdown",
   "id": "a549338b",
   "metadata": {
    "papermill": {
     "duration": 0.019758,
     "end_time": "2024-07-15T12:33:51.142868",
     "exception": false,
     "start_time": "2024-07-15T12:33:51.123110",
     "status": "completed"
    },
    "tags": []
   },
   "source": [
    "The dropoff_longitued and dropoff_latitude column has 1 missing value. first we will identify and analyze it."
   ]
  },
  {
   "cell_type": "code",
   "execution_count": 8,
   "id": "9e44bd58",
   "metadata": {
    "execution": {
     "iopub.execute_input": "2024-07-15T12:33:51.184715Z",
     "iopub.status.busy": "2024-07-15T12:33:51.184314Z",
     "iopub.status.idle": "2024-07-15T12:33:51.222804Z",
     "shell.execute_reply": "2024-07-15T12:33:51.221687Z"
    },
    "papermill": {
     "duration": 0.062386,
     "end_time": "2024-07-15T12:33:51.225508",
     "exception": false,
     "start_time": "2024-07-15T12:33:51.163122",
     "status": "completed"
    },
    "tags": []
   },
   "outputs": [
    {
     "data": {
      "text/html": [
       "<div>\n",
       "<style scoped>\n",
       "    .dataframe tbody tr th:only-of-type {\n",
       "        vertical-align: middle;\n",
       "    }\n",
       "\n",
       "    .dataframe tbody tr th {\n",
       "        vertical-align: top;\n",
       "    }\n",
       "\n",
       "    .dataframe thead th {\n",
       "        text-align: right;\n",
       "    }\n",
       "</style>\n",
       "<table border=\"1\" class=\"dataframe\">\n",
       "  <thead>\n",
       "    <tr style=\"text-align: right;\">\n",
       "      <th></th>\n",
       "      <th>Id</th>\n",
       "      <th>fare_amount</th>\n",
       "      <th>pickup_datetime</th>\n",
       "      <th>pickup_longitude</th>\n",
       "      <th>pickup_latitude</th>\n",
       "      <th>dropoff_longitude</th>\n",
       "      <th>dropoff_latitude</th>\n",
       "      <th>passenger_count</th>\n",
       "    </tr>\n",
       "  </thead>\n",
       "  <tbody>\n",
       "    <tr>\n",
       "      <th>87946</th>\n",
       "      <td>32736015</td>\n",
       "      <td>24.1</td>\n",
       "      <td>2013-07-02 03:51:57 UTC</td>\n",
       "      <td>-73.950581</td>\n",
       "      <td>40.779692</td>\n",
       "      <td>NaN</td>\n",
       "      <td>NaN</td>\n",
       "      <td>0</td>\n",
       "    </tr>\n",
       "  </tbody>\n",
       "</table>\n",
       "</div>"
      ],
      "text/plain": [
       "             Id  fare_amount          pickup_datetime  pickup_longitude  \\\n",
       "87946  32736015         24.1  2013-07-02 03:51:57 UTC        -73.950581   \n",
       "\n",
       "       pickup_latitude  dropoff_longitude  dropoff_latitude  passenger_count  \n",
       "87946        40.779692                NaN               NaN                0  "
      ]
     },
     "execution_count": 8,
     "metadata": {},
     "output_type": "execute_result"
    }
   ],
   "source": [
    "rows_with_missing = df[df.isnull().any(axis=1)]\n",
    "rows_with_missing.head()"
   ]
  },
  {
   "cell_type": "markdown",
   "id": "b3faf5cd",
   "metadata": {
    "papermill": {
     "duration": 0.019551,
     "end_time": "2024-07-15T12:33:51.266163",
     "exception": false,
     "start_time": "2024-07-15T12:33:51.246612",
     "status": "completed"
    },
    "tags": []
   },
   "source": [
    "since this is only one row and passenger_count is also 0, and key is datatime it is a mistake and will remove it."
   ]
  },
  {
   "cell_type": "code",
   "execution_count": 9,
   "id": "190c4b4f",
   "metadata": {
    "execution": {
     "iopub.execute_input": "2024-07-15T12:33:51.307605Z",
     "iopub.status.busy": "2024-07-15T12:33:51.306689Z",
     "iopub.status.idle": "2024-07-15T12:33:51.371026Z",
     "shell.execute_reply": "2024-07-15T12:33:51.369854Z"
    },
    "papermill": {
     "duration": 0.088076,
     "end_time": "2024-07-15T12:33:51.373779",
     "exception": false,
     "start_time": "2024-07-15T12:33:51.285703",
     "status": "completed"
    },
    "tags": []
   },
   "outputs": [
    {
     "name": "stdout",
     "output_type": "stream",
     "text": [
      "Id                   0\n",
      "fare_amount          0\n",
      "pickup_datetime      0\n",
      "pickup_longitude     0\n",
      "pickup_latitude      0\n",
      "dropoff_longitude    0\n",
      "dropoff_latitude     0\n",
      "passenger_count      0\n",
      "dtype: int64\n"
     ]
    }
   ],
   "source": [
    "df = df.dropna()\n",
    "\n",
    "# Verify that there are no more missing values\n",
    "print(df.isnull().sum())"
   ]
  },
  {
   "cell_type": "markdown",
   "id": "1911b136",
   "metadata": {
    "papermill": {
     "duration": 0.019641,
     "end_time": "2024-07-15T12:33:51.413290",
     "exception": false,
     "start_time": "2024-07-15T12:33:51.393649",
     "status": "completed"
    },
    "tags": []
   },
   "source": [
    "Now let's look at dypes."
   ]
  },
  {
   "cell_type": "markdown",
   "id": "07020e8d",
   "metadata": {
    "papermill": {
     "duration": 0.019389,
     "end_time": "2024-07-15T12:33:51.452552",
     "exception": false,
     "start_time": "2024-07-15T12:33:51.433163",
     "status": "completed"
    },
    "tags": []
   },
   "source": [
    "Since you can see that pickup_datetime is object lets convert it to datetime. first we will import datatime."
   ]
  },
  {
   "cell_type": "code",
   "execution_count": 10,
   "id": "e1d192d9",
   "metadata": {
    "execution": {
     "iopub.execute_input": "2024-07-15T12:33:51.495221Z",
     "iopub.status.busy": "2024-07-15T12:33:51.494844Z",
     "iopub.status.idle": "2024-07-15T12:33:55.225350Z",
     "shell.execute_reply": "2024-07-15T12:33:55.224013Z"
    },
    "papermill": {
     "duration": 3.754548,
     "end_time": "2024-07-15T12:33:55.228165",
     "exception": false,
     "start_time": "2024-07-15T12:33:51.473617",
     "status": "completed"
    },
    "tags": []
   },
   "outputs": [],
   "source": [
    "df['pickup_datetime'] = pd.to_datetime(df['pickup_datetime'])"
   ]
  },
  {
   "cell_type": "code",
   "execution_count": 11,
   "id": "5b69bf14",
   "metadata": {
    "execution": {
     "iopub.execute_input": "2024-07-15T12:33:55.273073Z",
     "iopub.status.busy": "2024-07-15T12:33:55.272642Z",
     "iopub.status.idle": "2024-07-15T12:33:55.282752Z",
     "shell.execute_reply": "2024-07-15T12:33:55.281238Z"
    },
    "papermill": {
     "duration": 0.036817,
     "end_time": "2024-07-15T12:33:55.285416",
     "exception": false,
     "start_time": "2024-07-15T12:33:55.248599",
     "status": "completed"
    },
    "tags": []
   },
   "outputs": [
    {
     "data": {
      "text/plain": [
       "0   2015-05-07 19:52:06+00:00\n",
       "1   2009-07-17 20:04:56+00:00\n",
       "2   2009-08-24 21:45:00+00:00\n",
       "3   2009-06-26 08:22:21+00:00\n",
       "4   2014-08-28 17:47:00+00:00\n",
       "Name: pickup_datetime, dtype: datetime64[ns, UTC]"
      ]
     },
     "execution_count": 11,
     "metadata": {},
     "output_type": "execute_result"
    }
   ],
   "source": [
    "df['pickup_datetime'].head()"
   ]
  },
  {
   "cell_type": "markdown",
   "id": "709202d5",
   "metadata": {
    "papermill": {
     "duration": 0.020369,
     "end_time": "2024-07-15T12:33:55.326403",
     "exception": false,
     "start_time": "2024-07-15T12:33:55.306034",
     "status": "completed"
    },
    "tags": []
   },
   "source": [
    "**distance column** <br>\n",
    "As we latitude and longitude and did'nt have the distance column, so let's create one from it."
   ]
  },
  {
   "cell_type": "code",
   "execution_count": 12,
   "id": "77f6149f",
   "metadata": {
    "execution": {
     "iopub.execute_input": "2024-07-15T12:33:55.368317Z",
     "iopub.status.busy": "2024-07-15T12:33:55.367927Z",
     "iopub.status.idle": "2024-07-15T12:33:55.414573Z",
     "shell.execute_reply": "2024-07-15T12:33:55.413445Z"
    },
    "papermill": {
     "duration": 0.070665,
     "end_time": "2024-07-15T12:33:55.417219",
     "exception": false,
     "start_time": "2024-07-15T12:33:55.346554",
     "status": "completed"
    },
    "tags": []
   },
   "outputs": [],
   "source": [
    "def haversine(lat1, lon1, lat2, lon2):\n",
    "    R = 6371  # Earth radius in kilometers\n",
    "\n",
    "    # Convert degrees to radians\n",
    "    lat1 = np.radians(lat1)\n",
    "    lon1 = np.radians(lon1)\n",
    "    lat2 = np.radians(lat2)\n",
    "    lon2 = np.radians(lon2)\n",
    "\n",
    "    # Haversine formula\n",
    "    dlat = lat2 - lat1\n",
    "    dlon = lon2 - lon1\n",
    "    a = np.sin(dlat / 2)**2 + np.cos(lat1) * np.cos(lat2) * np.sin(dlon / 2)**2\n",
    "    c = 2 * np.arctan2(np.sqrt(a), np.sqrt(1 - a))\n",
    "    distance = R * c\n",
    "\n",
    "    return distance\n",
    "\n",
    "# Apply the function to calculate distance for each row\n",
    "df['distance_km'] = haversine(df['pickup_latitude'], df['pickup_longitude'],\n",
    "                              df['dropoff_latitude'], df['dropoff_longitude'])"
   ]
  },
  {
   "cell_type": "code",
   "execution_count": 13,
   "id": "16b73a10",
   "metadata": {
    "execution": {
     "iopub.execute_input": "2024-07-15T12:33:55.460026Z",
     "iopub.status.busy": "2024-07-15T12:33:55.459228Z",
     "iopub.status.idle": "2024-07-15T12:33:55.476885Z",
     "shell.execute_reply": "2024-07-15T12:33:55.475691Z"
    },
    "papermill": {
     "duration": 0.04141,
     "end_time": "2024-07-15T12:33:55.479481",
     "exception": false,
     "start_time": "2024-07-15T12:33:55.438071",
     "status": "completed"
    },
    "tags": []
   },
   "outputs": [
    {
     "data": {
      "text/html": [
       "<div>\n",
       "<style scoped>\n",
       "    .dataframe tbody tr th:only-of-type {\n",
       "        vertical-align: middle;\n",
       "    }\n",
       "\n",
       "    .dataframe tbody tr th {\n",
       "        vertical-align: top;\n",
       "    }\n",
       "\n",
       "    .dataframe thead th {\n",
       "        text-align: right;\n",
       "    }\n",
       "</style>\n",
       "<table border=\"1\" class=\"dataframe\">\n",
       "  <thead>\n",
       "    <tr style=\"text-align: right;\">\n",
       "      <th></th>\n",
       "      <th>Id</th>\n",
       "      <th>fare_amount</th>\n",
       "      <th>pickup_datetime</th>\n",
       "      <th>pickup_longitude</th>\n",
       "      <th>pickup_latitude</th>\n",
       "      <th>dropoff_longitude</th>\n",
       "      <th>dropoff_latitude</th>\n",
       "      <th>passenger_count</th>\n",
       "      <th>distance_km</th>\n",
       "    </tr>\n",
       "  </thead>\n",
       "  <tbody>\n",
       "    <tr>\n",
       "      <th>0</th>\n",
       "      <td>24238194</td>\n",
       "      <td>7.5</td>\n",
       "      <td>2015-05-07 19:52:06+00:00</td>\n",
       "      <td>-73.999817</td>\n",
       "      <td>40.738354</td>\n",
       "      <td>-73.999512</td>\n",
       "      <td>40.723217</td>\n",
       "      <td>1</td>\n",
       "      <td>1.683323</td>\n",
       "    </tr>\n",
       "    <tr>\n",
       "      <th>1</th>\n",
       "      <td>27835199</td>\n",
       "      <td>7.7</td>\n",
       "      <td>2009-07-17 20:04:56+00:00</td>\n",
       "      <td>-73.994355</td>\n",
       "      <td>40.728225</td>\n",
       "      <td>-73.994710</td>\n",
       "      <td>40.750325</td>\n",
       "      <td>1</td>\n",
       "      <td>2.457590</td>\n",
       "    </tr>\n",
       "    <tr>\n",
       "      <th>2</th>\n",
       "      <td>44984355</td>\n",
       "      <td>12.9</td>\n",
       "      <td>2009-08-24 21:45:00+00:00</td>\n",
       "      <td>-74.005043</td>\n",
       "      <td>40.740770</td>\n",
       "      <td>-73.962565</td>\n",
       "      <td>40.772647</td>\n",
       "      <td>1</td>\n",
       "      <td>5.036377</td>\n",
       "    </tr>\n",
       "    <tr>\n",
       "      <th>3</th>\n",
       "      <td>25894730</td>\n",
       "      <td>5.3</td>\n",
       "      <td>2009-06-26 08:22:21+00:00</td>\n",
       "      <td>-73.976124</td>\n",
       "      <td>40.790844</td>\n",
       "      <td>-73.965316</td>\n",
       "      <td>40.803349</td>\n",
       "      <td>3</td>\n",
       "      <td>1.661683</td>\n",
       "    </tr>\n",
       "    <tr>\n",
       "      <th>4</th>\n",
       "      <td>17610152</td>\n",
       "      <td>16.0</td>\n",
       "      <td>2014-08-28 17:47:00+00:00</td>\n",
       "      <td>-73.925023</td>\n",
       "      <td>40.744085</td>\n",
       "      <td>-73.973082</td>\n",
       "      <td>40.761247</td>\n",
       "      <td>5</td>\n",
       "      <td>4.475450</td>\n",
       "    </tr>\n",
       "  </tbody>\n",
       "</table>\n",
       "</div>"
      ],
      "text/plain": [
       "         Id  fare_amount           pickup_datetime  pickup_longitude  \\\n",
       "0  24238194          7.5 2015-05-07 19:52:06+00:00        -73.999817   \n",
       "1  27835199          7.7 2009-07-17 20:04:56+00:00        -73.994355   \n",
       "2  44984355         12.9 2009-08-24 21:45:00+00:00        -74.005043   \n",
       "3  25894730          5.3 2009-06-26 08:22:21+00:00        -73.976124   \n",
       "4  17610152         16.0 2014-08-28 17:47:00+00:00        -73.925023   \n",
       "\n",
       "   pickup_latitude  dropoff_longitude  dropoff_latitude  passenger_count  \\\n",
       "0        40.738354         -73.999512         40.723217                1   \n",
       "1        40.728225         -73.994710         40.750325                1   \n",
       "2        40.740770         -73.962565         40.772647                1   \n",
       "3        40.790844         -73.965316         40.803349                3   \n",
       "4        40.744085         -73.973082         40.761247                5   \n",
       "\n",
       "   distance_km  \n",
       "0     1.683323  \n",
       "1     2.457590  \n",
       "2     5.036377  \n",
       "3     1.661683  \n",
       "4     4.475450  "
      ]
     },
     "execution_count": 13,
     "metadata": {},
     "output_type": "execute_result"
    }
   ],
   "source": [
    "df.head()"
   ]
  },
  {
   "cell_type": "markdown",
   "id": "b2504a9a",
   "metadata": {
    "papermill": {
     "duration": 0.019897,
     "end_time": "2024-07-15T12:33:55.519624",
     "exception": false,
     "start_time": "2024-07-15T12:33:55.499727",
     "status": "completed"
    },
    "tags": []
   },
   "source": [
    "**Exploratory Data Analysis (EDA):** <br>\n",
    "Let explore some statistics of the data. "
   ]
  },
  {
   "cell_type": "code",
   "execution_count": 14,
   "id": "4b73d28c",
   "metadata": {
    "execution": {
     "iopub.execute_input": "2024-07-15T12:33:55.624043Z",
     "iopub.status.busy": "2024-07-15T12:33:55.623245Z",
     "iopub.status.idle": "2024-07-15T12:33:55.734395Z",
     "shell.execute_reply": "2024-07-15T12:33:55.733311Z"
    },
    "papermill": {
     "duration": 0.197317,
     "end_time": "2024-07-15T12:33:55.737354",
     "exception": false,
     "start_time": "2024-07-15T12:33:55.540037",
     "status": "completed"
    },
    "tags": []
   },
   "outputs": [
    {
     "data": {
      "text/html": [
       "<div>\n",
       "<style scoped>\n",
       "    .dataframe tbody tr th:only-of-type {\n",
       "        vertical-align: middle;\n",
       "    }\n",
       "\n",
       "    .dataframe tbody tr th {\n",
       "        vertical-align: top;\n",
       "    }\n",
       "\n",
       "    .dataframe thead th {\n",
       "        text-align: right;\n",
       "    }\n",
       "</style>\n",
       "<table border=\"1\" class=\"dataframe\">\n",
       "  <thead>\n",
       "    <tr style=\"text-align: right;\">\n",
       "      <th></th>\n",
       "      <th>Id</th>\n",
       "      <th>fare_amount</th>\n",
       "      <th>pickup_longitude</th>\n",
       "      <th>pickup_latitude</th>\n",
       "      <th>dropoff_longitude</th>\n",
       "      <th>dropoff_latitude</th>\n",
       "      <th>passenger_count</th>\n",
       "      <th>distance_km</th>\n",
       "    </tr>\n",
       "  </thead>\n",
       "  <tbody>\n",
       "    <tr>\n",
       "      <th>count</th>\n",
       "      <td>1.999990e+05</td>\n",
       "      <td>199999.000000</td>\n",
       "      <td>199999.000000</td>\n",
       "      <td>199999.000000</td>\n",
       "      <td>199999.000000</td>\n",
       "      <td>199999.000000</td>\n",
       "      <td>199999.000000</td>\n",
       "      <td>199999.000000</td>\n",
       "    </tr>\n",
       "    <tr>\n",
       "      <th>mean</th>\n",
       "      <td>2.771248e+07</td>\n",
       "      <td>11.359892</td>\n",
       "      <td>-72.527631</td>\n",
       "      <td>39.935881</td>\n",
       "      <td>-72.525292</td>\n",
       "      <td>39.923890</td>\n",
       "      <td>1.684543</td>\n",
       "      <td>20.855350</td>\n",
       "    </tr>\n",
       "    <tr>\n",
       "      <th>std</th>\n",
       "      <td>1.601386e+07</td>\n",
       "      <td>9.901760</td>\n",
       "      <td>11.437815</td>\n",
       "      <td>7.720558</td>\n",
       "      <td>13.117408</td>\n",
       "      <td>6.794829</td>\n",
       "      <td>1.385995</td>\n",
       "      <td>382.964642</td>\n",
       "    </tr>\n",
       "    <tr>\n",
       "      <th>min</th>\n",
       "      <td>1.000000e+00</td>\n",
       "      <td>-52.000000</td>\n",
       "      <td>-1340.648410</td>\n",
       "      <td>-74.015515</td>\n",
       "      <td>-3356.666300</td>\n",
       "      <td>-881.985513</td>\n",
       "      <td>0.000000</td>\n",
       "      <td>0.000000</td>\n",
       "    </tr>\n",
       "    <tr>\n",
       "      <th>25%</th>\n",
       "      <td>1.382534e+07</td>\n",
       "      <td>6.000000</td>\n",
       "      <td>-73.992065</td>\n",
       "      <td>40.734796</td>\n",
       "      <td>-73.991407</td>\n",
       "      <td>40.733823</td>\n",
       "      <td>1.000000</td>\n",
       "      <td>1.215222</td>\n",
       "    </tr>\n",
       "    <tr>\n",
       "      <th>50%</th>\n",
       "      <td>2.774524e+07</td>\n",
       "      <td>8.500000</td>\n",
       "      <td>-73.981823</td>\n",
       "      <td>40.752592</td>\n",
       "      <td>-73.980093</td>\n",
       "      <td>40.753042</td>\n",
       "      <td>1.000000</td>\n",
       "      <td>2.120992</td>\n",
       "    </tr>\n",
       "    <tr>\n",
       "      <th>75%</th>\n",
       "      <td>4.155535e+07</td>\n",
       "      <td>12.500000</td>\n",
       "      <td>-73.967154</td>\n",
       "      <td>40.767158</td>\n",
       "      <td>-73.963658</td>\n",
       "      <td>40.768001</td>\n",
       "      <td>2.000000</td>\n",
       "      <td>3.875169</td>\n",
       "    </tr>\n",
       "    <tr>\n",
       "      <th>max</th>\n",
       "      <td>5.542357e+07</td>\n",
       "      <td>499.000000</td>\n",
       "      <td>57.418457</td>\n",
       "      <td>1644.421482</td>\n",
       "      <td>1153.572603</td>\n",
       "      <td>872.697628</td>\n",
       "      <td>208.000000</td>\n",
       "      <td>16409.239135</td>\n",
       "    </tr>\n",
       "  </tbody>\n",
       "</table>\n",
       "</div>"
      ],
      "text/plain": [
       "                 Id    fare_amount  pickup_longitude  pickup_latitude  \\\n",
       "count  1.999990e+05  199999.000000     199999.000000    199999.000000   \n",
       "mean   2.771248e+07      11.359892        -72.527631        39.935881   \n",
       "std    1.601386e+07       9.901760         11.437815         7.720558   \n",
       "min    1.000000e+00     -52.000000      -1340.648410       -74.015515   \n",
       "25%    1.382534e+07       6.000000        -73.992065        40.734796   \n",
       "50%    2.774524e+07       8.500000        -73.981823        40.752592   \n",
       "75%    4.155535e+07      12.500000        -73.967154        40.767158   \n",
       "max    5.542357e+07     499.000000         57.418457      1644.421482   \n",
       "\n",
       "       dropoff_longitude  dropoff_latitude  passenger_count    distance_km  \n",
       "count      199999.000000     199999.000000    199999.000000  199999.000000  \n",
       "mean          -72.525292         39.923890         1.684543      20.855350  \n",
       "std            13.117408          6.794829         1.385995     382.964642  \n",
       "min         -3356.666300       -881.985513         0.000000       0.000000  \n",
       "25%           -73.991407         40.733823         1.000000       1.215222  \n",
       "50%           -73.980093         40.753042         1.000000       2.120992  \n",
       "75%           -73.963658         40.768001         2.000000       3.875169  \n",
       "max          1153.572603        872.697628       208.000000   16409.239135  "
      ]
     },
     "execution_count": 14,
     "metadata": {},
     "output_type": "execute_result"
    }
   ],
   "source": [
    "df.describe()"
   ]
  },
  {
   "cell_type": "markdown",
   "id": "453f78ba",
   "metadata": {
    "papermill": {
     "duration": 0.020553,
     "end_time": "2024-07-15T12:33:55.779405",
     "exception": false,
     "start_time": "2024-07-15T12:33:55.758852",
     "status": "completed"
    },
    "tags": []
   },
   "source": [
    "There are significant outliers in fare_amount, pickup_longitude, pickup_latitude, dropoff_longitude, dropoff_latitude, and passenger_count. For example the minimum fare_amount is -52 (clearly an outlier) and max is 499(too high, an outlier)."
   ]
  },
  {
   "cell_type": "markdown",
   "id": "61bf44fd",
   "metadata": {
    "papermill": {
     "duration": 0.020332,
     "end_time": "2024-07-15T12:33:55.820592",
     "exception": false,
     "start_time": "2024-07-15T12:33:55.800260",
     "status": "completed"
    },
    "tags": []
   },
   "source": [
    "**Visualizations** <br>\n",
    "Let's create some box plots to find outliers in the dataset and histograms for finding the distribution of the data."
   ]
  },
  {
   "cell_type": "code",
   "execution_count": 15,
   "id": "97593296",
   "metadata": {
    "execution": {
     "iopub.execute_input": "2024-07-15T12:33:55.864263Z",
     "iopub.status.busy": "2024-07-15T12:33:55.863895Z",
     "iopub.status.idle": "2024-07-15T12:33:56.100258Z",
     "shell.execute_reply": "2024-07-15T12:33:56.099094Z"
    },
    "papermill": {
     "duration": 0.261699,
     "end_time": "2024-07-15T12:33:56.102889",
     "exception": false,
     "start_time": "2024-07-15T12:33:55.841190",
     "status": "completed"
    },
    "tags": []
   },
   "outputs": [
    {
     "data": {
      "text/plain": [
       "<Axes: title={'center': 'distance in km'}, xlabel='distance_km'>"
      ]
     },
     "execution_count": 15,
     "metadata": {},
     "output_type": "execute_result"
    },
    {
     "data": {
      "image/png": "[encoded data removed]",
      "text/plain": [
       "<Figure size 700x200 with 1 Axes>"
      ]
     },
     "metadata": {},
     "output_type": "display_data"
    }
   ],
   "source": [
    "plt.figure(figsize=(7,2))\n",
    "plt.title('distance in km')\n",
    "sns.boxplot(data=df, x='distance_km', fliersize=1)"
   ]
  },
  {
   "cell_type": "code",
   "execution_count": 16,
   "id": "3878755d",
   "metadata": {
    "execution": {
     "iopub.execute_input": "2024-07-15T12:33:56.148162Z",
     "iopub.status.busy": "2024-07-15T12:33:56.147536Z",
     "iopub.status.idle": "2024-07-15T12:33:56.819623Z",
     "shell.execute_reply": "2024-07-15T12:33:56.818586Z"
    },
    "papermill": {
     "duration": 0.697268,
     "end_time": "2024-07-15T12:33:56.821985",
     "exception": false,
     "start_time": "2024-07-15T12:33:56.124717",
     "status": "completed"
    },
    "tags": []
   },
   "outputs": [
    {
     "name": "stderr",
     "output_type": "stream",
     "text": [
      "/opt/conda/lib/python3.10/site-packages/seaborn/_oldcore.py:1119: FutureWarning: use_inf_as_na option is deprecated and will be removed in a future version. Convert inf values to NaN before operating instead.\n",
      "  with pd.option_context('mode.use_inf_as_na', True):\n"
     ]
    },
    {
     "data": {
      "image/png": "[encoded data removed]",
      "text/plain": [
       "<Figure size 700x300 with 1 Axes>"
      ]
     },
     "metadata": {},
     "output_type": "display_data"
    }
   ],
   "source": [
    "# Create histogram of trip_distance\n",
    "plt.figure(figsize=(7,3))\n",
    "sns.histplot(df['distance_km'], bins=range(0,30,1))\n",
    "plt.title('Trip distance histogram');"
   ]
  },
  {
   "cell_type": "markdown",
   "id": "a532d8c7",
   "metadata": {
    "papermill": {
     "duration": 0.021321,
     "end_time": "2024-07-15T12:33:56.865064",
     "exception": false,
     "start_time": "2024-07-15T12:33:56.843743",
     "status": "completed"
    },
    "tags": []
   },
   "source": [
    "The visualization shows that majority of the trips distance were less than 5km."
   ]
  },
  {
   "cell_type": "code",
   "execution_count": 17,
   "id": "8b8ef726",
   "metadata": {
    "execution": {
     "iopub.execute_input": "2024-07-15T12:33:56.910918Z",
     "iopub.status.busy": "2024-07-15T12:33:56.910501Z",
     "iopub.status.idle": "2024-07-15T12:33:57.109830Z",
     "shell.execute_reply": "2024-07-15T12:33:57.108367Z"
    },
    "papermill": {
     "duration": 0.2256,
     "end_time": "2024-07-15T12:33:57.112821",
     "exception": false,
     "start_time": "2024-07-15T12:33:56.887221",
     "status": "completed"
    },
    "tags": []
   },
   "outputs": [
    {
     "data": {
      "text/plain": [
       "<Axes: title={'center': 'fare amount'}, xlabel='fare_amount'>"
      ]
     },
     "execution_count": 17,
     "metadata": {},
     "output_type": "execute_result"
    },
    {
     "data": {
      "image/png": "[encoded data removed]",
      "text/plain": [
       "<Figure size 700x200 with 1 Axes>"
      ]
     },
     "metadata": {},
     "output_type": "display_data"
    }
   ],
   "source": [
    "plt.figure(figsize=(7,2))\n",
    "plt.title('fare amount')\n",
    "sns.boxplot(data=df, x='fare_amount', fliersize=1)"
   ]
  },
  {
   "cell_type": "code",
   "execution_count": 18,
   "id": "96500f79",
   "metadata": {
    "execution": {
     "iopub.execute_input": "2024-07-15T12:33:57.159877Z",
     "iopub.status.busy": "2024-07-15T12:33:57.159255Z",
     "iopub.status.idle": "2024-07-15T12:33:57.846681Z",
     "shell.execute_reply": "2024-07-15T12:33:57.845349Z"
    },
    "papermill": {
     "duration": 0.714284,
     "end_time": "2024-07-15T12:33:57.849689",
     "exception": false,
     "start_time": "2024-07-15T12:33:57.135405",
     "status": "completed"
    },
    "tags": []
   },
   "outputs": [
    {
     "name": "stderr",
     "output_type": "stream",
     "text": [
      "/opt/conda/lib/python3.10/site-packages/seaborn/_oldcore.py:1119: FutureWarning: use_inf_as_na option is deprecated and will be removed in a future version. Convert inf values to NaN before operating instead.\n",
      "  with pd.option_context('mode.use_inf_as_na', True):\n"
     ]
    },
    {
     "data": {
      "image/png": "[encoded data removed]",
      "text/plain": [
       "<Figure size 700x300 with 1 Axes>"
      ]
     },
     "metadata": {},
     "output_type": "display_data"
    }
   ],
   "source": [
    "plt.figure(figsize=(7,3))\n",
    "ax = sns.histplot(df['fare_amount'],bins=range(0,100,5))\n",
    "ax.set_xticks(range(0,100,5))\n",
    "ax.set_xticklabels(range(0,100,5))\n",
    "plt.title('fare amount histogram');"
   ]
  },
  {
   "cell_type": "markdown",
   "id": "6c2a1836",
   "metadata": {
    "papermill": {
     "duration": 0.02256,
     "end_time": "2024-07-15T12:33:57.896621",
     "exception": false,
     "start_time": "2024-07-15T12:33:57.874061",
     "status": "completed"
    },
    "tags": []
   },
   "source": [
    "The fare amount is skewed to the right. and the visualization shows that majority of the trips has fare amount of 5-20 dollars."
   ]
  },
  {
   "cell_type": "code",
   "execution_count": 19,
   "id": "def32ca5",
   "metadata": {
    "execution": {
     "iopub.execute_input": "2024-07-15T12:33:57.944213Z",
     "iopub.status.busy": "2024-07-15T12:33:57.943804Z",
     "iopub.status.idle": "2024-07-15T12:33:58.195833Z",
     "shell.execute_reply": "2024-07-15T12:33:58.194686Z"
    },
    "papermill": {
     "duration": 0.279188,
     "end_time": "2024-07-15T12:33:58.198618",
     "exception": false,
     "start_time": "2024-07-15T12:33:57.919430",
     "status": "completed"
    },
    "tags": []
   },
   "outputs": [
    {
     "data": {
      "text/plain": [
       "<Axes: title={'center': 'passenger count'}, xlabel='passenger_count'>"
      ]
     },
     "execution_count": 19,
     "metadata": {},
     "output_type": "execute_result"
    },
    {
     "data": {
      "image/png": "[encoded data removed]",
      "text/plain": [
       "<Figure size 700x200 with 1 Axes>"
      ]
     },
     "metadata": {},
     "output_type": "display_data"
    }
   ],
   "source": [
    "plt.figure(figsize=(7,2))\n",
    "plt.title('passenger count')\n",
    "sns.boxplot(data=df, x='passenger_count', fliersize=1)"
   ]
  },
  {
   "cell_type": "code",
   "execution_count": 20,
   "id": "a79521d4",
   "metadata": {
    "execution": {
     "iopub.execute_input": "2024-07-15T12:33:58.250226Z",
     "iopub.status.busy": "2024-07-15T12:33:58.249812Z",
     "iopub.status.idle": "2024-07-15T12:33:58.866395Z",
     "shell.execute_reply": "2024-07-15T12:33:58.865194Z"
    },
    "papermill": {
     "duration": 0.645855,
     "end_time": "2024-07-15T12:33:58.869027",
     "exception": false,
     "start_time": "2024-07-15T12:33:58.223172",
     "status": "completed"
    },
    "tags": []
   },
   "outputs": [
    {
     "name": "stderr",
     "output_type": "stream",
     "text": [
      "/opt/conda/lib/python3.10/site-packages/seaborn/_oldcore.py:1119: FutureWarning: use_inf_as_na option is deprecated and will be removed in a future version. Convert inf values to NaN before operating instead.\n",
      "  with pd.option_context('mode.use_inf_as_na', True):\n"
     ]
    },
    {
     "data": {
      "image/png": "[encoded data removed]",
      "text/plain": [
       "<Figure size 700x300 with 1 Axes>"
      ]
     },
     "metadata": {},
     "output_type": "display_data"
    }
   ],
   "source": [
    "plt.figure(figsize=(7,3))\n",
    "ax = sns.histplot(df['passenger_count'],bins=range(0,20,2))\n",
    "ax.set_xticks(range(0,20,2))\n",
    "ax.set_xticklabels(range(0,20,2))\n",
    "plt.title('passenger count histogram');"
   ]
  },
  {
   "cell_type": "markdown",
   "id": "2e0bdfab",
   "metadata": {
    "papermill": {
     "duration": 0.023383,
     "end_time": "2024-07-15T12:33:58.916265",
     "exception": false,
     "start_time": "2024-07-15T12:33:58.892882",
     "status": "completed"
    },
    "tags": []
   },
   "source": [
    "so the 2 passenger per trip is in majority and the passengers counts are upto 8."
   ]
  },
  {
   "cell_type": "markdown",
   "id": "b4c7a9ba",
   "metadata": {
    "papermill": {
     "duration": 0.023534,
     "end_time": "2024-07-15T12:33:58.963497",
     "exception": false,
     "start_time": "2024-07-15T12:33:58.939963",
     "status": "completed"
    },
    "tags": []
   },
   "source": [
    "**Mean fare amount by passenger count** \n",
    "\n",
    "Now let's examine the fare amount with passenger count."
   ]
  },
  {
   "cell_type": "code",
   "execution_count": 21,
   "id": "3a62cce2",
   "metadata": {
    "execution": {
     "iopub.execute_input": "2024-07-15T12:33:59.013332Z",
     "iopub.status.busy": "2024-07-15T12:33:59.012918Z",
     "iopub.status.idle": "2024-07-15T12:33:59.026234Z",
     "shell.execute_reply": "2024-07-15T12:33:59.025008Z"
    },
    "papermill": {
     "duration": 0.04173,
     "end_time": "2024-07-15T12:33:59.028788",
     "exception": false,
     "start_time": "2024-07-15T12:33:58.987058",
     "status": "completed"
    },
    "tags": []
   },
   "outputs": [
    {
     "data": {
      "text/plain": [
       "passenger_count\n",
       "1      138425\n",
       "2       29428\n",
       "5       14009\n",
       "3        8881\n",
       "4        4276\n",
       "6        4271\n",
       "0         708\n",
       "208         1\n",
       "Name: count, dtype: int64"
      ]
     },
     "execution_count": 21,
     "metadata": {},
     "output_type": "execute_result"
    }
   ],
   "source": [
    "df['passenger_count'].value_counts()"
   ]
  },
  {
   "cell_type": "code",
   "execution_count": 22,
   "id": "2a7ca94e",
   "metadata": {
    "execution": {
     "iopub.execute_input": "2024-07-15T12:33:59.080630Z",
     "iopub.status.busy": "2024-07-15T12:33:59.080151Z",
     "iopub.status.idle": "2024-07-15T12:33:59.109920Z",
     "shell.execute_reply": "2024-07-15T12:33:59.108640Z"
    },
    "papermill": {
     "duration": 0.059697,
     "end_time": "2024-07-15T12:33:59.112754",
     "exception": false,
     "start_time": "2024-07-15T12:33:59.053057",
     "status": "completed"
    },
    "tags": []
   },
   "outputs": [
    {
     "data": {
      "text/html": [
       "<div>\n",
       "<style scoped>\n",
       "    .dataframe tbody tr th:only-of-type {\n",
       "        vertical-align: middle;\n",
       "    }\n",
       "\n",
       "    .dataframe tbody tr th {\n",
       "        vertical-align: top;\n",
       "    }\n",
       "\n",
       "    .dataframe thead th {\n",
       "        text-align: right;\n",
       "    }\n",
       "</style>\n",
       "<table border=\"1\" class=\"dataframe\">\n",
       "  <thead>\n",
       "    <tr style=\"text-align: right;\">\n",
       "      <th></th>\n",
       "      <th>fare_amount</th>\n",
       "    </tr>\n",
       "    <tr>\n",
       "      <th>passenger_count</th>\n",
       "      <th></th>\n",
       "    </tr>\n",
       "  </thead>\n",
       "  <tbody>\n",
       "    <tr>\n",
       "      <th>0</th>\n",
       "      <td>9.439266</td>\n",
       "    </tr>\n",
       "    <tr>\n",
       "      <th>1</th>\n",
       "      <td>11.254158</td>\n",
       "    </tr>\n",
       "    <tr>\n",
       "      <th>2</th>\n",
       "      <td>11.784452</td>\n",
       "    </tr>\n",
       "    <tr>\n",
       "      <th>3</th>\n",
       "      <td>11.486731</td>\n",
       "    </tr>\n",
       "    <tr>\n",
       "      <th>4</th>\n",
       "      <td>11.642472</td>\n",
       "    </tr>\n",
       "    <tr>\n",
       "      <th>5</th>\n",
       "      <td>11.199698</td>\n",
       "    </tr>\n",
       "    <tr>\n",
       "      <th>6</th>\n",
       "      <td>12.158537</td>\n",
       "    </tr>\n",
       "    <tr>\n",
       "      <th>208</th>\n",
       "      <td>11.700000</td>\n",
       "    </tr>\n",
       "  </tbody>\n",
       "</table>\n",
       "</div>"
      ],
      "text/plain": [
       "                 fare_amount\n",
       "passenger_count             \n",
       "0                   9.439266\n",
       "1                  11.254158\n",
       "2                  11.784452\n",
       "3                  11.486731\n",
       "4                  11.642472\n",
       "5                  11.199698\n",
       "6                  12.158537\n",
       "208                11.700000"
      ]
     },
     "execution_count": 22,
     "metadata": {},
     "output_type": "execute_result"
    }
   ],
   "source": [
    "mean_fares_by_passenger_count = df.groupby(['passenger_count']).mean()[['fare_amount']]\n",
    "mean_fares_by_passenger_count"
   ]
  },
  {
   "cell_type": "code",
   "execution_count": 23,
   "id": "fb429fdd",
   "metadata": {
    "execution": {
     "iopub.execute_input": "2024-07-15T12:33:59.163815Z",
     "iopub.status.busy": "2024-07-15T12:33:59.163383Z",
     "iopub.status.idle": "2024-07-15T12:33:59.581146Z",
     "shell.execute_reply": "2024-07-15T12:33:59.579984Z"
    },
    "papermill": {
     "duration": 0.446351,
     "end_time": "2024-07-15T12:33:59.583628",
     "exception": false,
     "start_time": "2024-07-15T12:33:59.137277",
     "status": "completed"
    },
    "tags": []
   },
   "outputs": [
    {
     "data": {
      "image/png": "[encoded data removed]",
      "text/plain": [
       "<Figure size 1200x700 with 1 Axes>"
      ]
     },
     "metadata": {},
     "output_type": "display_data"
    }
   ],
   "source": [
    "data = mean_fares_by_passenger_count.tail(-1)\n",
    "pal = sns.color_palette(\"Greens_d\", len(data))\n",
    "rank = data['fare_amount'].argsort().argsort()\n",
    "plt.figure(figsize=(12,7))\n",
    "ax = sns.barplot(x=data.index,\n",
    "            y=data['fare_amount'],\n",
    "            palette=np.array(pal[::-1])[rank])\n",
    "ax.axhline(df['fare_amount'].mean(), ls='--', color='red', label='global mean')\n",
    "ax.legend()\n",
    "plt.title('Mean fare amount by passenger count', fontsize=16);"
   ]
  },
  {
   "cell_type": "markdown",
   "id": "1e70eb13",
   "metadata": {
    "papermill": {
     "duration": 0.024692,
     "end_time": "2024-07-15T12:33:59.634243",
     "exception": false,
     "start_time": "2024-07-15T12:33:59.609551",
     "status": "completed"
    },
    "tags": []
   },
   "source": [
    "**Create month and day columns**"
   ]
  },
  {
   "cell_type": "code",
   "execution_count": 24,
   "id": "619c98fc",
   "metadata": {
    "execution": {
     "iopub.execute_input": "2024-07-15T12:33:59.686041Z",
     "iopub.status.busy": "2024-07-15T12:33:59.685604Z",
     "iopub.status.idle": "2024-07-15T12:33:59.854498Z",
     "shell.execute_reply": "2024-07-15T12:33:59.853205Z"
    },
    "papermill": {
     "duration": 0.198741,
     "end_time": "2024-07-15T12:33:59.857643",
     "exception": false,
     "start_time": "2024-07-15T12:33:59.658902",
     "status": "completed"
    },
    "tags": []
   },
   "outputs": [],
   "source": [
    "# Create a month column\n",
    "df['month'] = df['pickup_datetime'].dt.month_name()\n",
    "# Create a day column\n",
    "df['day'] = df['pickup_datetime'].dt.day_name()"
   ]
  },
  {
   "cell_type": "code",
   "execution_count": 25,
   "id": "195925bf",
   "metadata": {
    "execution": {
     "iopub.execute_input": "2024-07-15T12:33:59.909922Z",
     "iopub.status.busy": "2024-07-15T12:33:59.909475Z",
     "iopub.status.idle": "2024-07-15T12:33:59.961946Z",
     "shell.execute_reply": "2024-07-15T12:33:59.960755Z"
    },
    "papermill": {
     "duration": 0.081705,
     "end_time": "2024-07-15T12:33:59.964517",
     "exception": false,
     "start_time": "2024-07-15T12:33:59.882812",
     "status": "completed"
    },
    "tags": []
   },
   "outputs": [
    {
     "data": {
      "text/plain": [
       "month\n",
       "May          18859\n",
       "March        18763\n",
       "April        18606\n",
       "June         17787\n",
       "January      17668\n",
       "February     16695\n",
       "October      16212\n",
       "December     15516\n",
       "November     15312\n",
       "September    15266\n",
       "July         15094\n",
       "August       14221\n",
       "Name: count, dtype: int64"
      ]
     },
     "execution_count": 25,
     "metadata": {},
     "output_type": "execute_result"
    }
   ],
   "source": [
    "monthly_rides = df['month'].value_counts()\n",
    "monthly_rides"
   ]
  },
  {
   "cell_type": "code",
   "execution_count": 26,
   "id": "6d1fe65d",
   "metadata": {
    "execution": {
     "iopub.execute_input": "2024-07-15T12:34:00.016545Z",
     "iopub.status.busy": "2024-07-15T12:34:00.016089Z",
     "iopub.status.idle": "2024-07-15T12:34:00.026183Z",
     "shell.execute_reply": "2024-07-15T12:34:00.025080Z"
    },
    "papermill": {
     "duration": 0.039314,
     "end_time": "2024-07-15T12:34:00.028841",
     "exception": false,
     "start_time": "2024-07-15T12:33:59.989527",
     "status": "completed"
    },
    "tags": []
   },
   "outputs": [
    {
     "data": {
      "text/plain": [
       "month\n",
       "January      17668\n",
       "February     16695\n",
       "March        18763\n",
       "April        18606\n",
       "May          18859\n",
       "June         17787\n",
       "July         15094\n",
       "August       14221\n",
       "September    15266\n",
       "October      16212\n",
       "November     15312\n",
       "December     15516\n",
       "Name: count, dtype: int64"
      ]
     },
     "execution_count": 26,
     "metadata": {},
     "output_type": "execute_result"
    }
   ],
   "source": [
    "month_order = ['January', 'February', 'March', 'April', 'May', 'June', 'July',\n",
    "         'August', 'September', 'October', 'November', 'December']\n",
    "\n",
    "monthly_rides = monthly_rides.reindex(index=month_order)\n",
    "monthly_rides"
   ]
  },
  {
   "cell_type": "code",
   "execution_count": 27,
   "id": "3453d158",
   "metadata": {
    "execution": {
     "iopub.execute_input": "2024-07-15T12:34:00.085263Z",
     "iopub.status.busy": "2024-07-15T12:34:00.084829Z",
     "iopub.status.idle": "2024-07-15T12:34:00.512939Z",
     "shell.execute_reply": "2024-07-15T12:34:00.511421Z"
    },
    "papermill": {
     "duration": 0.460648,
     "end_time": "2024-07-15T12:34:00.515734",
     "exception": false,
     "start_time": "2024-07-15T12:34:00.055086",
     "status": "completed"
    },
    "tags": []
   },
   "outputs": [
    {
     "data": {
      "image/png": "[encoded data removed]",
      "text/plain": [
       "<Figure size 1200x700 with 1 Axes>"
      ]
     },
     "metadata": {},
     "output_type": "display_data"
    }
   ],
   "source": [
    "plt.figure(figsize=(12,7))\n",
    "ax = sns.barplot(x=monthly_rides.index, y=monthly_rides)\n",
    "ax.set_xticklabels(month_order)\n",
    "plt.title('Ride count by month', fontsize=16);"
   ]
  },
  {
   "cell_type": "markdown",
   "id": "5967d4a2",
   "metadata": {
    "papermill": {
     "duration": 0.02825,
     "end_time": "2024-07-15T12:34:00.570253",
     "exception": false,
     "start_time": "2024-07-15T12:34:00.542003",
     "status": "completed"
    },
    "tags": []
   },
   "source": [
    "The monthly rides are consistent but the summer months July, august and september has some dips."
   ]
  },
  {
   "cell_type": "markdown",
   "id": "38eb504a",
   "metadata": {
    "papermill": {
     "duration": 0.025682,
     "end_time": "2024-07-15T12:34:00.621692",
     "exception": false,
     "start_time": "2024-07-15T12:34:00.596010",
     "status": "completed"
    },
    "tags": []
   },
   "source": [
    "**Analyzing rides by day**"
   ]
  },
  {
   "cell_type": "code",
   "execution_count": 28,
   "id": "3614f217",
   "metadata": {
    "execution": {
     "iopub.execute_input": "2024-07-15T12:34:00.675342Z",
     "iopub.status.busy": "2024-07-15T12:34:00.674918Z",
     "iopub.status.idle": "2024-07-15T12:34:00.725368Z",
     "shell.execute_reply": "2024-07-15T12:34:00.724150Z"
    },
    "papermill": {
     "duration": 0.080664,
     "end_time": "2024-07-15T12:34:00.728236",
     "exception": false,
     "start_time": "2024-07-15T12:34:00.647572",
     "status": "completed"
    },
    "tags": []
   },
   "outputs": [],
   "source": [
    "daily_rides = df['day'].value_counts()"
   ]
  },
  {
   "cell_type": "code",
   "execution_count": 29,
   "id": "80972427",
   "metadata": {
    "execution": {
     "iopub.execute_input": "2024-07-15T12:34:00.782603Z",
     "iopub.status.busy": "2024-07-15T12:34:00.782219Z",
     "iopub.status.idle": "2024-07-15T12:34:00.791896Z",
     "shell.execute_reply": "2024-07-15T12:34:00.790751Z"
    },
    "papermill": {
     "duration": 0.040164,
     "end_time": "2024-07-15T12:34:00.794511",
     "exception": false,
     "start_time": "2024-07-15T12:34:00.754347",
     "status": "completed"
    },
    "tags": []
   },
   "outputs": [
    {
     "data": {
      "text/plain": [
       "day\n",
       "Monday       25243\n",
       "Tuesday      28126\n",
       "Wednesday    29037\n",
       "Thursday     30021\n",
       "Friday       30880\n",
       "Saturday     30251\n",
       "Sunday       26441\n",
       "Name: count, dtype: int64"
      ]
     },
     "execution_count": 29,
     "metadata": {},
     "output_type": "execute_result"
    }
   ],
   "source": [
    "day_order = [\"Monday\",'Tuesday','Wednesday','Thursday','Friday','Saturday','Sunday']\n",
    "daily_rides.reindex(index=day_order)"
   ]
  },
  {
   "cell_type": "code",
   "execution_count": 30,
   "id": "8e2fe6f4",
   "metadata": {
    "execution": {
     "iopub.execute_input": "2024-07-15T12:34:00.848185Z",
     "iopub.status.busy": "2024-07-15T12:34:00.847808Z",
     "iopub.status.idle": "2024-07-15T12:34:01.160111Z",
     "shell.execute_reply": "2024-07-15T12:34:01.158786Z"
    },
    "papermill": {
     "duration": 0.342636,
     "end_time": "2024-07-15T12:34:01.163127",
     "exception": false,
     "start_time": "2024-07-15T12:34:00.820491",
     "status": "completed"
    },
    "tags": []
   },
   "outputs": [
    {
     "data": {
      "image/png": "[encoded data removed]",
      "text/plain": [
       "<Figure size 1200x700 with 1 Axes>"
      ]
     },
     "metadata": {},
     "output_type": "display_data"
    }
   ],
   "source": [
    "plt.figure(figsize=(12,7))\n",
    "ax = sns.barplot(x=daily_rides.index, y=daily_rides)\n",
    "ax.set_xticklabels(day_order)\n",
    "plt.title('Ride count by day', fontsize=16);"
   ]
  },
  {
   "cell_type": "markdown",
   "id": "c3f759c4",
   "metadata": {
    "papermill": {
     "duration": 0.027526,
     "end_time": "2024-07-15T12:34:01.217894",
     "exception": false,
     "start_time": "2024-07-15T12:34:01.190368",
     "status": "completed"
    },
    "tags": []
   },
   "source": [
    "So monday has alot of rides which is obviously start of the week and saturday and sunday has dips dues to holidays."
   ]
  },
  {
   "cell_type": "markdown",
   "id": "6857b84a",
   "metadata": {
    "papermill": {
     "duration": 0.026764,
     "end_time": "2024-07-15T12:34:01.271546",
     "exception": false,
     "start_time": "2024-07-15T12:34:01.244782",
     "status": "completed"
    },
    "tags": []
   },
   "source": [
    "**Revenue per day**"
   ]
  },
  {
   "cell_type": "code",
   "execution_count": 31,
   "id": "6c6f0d43",
   "metadata": {
    "execution": {
     "iopub.execute_input": "2024-07-15T12:34:01.328446Z",
     "iopub.status.busy": "2024-07-15T12:34:01.328019Z",
     "iopub.status.idle": "2024-07-15T12:34:01.348051Z",
     "shell.execute_reply": "2024-07-15T12:34:01.346719Z"
    },
    "papermill": {
     "duration": 0.051462,
     "end_time": "2024-07-15T12:34:01.350908",
     "exception": false,
     "start_time": "2024-07-15T12:34:01.299446",
     "status": "completed"
    },
    "tags": []
   },
   "outputs": [],
   "source": [
    "df_without_date = df.drop(columns=['pickup_datetime'])"
   ]
  },
  {
   "cell_type": "code",
   "execution_count": 32,
   "id": "0e143720",
   "metadata": {
    "execution": {
     "iopub.execute_input": "2024-07-15T12:34:01.407421Z",
     "iopub.status.busy": "2024-07-15T12:34:01.406990Z",
     "iopub.status.idle": "2024-07-15T12:34:02.397297Z",
     "shell.execute_reply": "2024-07-15T12:34:02.396038Z"
    },
    "papermill": {
     "duration": 1.022816,
     "end_time": "2024-07-15T12:34:02.400706",
     "exception": false,
     "start_time": "2024-07-15T12:34:01.377890",
     "status": "completed"
    },
    "tags": []
   },
   "outputs": [],
   "source": [
    "total_amount_per_day = df_without_date.groupby(by='day').sum()[['fare_amount']]\n",
    "total_amount_per_day = total_amount_per_day.reindex(index=day_order)"
   ]
  },
  {
   "cell_type": "code",
   "execution_count": 33,
   "id": "80af4eb4",
   "metadata": {
    "execution": {
     "iopub.execute_input": "2024-07-15T12:34:02.461043Z",
     "iopub.status.busy": "2024-07-15T12:34:02.460522Z",
     "iopub.status.idle": "2024-07-15T12:34:02.474987Z",
     "shell.execute_reply": "2024-07-15T12:34:02.473735Z"
    },
    "papermill": {
     "duration": 0.045916,
     "end_time": "2024-07-15T12:34:02.477759",
     "exception": false,
     "start_time": "2024-07-15T12:34:02.431843",
     "status": "completed"
    },
    "tags": []
   },
   "outputs": [
    {
     "data": {
      "text/html": [
       "<div>\n",
       "<style scoped>\n",
       "    .dataframe tbody tr th:only-of-type {\n",
       "        vertical-align: middle;\n",
       "    }\n",
       "\n",
       "    .dataframe tbody tr th {\n",
       "        vertical-align: top;\n",
       "    }\n",
       "\n",
       "    .dataframe thead th {\n",
       "        text-align: right;\n",
       "    }\n",
       "</style>\n",
       "<table border=\"1\" class=\"dataframe\">\n",
       "  <thead>\n",
       "    <tr style=\"text-align: right;\">\n",
       "      <th></th>\n",
       "      <th>fare_amount</th>\n",
       "    </tr>\n",
       "    <tr>\n",
       "      <th>day</th>\n",
       "      <th></th>\n",
       "    </tr>\n",
       "  </thead>\n",
       "  <tbody>\n",
       "    <tr>\n",
       "      <th>Monday</th>\n",
       "      <td>287228.19</td>\n",
       "    </tr>\n",
       "    <tr>\n",
       "      <th>Tuesday</th>\n",
       "      <td>311504.73</td>\n",
       "    </tr>\n",
       "    <tr>\n",
       "      <th>Wednesday</th>\n",
       "      <td>329608.38</td>\n",
       "    </tr>\n",
       "    <tr>\n",
       "      <th>Thursday</th>\n",
       "      <td>345774.92</td>\n",
       "    </tr>\n",
       "    <tr>\n",
       "      <th>Friday</th>\n",
       "      <td>353260.80</td>\n",
       "    </tr>\n",
       "    <tr>\n",
       "      <th>Saturday</th>\n",
       "      <td>333737.30</td>\n",
       "    </tr>\n",
       "    <tr>\n",
       "      <th>Sunday</th>\n",
       "      <td>310852.63</td>\n",
       "    </tr>\n",
       "  </tbody>\n",
       "</table>\n",
       "</div>"
      ],
      "text/plain": [
       "           fare_amount\n",
       "day                   \n",
       "Monday       287228.19\n",
       "Tuesday      311504.73\n",
       "Wednesday    329608.38\n",
       "Thursday     345774.92\n",
       "Friday       353260.80\n",
       "Saturday     333737.30\n",
       "Sunday       310852.63"
      ]
     },
     "execution_count": 33,
     "metadata": {},
     "output_type": "execute_result"
    }
   ],
   "source": [
    "total_amount_per_day"
   ]
  },
  {
   "cell_type": "code",
   "execution_count": 34,
   "id": "3f9e19f7",
   "metadata": {
    "execution": {
     "iopub.execute_input": "2024-07-15T12:34:02.535536Z",
     "iopub.status.busy": "2024-07-15T12:34:02.534536Z",
     "iopub.status.idle": "2024-07-15T12:34:02.913284Z",
     "shell.execute_reply": "2024-07-15T12:34:02.912144Z"
    },
    "papermill": {
     "duration": 0.410214,
     "end_time": "2024-07-15T12:34:02.915769",
     "exception": false,
     "start_time": "2024-07-15T12:34:02.505555",
     "status": "completed"
    },
    "tags": []
   },
   "outputs": [
    {
     "data": {
      "text/plain": [
       "Text(0.5, 1.0, 'Revenue by day')"
      ]
     },
     "execution_count": 34,
     "metadata": {},
     "output_type": "execute_result"
    },
    {
     "data": {
      "image/png": "[encoded data removed]",
      "text/plain": [
       "<Figure size 1000x500 with 1 Axes>"
      ]
     },
     "metadata": {},
     "output_type": "display_data"
    }
   ],
   "source": [
    "plt.figure(figsize=(10,5))\n",
    "ax = sns.barplot(x=total_amount_per_day.index,y=total_amount_per_day['fare_amount'])\n",
    "ax.set_xticklabels(day_order)\n",
    "ax.set_ylabel(\"Revenue (USD)\")\n",
    "plt.title(\"Revenue by day\")"
   ]
  },
  {
   "cell_type": "markdown",
   "id": "a0453e63",
   "metadata": {
    "papermill": {
     "duration": 0.027028,
     "end_time": "2024-07-15T12:34:02.970298",
     "exception": false,
     "start_time": "2024-07-15T12:34:02.943270",
     "status": "completed"
    },
    "tags": []
   },
   "source": [
    "**Revenue by month**"
   ]
  },
  {
   "cell_type": "code",
   "execution_count": 35,
   "id": "833b6e3f",
   "metadata": {
    "execution": {
     "iopub.execute_input": "2024-07-15T12:34:03.026749Z",
     "iopub.status.busy": "2024-07-15T12:34:03.026311Z",
     "iopub.status.idle": "2024-07-15T12:34:03.727881Z",
     "shell.execute_reply": "2024-07-15T12:34:03.726609Z"
    },
    "papermill": {
     "duration": 0.733286,
     "end_time": "2024-07-15T12:34:03.730746",
     "exception": false,
     "start_time": "2024-07-15T12:34:02.997460",
     "status": "completed"
    },
    "tags": []
   },
   "outputs": [
    {
     "data": {
      "text/html": [
       "<div>\n",
       "<style scoped>\n",
       "    .dataframe tbody tr th:only-of-type {\n",
       "        vertical-align: middle;\n",
       "    }\n",
       "\n",
       "    .dataframe tbody tr th {\n",
       "        vertical-align: top;\n",
       "    }\n",
       "\n",
       "    .dataframe thead th {\n",
       "        text-align: right;\n",
       "    }\n",
       "</style>\n",
       "<table border=\"1\" class=\"dataframe\">\n",
       "  <thead>\n",
       "    <tr style=\"text-align: right;\">\n",
       "      <th></th>\n",
       "      <th>fare_amount</th>\n",
       "    </tr>\n",
       "    <tr>\n",
       "      <th>month</th>\n",
       "      <th></th>\n",
       "    </tr>\n",
       "  </thead>\n",
       "  <tbody>\n",
       "    <tr>\n",
       "      <th>January</th>\n",
       "      <td>189499.77</td>\n",
       "    </tr>\n",
       "    <tr>\n",
       "      <th>February</th>\n",
       "      <td>182453.99</td>\n",
       "    </tr>\n",
       "    <tr>\n",
       "      <th>March</th>\n",
       "      <td>208300.37</td>\n",
       "    </tr>\n",
       "    <tr>\n",
       "      <th>April</th>\n",
       "      <td>210972.89</td>\n",
       "    </tr>\n",
       "    <tr>\n",
       "      <th>May</th>\n",
       "      <td>220246.02</td>\n",
       "    </tr>\n",
       "    <tr>\n",
       "      <th>June</th>\n",
       "      <td>206421.84</td>\n",
       "    </tr>\n",
       "    <tr>\n",
       "      <th>July</th>\n",
       "      <td>168454.49</td>\n",
       "    </tr>\n",
       "    <tr>\n",
       "      <th>August</th>\n",
       "      <td>159351.40</td>\n",
       "    </tr>\n",
       "    <tr>\n",
       "      <th>September</th>\n",
       "      <td>180011.21</td>\n",
       "    </tr>\n",
       "    <tr>\n",
       "      <th>October</th>\n",
       "      <td>190058.67</td>\n",
       "    </tr>\n",
       "    <tr>\n",
       "      <th>November</th>\n",
       "      <td>177806.02</td>\n",
       "    </tr>\n",
       "    <tr>\n",
       "      <th>December</th>\n",
       "      <td>178390.28</td>\n",
       "    </tr>\n",
       "  </tbody>\n",
       "</table>\n",
       "</div>"
      ],
      "text/plain": [
       "           fare_amount\n",
       "month                 \n",
       "January      189499.77\n",
       "February     182453.99\n",
       "March        208300.37\n",
       "April        210972.89\n",
       "May          220246.02\n",
       "June         206421.84\n",
       "July         168454.49\n",
       "August       159351.40\n",
       "September    180011.21\n",
       "October      190058.67\n",
       "November     177806.02\n",
       "December     178390.28"
      ]
     },
     "execution_count": 35,
     "metadata": {},
     "output_type": "execute_result"
    }
   ],
   "source": [
    "total_amount_per_month = df_without_date.groupby(by='month').sum()[['fare_amount']]\n",
    "total_amount_per_month = total_amount_per_month.reindex(index=month_order)\n",
    "total_amount_per_month"
   ]
  },
  {
   "cell_type": "code",
   "execution_count": 36,
   "id": "54bc6938",
   "metadata": {
    "execution": {
     "iopub.execute_input": "2024-07-15T12:34:03.787689Z",
     "iopub.status.busy": "2024-07-15T12:34:03.787252Z",
     "iopub.status.idle": "2024-07-15T12:34:04.148409Z",
     "shell.execute_reply": "2024-07-15T12:34:04.147281Z"
    },
    "papermill": {
     "duration": 0.3928,
     "end_time": "2024-07-15T12:34:04.151249",
     "exception": false,
     "start_time": "2024-07-15T12:34:03.758449",
     "status": "completed"
    },
    "tags": []
   },
   "outputs": [
    {
     "data": {
      "text/plain": [
       "Text(0.5, 1.0, 'Revenue by Month')"
      ]
     },
     "execution_count": 36,
     "metadata": {},
     "output_type": "execute_result"
    },
    {
     "data": {
      "image/png": "[encoded data removed]",
      "text/plain": [
       "<Figure size 1200x700 with 1 Axes>"
      ]
     },
     "metadata": {},
     "output_type": "display_data"
    }
   ],
   "source": [
    "plt.figure(figsize=(12,7))\n",
    "ax = sns.barplot(x=total_amount_per_month.index,y=total_amount_per_month['fare_amount'])\n",
    "ax.set_xticklabels(month_order)\n",
    "ax.set_ylabel(\"Revenue (USD)\")\n",
    "plt.title(\"Revenue by Month\")"
   ]
  },
  {
   "cell_type": "markdown",
   "id": "1254341d",
   "metadata": {
    "papermill": {
     "duration": 0.028882,
     "end_time": "2024-07-15T12:34:04.209008",
     "exception": false,
     "start_time": "2024-07-15T12:34:04.180126",
     "status": "completed"
    },
    "tags": []
   },
   "source": [
    "The revenue per month shows that summer months July, August and september has less revenue than other as shown by trips per month."
   ]
  },
  {
   "cell_type": "markdown",
   "id": "644469f1",
   "metadata": {
    "papermill": {
     "duration": 0.029823,
     "end_time": "2024-07-15T12:34:04.267791",
     "exception": false,
     "start_time": "2024-07-15T12:34:04.237968",
     "status": "completed"
    },
    "tags": []
   },
   "source": [
    "# Now let's do some hypothesis test\n",
    "Is there a relationship between fare amount and no of passenger."
   ]
  },
  {
   "cell_type": "code",
   "execution_count": 37,
   "id": "65bc5ce4",
   "metadata": {
    "execution": {
     "iopub.execute_input": "2024-07-15T12:34:04.329366Z",
     "iopub.status.busy": "2024-07-15T12:34:04.328951Z",
     "iopub.status.idle": "2024-07-15T12:34:04.334465Z",
     "shell.execute_reply": "2024-07-15T12:34:04.333104Z"
    },
    "papermill": {
     "duration": 0.038295,
     "end_time": "2024-07-15T12:34:04.337264",
     "exception": false,
     "start_time": "2024-07-15T12:34:04.298969",
     "status": "completed"
    },
    "tags": []
   },
   "outputs": [],
   "source": [
    "from scipy import stats"
   ]
  },
  {
   "cell_type": "code",
   "execution_count": 38,
   "id": "a4c93a17",
   "metadata": {
    "execution": {
     "iopub.execute_input": "2024-07-15T12:34:04.399688Z",
     "iopub.status.busy": "2024-07-15T12:34:04.399210Z",
     "iopub.status.idle": "2024-07-15T12:34:04.504785Z",
     "shell.execute_reply": "2024-07-15T12:34:04.503553Z"
    },
    "papermill": {
     "duration": 0.138639,
     "end_time": "2024-07-15T12:34:04.507415",
     "exception": false,
     "start_time": "2024-07-15T12:34:04.368776",
     "status": "completed"
    },
    "tags": []
   },
   "outputs": [
    {
     "data": {
      "text/html": [
       "<div>\n",
       "<style scoped>\n",
       "    .dataframe tbody tr th:only-of-type {\n",
       "        vertical-align: middle;\n",
       "    }\n",
       "\n",
       "    .dataframe tbody tr th {\n",
       "        vertical-align: top;\n",
       "    }\n",
       "\n",
       "    .dataframe thead th {\n",
       "        text-align: right;\n",
       "    }\n",
       "</style>\n",
       "<table border=\"1\" class=\"dataframe\">\n",
       "  <thead>\n",
       "    <tr style=\"text-align: right;\">\n",
       "      <th></th>\n",
       "      <th>fare_amount</th>\n",
       "      <th>passenger_count</th>\n",
       "    </tr>\n",
       "  </thead>\n",
       "  <tbody>\n",
       "    <tr>\n",
       "      <th>count</th>\n",
       "      <td>199999.000000</td>\n",
       "      <td>199999.000000</td>\n",
       "    </tr>\n",
       "    <tr>\n",
       "      <th>mean</th>\n",
       "      <td>11.359892</td>\n",
       "      <td>1.684543</td>\n",
       "    </tr>\n",
       "    <tr>\n",
       "      <th>std</th>\n",
       "      <td>9.901760</td>\n",
       "      <td>1.385995</td>\n",
       "    </tr>\n",
       "    <tr>\n",
       "      <th>min</th>\n",
       "      <td>-52.000000</td>\n",
       "      <td>0.000000</td>\n",
       "    </tr>\n",
       "    <tr>\n",
       "      <th>25%</th>\n",
       "      <td>6.000000</td>\n",
       "      <td>1.000000</td>\n",
       "    </tr>\n",
       "    <tr>\n",
       "      <th>50%</th>\n",
       "      <td>8.500000</td>\n",
       "      <td>1.000000</td>\n",
       "    </tr>\n",
       "    <tr>\n",
       "      <th>75%</th>\n",
       "      <td>12.500000</td>\n",
       "      <td>2.000000</td>\n",
       "    </tr>\n",
       "    <tr>\n",
       "      <th>max</th>\n",
       "      <td>499.000000</td>\n",
       "      <td>208.000000</td>\n",
       "    </tr>\n",
       "  </tbody>\n",
       "</table>\n",
       "</div>"
      ],
      "text/plain": [
       "         fare_amount  passenger_count\n",
       "count  199999.000000    199999.000000\n",
       "mean       11.359892         1.684543\n",
       "std         9.901760         1.385995\n",
       "min       -52.000000         0.000000\n",
       "25%         6.000000         1.000000\n",
       "50%         8.500000         1.000000\n",
       "75%        12.500000         2.000000\n",
       "max       499.000000       208.000000"
      ]
     },
     "execution_count": 38,
     "metadata": {},
     "output_type": "execute_result"
    }
   ],
   "source": [
    "df.describe()[['fare_amount','passenger_count']]"
   ]
  },
  {
   "cell_type": "code",
   "execution_count": 39,
   "id": "8846763c",
   "metadata": {
    "execution": {
     "iopub.execute_input": "2024-07-15T12:34:04.568398Z",
     "iopub.status.busy": "2024-07-15T12:34:04.567973Z",
     "iopub.status.idle": "2024-07-15T12:34:04.586886Z",
     "shell.execute_reply": "2024-07-15T12:34:04.585738Z"
    },
    "papermill": {
     "duration": 0.053021,
     "end_time": "2024-07-15T12:34:04.589645",
     "exception": false,
     "start_time": "2024-07-15T12:34:04.536624",
     "status": "completed"
    },
    "tags": []
   },
   "outputs": [
    {
     "data": {
      "text/html": [
       "<div>\n",
       "<style scoped>\n",
       "    .dataframe tbody tr th:only-of-type {\n",
       "        vertical-align: middle;\n",
       "    }\n",
       "\n",
       "    .dataframe tbody tr th {\n",
       "        vertical-align: top;\n",
       "    }\n",
       "\n",
       "    .dataframe thead th {\n",
       "        text-align: right;\n",
       "    }\n",
       "</style>\n",
       "<table border=\"1\" class=\"dataframe\">\n",
       "  <thead>\n",
       "    <tr style=\"text-align: right;\">\n",
       "      <th></th>\n",
       "      <th>fare_amount</th>\n",
       "    </tr>\n",
       "    <tr>\n",
       "      <th>passenger_count</th>\n",
       "      <th></th>\n",
       "    </tr>\n",
       "  </thead>\n",
       "  <tbody>\n",
       "    <tr>\n",
       "      <th>0</th>\n",
       "      <td>9.439266</td>\n",
       "    </tr>\n",
       "    <tr>\n",
       "      <th>1</th>\n",
       "      <td>11.254158</td>\n",
       "    </tr>\n",
       "    <tr>\n",
       "      <th>2</th>\n",
       "      <td>11.784452</td>\n",
       "    </tr>\n",
       "    <tr>\n",
       "      <th>3</th>\n",
       "      <td>11.486731</td>\n",
       "    </tr>\n",
       "    <tr>\n",
       "      <th>4</th>\n",
       "      <td>11.642472</td>\n",
       "    </tr>\n",
       "    <tr>\n",
       "      <th>5</th>\n",
       "      <td>11.199698</td>\n",
       "    </tr>\n",
       "    <tr>\n",
       "      <th>6</th>\n",
       "      <td>12.158537</td>\n",
       "    </tr>\n",
       "    <tr>\n",
       "      <th>208</th>\n",
       "      <td>11.700000</td>\n",
       "    </tr>\n",
       "  </tbody>\n",
       "</table>\n",
       "</div>"
      ],
      "text/plain": [
       "                 fare_amount\n",
       "passenger_count             \n",
       "0                   9.439266\n",
       "1                  11.254158\n",
       "2                  11.784452\n",
       "3                  11.486731\n",
       "4                  11.642472\n",
       "5                  11.199698\n",
       "6                  12.158537\n",
       "208                11.700000"
      ]
     },
     "execution_count": 39,
     "metadata": {},
     "output_type": "execute_result"
    }
   ],
   "source": [
    "df.groupby('passenger_count')[['fare_amount']].mean()"
   ]
  },
  {
   "cell_type": "markdown",
   "id": "824bf681",
   "metadata": {
    "papermill": {
     "duration": 0.028533,
     "end_time": "2024-07-15T12:34:04.647815",
     "exception": false,
     "start_time": "2024-07-15T12:34:04.619282",
     "status": "completed"
    },
    "tags": []
   },
   "source": [
    "As we can see the values of passenger count and fare amount are consistent and we don't see any relationship, but it can be because of random sampling. To find wether these values are statistically signifiacant, let's do some hypothesis testing."
   ]
  },
  {
   "cell_type": "markdown",
   "id": "aa2b70a9",
   "metadata": {
    "papermill": {
     "duration": 0.029688,
     "end_time": "2024-07-15T12:34:04.707169",
     "exception": false,
     "start_time": "2024-07-15T12:34:04.677481",
     "status": "completed"
    },
    "tags": []
   },
   "source": [
    "**Hypothesis** <br>\n",
    "Null Hypothesis: There is no difference between average fare amount based on the no of passenger. <br>\n",
    "Alternative Hypothesis: There is difference between average fare amount based on the no of passenger. "
   ]
  },
  {
   "cell_type": "code",
   "execution_count": 40,
   "id": "be35f688",
   "metadata": {
    "execution": {
     "iopub.execute_input": "2024-07-15T12:34:04.766856Z",
     "iopub.status.busy": "2024-07-15T12:34:04.766398Z",
     "iopub.status.idle": "2024-07-15T12:34:04.817079Z",
     "shell.execute_reply": "2024-07-15T12:34:04.815760Z"
    },
    "papermill": {
     "duration": 0.083763,
     "end_time": "2024-07-15T12:34:04.819928",
     "exception": false,
     "start_time": "2024-07-15T12:34:04.736165",
     "status": "completed"
    },
    "tags": []
   },
   "outputs": [],
   "source": [
    "one_passenger = df[df['passenger_count'] == 1]['fare_amount']\n",
    "two_passenger = df[df['passenger_count'] == 2]['fare_amount']\n",
    "three_passenger = df[df['passenger_count'] == 3]['fare_amount']\n",
    "four_passenger = df[df['passenger_count'] == 4]['fare_amount']\n",
    "five_passenger = df[df['passenger_count'] == 5]['fare_amount']\n",
    "six_passenger = df[df['passenger_count'] == 6]['fare_amount']"
   ]
  },
  {
   "cell_type": "code",
   "execution_count": 41,
   "id": "9e2d3c83",
   "metadata": {
    "execution": {
     "iopub.execute_input": "2024-07-15T12:34:04.879452Z",
     "iopub.status.busy": "2024-07-15T12:34:04.879066Z",
     "iopub.status.idle": "2024-07-15T12:34:04.890548Z",
     "shell.execute_reply": "2024-07-15T12:34:04.889095Z"
    },
    "papermill": {
     "duration": 0.044363,
     "end_time": "2024-07-15T12:34:04.893170",
     "exception": false,
     "start_time": "2024-07-15T12:34:04.848807",
     "status": "completed"
    },
    "tags": []
   },
   "outputs": [
    {
     "name": "stdout",
     "output_type": "stream",
     "text": [
      "F-statistic: 21.20953546719199\n",
      "p-value: 2.838724710616687e-21\n"
     ]
    }
   ],
   "source": [
    "result = stats.f_oneway(one_passenger,two_passenger,three_passenger,four_passenger,five_passenger,six_passenger)\n",
    "print(\"F-statistic:\", result.statistic)\n",
    "print(\"p-value:\", result.pvalue)"
   ]
  },
  {
   "cell_type": "markdown",
   "id": "c696e9ba",
   "metadata": {
    "papermill": {
     "duration": 0.028616,
     "end_time": "2024-07-15T12:34:04.950972",
     "exception": false,
     "start_time": "2024-07-15T12:34:04.922356",
     "status": "completed"
    },
    "tags": []
   },
   "source": [
    "Since the p-value is less than significance level 0.05, so we reject the null hypothesis and conclude that there is a significant difference in the average fare amount based on the number of passengers."
   ]
  },
  {
   "cell_type": "markdown",
   "id": "3ca10987",
   "metadata": {
    "papermill": {
     "duration": 0.028502,
     "end_time": "2024-07-15T12:34:05.008240",
     "exception": false,
     "start_time": "2024-07-15T12:34:04.979738",
     "status": "completed"
    },
    "tags": []
   },
   "source": []
  },
  {
   "cell_type": "markdown",
   "id": "8a11d535",
   "metadata": {
    "papermill": {
     "duration": 0.028979,
     "end_time": "2024-07-15T12:34:05.066168",
     "exception": false,
     "start_time": "2024-07-15T12:34:05.037189",
     "status": "completed"
    },
    "tags": []
   },
   "source": [
    "# Now lets try to fit multiple linear regression model"
   ]
  },
  {
   "cell_type": "code",
   "execution_count": null,
   "id": "12da1b82",
   "metadata": {
    "papermill": {
     "duration": 0.029084,
     "end_time": "2024-07-15T12:34:05.124363",
     "exception": false,
     "start_time": "2024-07-15T12:34:05.095279",
     "status": "completed"
    },
    "tags": []
   },
   "outputs": [],
   "source": []
  }
 ],
 "metadata": {
  "kaggle": {
   "accelerator": "none",
   "dataSources": [
    {
     "datasetId": 1834623,
     "sourceId": 2994100,
     "sourceType": "datasetVersion"
    }
   ],
   "dockerImageVersionId": 30732,
   "isGpuEnabled": false,
   "isInternetEnabled": true,
   "language": "python",
   "sourceType": "notebook"
  },
  "kernelspec": {
   "display_name": "Python 3",
   "language": "python",
   "name": "python3"
  },
  "language_info": {
   "codemirror_mode": {
    "name": "ipython",
    "version": 3
   },
   "file_extension": ".py",
   "mimetype": "text/x-python",
   "name": "python",
   "nbconvert_exporter": "python",
   "pygments_lexer": "ipython3",
   "version": "3.10.13"
  },
  "papermill": {
   "default_parameters": {},
   "duration": 22.455592,
   "end_time": "2024-07-15T12:34:05.876233",
   "environment_variables": {},
   "exception": null,
   "input_path": "__notebook__.ipynb",
   "output_path": "__notebook__.ipynb",
   "parameters": {},
   "start_time": "2024-07-15T12:33:43.420641",
   "version": "2.5.0"
  }
 },
 "nbformat": 4,
 "nbformat_minor": 5
}
