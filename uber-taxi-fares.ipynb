{
 "cells": [
  {
   "cell_type": "code",
   "execution_count": 1,
   "id": "cdbaf74d",
   "metadata": {
    "_cell_guid": "b1076dfc-b9ad-4769-8c92-a6c4dae69d19",
    "_uuid": "8f2839f25d086af736a60e9eeb907d3b93b6e0e5",
    "execution": {
     "iopub.execute_input": "2024-07-16T12:39:51.517001Z",
     "iopub.status.busy": "2024-07-16T12:39:51.516588Z",
     "iopub.status.idle": "2024-07-16T12:39:53.754302Z",
     "shell.execute_reply": "2024-07-16T12:39:53.753169Z"
    },
    "papermill": {
     "duration": 2.26116,
     "end_time": "2024-07-16T12:39:53.756754",
     "exception": false,
     "start_time": "2024-07-16T12:39:51.495594",
     "status": "completed"
    },
    "tags": []
   },
   "outputs": [
    {
     "name": "stdout",
     "output_type": "stream",
     "text": [
      "/kaggle/input/uber-fares-dataset/uber.csv\n"
     ]
    }
   ],
   "source": [
    "import numpy as np \n",
    "import pandas as pd\n",
    "import matplotlib.pyplot as plt\n",
    "import seaborn as sns\n",
    "import datetime as dt\n",
    "\n",
    "import os\n",
    "for dirname, _, filenames in os.walk('/kaggle/input'):\n",
    "    for filename in filenames:\n",
    "        print(os.path.join(dirname, filename))"
   ]
  },
  {
   "cell_type": "markdown",
   "id": "86461513",
   "metadata": {
    "papermill": {
     "duration": 0.019846,
     "end_time": "2024-07-16T12:39:53.796521",
     "exception": false,
     "start_time": "2024-07-16T12:39:53.776675",
     "status": "completed"
    },
    "tags": []
   },
   "source": [
    "**Data Inspection** <br>\n",
    "First we will inspect the data including some samples of data, dypes, columns renaming and missing values identification."
   ]
  },
  {
   "cell_type": "code",
   "execution_count": 2,
   "id": "34b81686",
   "metadata": {
    "execution": {
     "iopub.execute_input": "2024-07-16T12:39:53.835878Z",
     "iopub.status.busy": "2024-07-16T12:39:53.835366Z",
     "iopub.status.idle": "2024-07-16T12:39:54.614692Z",
     "shell.execute_reply": "2024-07-16T12:39:54.613533Z"
    },
    "papermill": {
     "duration": 0.801848,
     "end_time": "2024-07-16T12:39:54.617314",
     "exception": false,
     "start_time": "2024-07-16T12:39:53.815466",
     "status": "completed"
    },
    "tags": []
   },
   "outputs": [],
   "source": [
    "df = pd.read_csv('/kaggle/input/uber-fares-dataset/uber.csv')"
   ]
  },
  {
   "cell_type": "code",
   "execution_count": 3,
   "id": "7c70c56a",
   "metadata": {
    "execution": {
     "iopub.execute_input": "2024-07-16T12:39:54.658535Z",
     "iopub.status.busy": "2024-07-16T12:39:54.657563Z",
     "iopub.status.idle": "2024-07-16T12:39:54.685103Z",
     "shell.execute_reply": "2024-07-16T12:39:54.683794Z"
    },
    "papermill": {
     "duration": 0.050863,
     "end_time": "2024-07-16T12:39:54.687541",
     "exception": false,
     "start_time": "2024-07-16T12:39:54.636678",
     "status": "completed"
    },
    "tags": []
   },
   "outputs": [
    {
     "data": {
      "text/html": [
       "<div>\n",
       "<style scoped>\n",
       "    .dataframe tbody tr th:only-of-type {\n",
       "        vertical-align: middle;\n",
       "    }\n",
       "\n",
       "    .dataframe tbody tr th {\n",
       "        vertical-align: top;\n",
       "    }\n",
       "\n",
       "    .dataframe thead th {\n",
       "        text-align: right;\n",
       "    }\n",
       "</style>\n",
       "<table border=\"1\" class=\"dataframe\">\n",
       "  <thead>\n",
       "    <tr style=\"text-align: right;\">\n",
       "      <th></th>\n",
       "      <th>Unnamed: 0</th>\n",
       "      <th>key</th>\n",
       "      <th>fare_amount</th>\n",
       "      <th>pickup_datetime</th>\n",
       "      <th>pickup_longitude</th>\n",
       "      <th>pickup_latitude</th>\n",
       "      <th>dropoff_longitude</th>\n",
       "      <th>dropoff_latitude</th>\n",
       "      <th>passenger_count</th>\n",
       "    </tr>\n",
       "  </thead>\n",
       "  <tbody>\n",
       "    <tr>\n",
       "      <th>0</th>\n",
       "      <td>24238194</td>\n",
       "      <td>2015-05-07 19:52:06.0000003</td>\n",
       "      <td>7.5</td>\n",
       "      <td>2015-05-07 19:52:06 UTC</td>\n",
       "      <td>-73.999817</td>\n",
       "      <td>40.738354</td>\n",
       "      <td>-73.999512</td>\n",
       "      <td>40.723217</td>\n",
       "      <td>1</td>\n",
       "    </tr>\n",
       "    <tr>\n",
       "      <th>1</th>\n",
       "      <td>27835199</td>\n",
       "      <td>2009-07-17 20:04:56.0000002</td>\n",
       "      <td>7.7</td>\n",
       "      <td>2009-07-17 20:04:56 UTC</td>\n",
       "      <td>-73.994355</td>\n",
       "      <td>40.728225</td>\n",
       "      <td>-73.994710</td>\n",
       "      <td>40.750325</td>\n",
       "      <td>1</td>\n",
       "    </tr>\n",
       "    <tr>\n",
       "      <th>2</th>\n",
       "      <td>44984355</td>\n",
       "      <td>2009-08-24 21:45:00.00000061</td>\n",
       "      <td>12.9</td>\n",
       "      <td>2009-08-24 21:45:00 UTC</td>\n",
       "      <td>-74.005043</td>\n",
       "      <td>40.740770</td>\n",
       "      <td>-73.962565</td>\n",
       "      <td>40.772647</td>\n",
       "      <td>1</td>\n",
       "    </tr>\n",
       "    <tr>\n",
       "      <th>3</th>\n",
       "      <td>25894730</td>\n",
       "      <td>2009-06-26 08:22:21.0000001</td>\n",
       "      <td>5.3</td>\n",
       "      <td>2009-06-26 08:22:21 UTC</td>\n",
       "      <td>-73.976124</td>\n",
       "      <td>40.790844</td>\n",
       "      <td>-73.965316</td>\n",
       "      <td>40.803349</td>\n",
       "      <td>3</td>\n",
       "    </tr>\n",
       "    <tr>\n",
       "      <th>4</th>\n",
       "      <td>17610152</td>\n",
       "      <td>2014-08-28 17:47:00.000000188</td>\n",
       "      <td>16.0</td>\n",
       "      <td>2014-08-28 17:47:00 UTC</td>\n",
       "      <td>-73.925023</td>\n",
       "      <td>40.744085</td>\n",
       "      <td>-73.973082</td>\n",
       "      <td>40.761247</td>\n",
       "      <td>5</td>\n",
       "    </tr>\n",
       "  </tbody>\n",
       "</table>\n",
       "</div>"
      ],
      "text/plain": [
       "   Unnamed: 0                            key  fare_amount  \\\n",
       "0    24238194    2015-05-07 19:52:06.0000003          7.5   \n",
       "1    27835199    2009-07-17 20:04:56.0000002          7.7   \n",
       "2    44984355   2009-08-24 21:45:00.00000061         12.9   \n",
       "3    25894730    2009-06-26 08:22:21.0000001          5.3   \n",
       "4    17610152  2014-08-28 17:47:00.000000188         16.0   \n",
       "\n",
       "           pickup_datetime  pickup_longitude  pickup_latitude  \\\n",
       "0  2015-05-07 19:52:06 UTC        -73.999817        40.738354   \n",
       "1  2009-07-17 20:04:56 UTC        -73.994355        40.728225   \n",
       "2  2009-08-24 21:45:00 UTC        -74.005043        40.740770   \n",
       "3  2009-06-26 08:22:21 UTC        -73.976124        40.790844   \n",
       "4  2014-08-28 17:47:00 UTC        -73.925023        40.744085   \n",
       "\n",
       "   dropoff_longitude  dropoff_latitude  passenger_count  \n",
       "0         -73.999512         40.723217                1  \n",
       "1         -73.994710         40.750325                1  \n",
       "2         -73.962565         40.772647                1  \n",
       "3         -73.965316         40.803349                3  \n",
       "4         -73.973082         40.761247                5  "
      ]
     },
     "execution_count": 3,
     "metadata": {},
     "output_type": "execute_result"
    }
   ],
   "source": [
    "df.head()"
   ]
  },
  {
   "cell_type": "markdown",
   "id": "bee9b00a",
   "metadata": {
    "papermill": {
     "duration": 0.019699,
     "end_time": "2024-07-16T12:39:54.727506",
     "exception": false,
     "start_time": "2024-07-16T12:39:54.707807",
     "status": "completed"
    },
    "tags": []
   },
   "source": [
    "Let's rename the Unnamed to Id and remove the key column as it duplicate of the pickup_datetime"
   ]
  },
  {
   "cell_type": "code",
   "execution_count": 4,
   "id": "f6657416",
   "metadata": {
    "execution": {
     "iopub.execute_input": "2024-07-16T12:39:54.769847Z",
     "iopub.status.busy": "2024-07-16T12:39:54.768804Z",
     "iopub.status.idle": "2024-07-16T12:39:54.797788Z",
     "shell.execute_reply": "2024-07-16T12:39:54.796510Z"
    },
    "papermill": {
     "duration": 0.052057,
     "end_time": "2024-07-16T12:39:54.800455",
     "exception": false,
     "start_time": "2024-07-16T12:39:54.748398",
     "status": "completed"
    },
    "tags": []
   },
   "outputs": [],
   "source": [
    "df = df.rename(columns={\"Unnamed: 0\": \"Id\"})\n",
    "df = df.drop(columns = ['key'])"
   ]
  },
  {
   "cell_type": "code",
   "execution_count": 5,
   "id": "183197a6",
   "metadata": {
    "execution": {
     "iopub.execute_input": "2024-07-16T12:39:54.842271Z",
     "iopub.status.busy": "2024-07-16T12:39:54.841891Z",
     "iopub.status.idle": "2024-07-16T12:39:54.856321Z",
     "shell.execute_reply": "2024-07-16T12:39:54.855320Z"
    },
    "papermill": {
     "duration": 0.037907,
     "end_time": "2024-07-16T12:39:54.858405",
     "exception": false,
     "start_time": "2024-07-16T12:39:54.820498",
     "status": "completed"
    },
    "tags": []
   },
   "outputs": [
    {
     "data": {
      "text/html": [
       "<div>\n",
       "<style scoped>\n",
       "    .dataframe tbody tr th:only-of-type {\n",
       "        vertical-align: middle;\n",
       "    }\n",
       "\n",
       "    .dataframe tbody tr th {\n",
       "        vertical-align: top;\n",
       "    }\n",
       "\n",
       "    .dataframe thead th {\n",
       "        text-align: right;\n",
       "    }\n",
       "</style>\n",
       "<table border=\"1\" class=\"dataframe\">\n",
       "  <thead>\n",
       "    <tr style=\"text-align: right;\">\n",
       "      <th></th>\n",
       "      <th>Id</th>\n",
       "      <th>fare_amount</th>\n",
       "      <th>pickup_datetime</th>\n",
       "      <th>pickup_longitude</th>\n",
       "      <th>pickup_latitude</th>\n",
       "      <th>dropoff_longitude</th>\n",
       "      <th>dropoff_latitude</th>\n",
       "      <th>passenger_count</th>\n",
       "    </tr>\n",
       "  </thead>\n",
       "  <tbody>\n",
       "    <tr>\n",
       "      <th>0</th>\n",
       "      <td>24238194</td>\n",
       "      <td>7.5</td>\n",
       "      <td>2015-05-07 19:52:06 UTC</td>\n",
       "      <td>-73.999817</td>\n",
       "      <td>40.738354</td>\n",
       "      <td>-73.999512</td>\n",
       "      <td>40.723217</td>\n",
       "      <td>1</td>\n",
       "    </tr>\n",
       "    <tr>\n",
       "      <th>1</th>\n",
       "      <td>27835199</td>\n",
       "      <td>7.7</td>\n",
       "      <td>2009-07-17 20:04:56 UTC</td>\n",
       "      <td>-73.994355</td>\n",
       "      <td>40.728225</td>\n",
       "      <td>-73.994710</td>\n",
       "      <td>40.750325</td>\n",
       "      <td>1</td>\n",
       "    </tr>\n",
       "    <tr>\n",
       "      <th>2</th>\n",
       "      <td>44984355</td>\n",
       "      <td>12.9</td>\n",
       "      <td>2009-08-24 21:45:00 UTC</td>\n",
       "      <td>-74.005043</td>\n",
       "      <td>40.740770</td>\n",
       "      <td>-73.962565</td>\n",
       "      <td>40.772647</td>\n",
       "      <td>1</td>\n",
       "    </tr>\n",
       "    <tr>\n",
       "      <th>3</th>\n",
       "      <td>25894730</td>\n",
       "      <td>5.3</td>\n",
       "      <td>2009-06-26 08:22:21 UTC</td>\n",
       "      <td>-73.976124</td>\n",
       "      <td>40.790844</td>\n",
       "      <td>-73.965316</td>\n",
       "      <td>40.803349</td>\n",
       "      <td>3</td>\n",
       "    </tr>\n",
       "    <tr>\n",
       "      <th>4</th>\n",
       "      <td>17610152</td>\n",
       "      <td>16.0</td>\n",
       "      <td>2014-08-28 17:47:00 UTC</td>\n",
       "      <td>-73.925023</td>\n",
       "      <td>40.744085</td>\n",
       "      <td>-73.973082</td>\n",
       "      <td>40.761247</td>\n",
       "      <td>5</td>\n",
       "    </tr>\n",
       "  </tbody>\n",
       "</table>\n",
       "</div>"
      ],
      "text/plain": [
       "         Id  fare_amount          pickup_datetime  pickup_longitude  \\\n",
       "0  24238194          7.5  2015-05-07 19:52:06 UTC        -73.999817   \n",
       "1  27835199          7.7  2009-07-17 20:04:56 UTC        -73.994355   \n",
       "2  44984355         12.9  2009-08-24 21:45:00 UTC        -74.005043   \n",
       "3  25894730          5.3  2009-06-26 08:22:21 UTC        -73.976124   \n",
       "4  17610152         16.0  2014-08-28 17:47:00 UTC        -73.925023   \n",
       "\n",
       "   pickup_latitude  dropoff_longitude  dropoff_latitude  passenger_count  \n",
       "0        40.738354         -73.999512         40.723217                1  \n",
       "1        40.728225         -73.994710         40.750325                1  \n",
       "2        40.740770         -73.962565         40.772647                1  \n",
       "3        40.790844         -73.965316         40.803349                3  \n",
       "4        40.744085         -73.973082         40.761247                5  "
      ]
     },
     "execution_count": 5,
     "metadata": {},
     "output_type": "execute_result"
    }
   ],
   "source": [
    "df.head()"
   ]
  },
  {
   "cell_type": "code",
   "execution_count": 6,
   "id": "c0567f59",
   "metadata": {
    "execution": {
     "iopub.execute_input": "2024-07-16T12:39:54.899219Z",
     "iopub.status.busy": "2024-07-16T12:39:54.898821Z",
     "iopub.status.idle": "2024-07-16T12:39:54.930913Z",
     "shell.execute_reply": "2024-07-16T12:39:54.929797Z"
    },
    "papermill": {
     "duration": 0.055266,
     "end_time": "2024-07-16T12:39:54.933365",
     "exception": false,
     "start_time": "2024-07-16T12:39:54.878099",
     "status": "completed"
    },
    "tags": []
   },
   "outputs": [
    {
     "name": "stdout",
     "output_type": "stream",
     "text": [
      "<class 'pandas.core.frame.DataFrame'>\n",
      "RangeIndex: 200000 entries, 0 to 199999\n",
      "Data columns (total 8 columns):\n",
      " #   Column             Non-Null Count   Dtype  \n",
      "---  ------             --------------   -----  \n",
      " 0   Id                 200000 non-null  int64  \n",
      " 1   fare_amount        200000 non-null  float64\n",
      " 2   pickup_datetime    200000 non-null  object \n",
      " 3   pickup_longitude   200000 non-null  float64\n",
      " 4   pickup_latitude    200000 non-null  float64\n",
      " 5   dropoff_longitude  199999 non-null  float64\n",
      " 6   dropoff_latitude   199999 non-null  float64\n",
      " 7   passenger_count    200000 non-null  int64  \n",
      "dtypes: float64(5), int64(2), object(1)\n",
      "memory usage: 12.2+ MB\n"
     ]
    }
   ],
   "source": [
    "df.info()"
   ]
  },
  {
   "cell_type": "markdown",
   "id": "2613de95",
   "metadata": {
    "papermill": {
     "duration": 0.019986,
     "end_time": "2024-07-16T12:39:54.972942",
     "exception": false,
     "start_time": "2024-07-16T12:39:54.952956",
     "status": "completed"
    },
    "tags": []
   },
   "source": [
    "As the info shows that the two cols has missing values. Let's find them."
   ]
  },
  {
   "cell_type": "code",
   "execution_count": 7,
   "id": "b8c63777",
   "metadata": {
    "execution": {
     "iopub.execute_input": "2024-07-16T12:39:55.013701Z",
     "iopub.status.busy": "2024-07-16T12:39:55.013341Z",
     "iopub.status.idle": "2024-07-16T12:39:55.031730Z",
     "shell.execute_reply": "2024-07-16T12:39:55.030247Z"
    },
    "papermill": {
     "duration": 0.041749,
     "end_time": "2024-07-16T12:39:55.034474",
     "exception": false,
     "start_time": "2024-07-16T12:39:54.992725",
     "status": "completed"
    },
    "tags": []
   },
   "outputs": [
    {
     "name": "stdout",
     "output_type": "stream",
     "text": [
      "Id                   0\n",
      "fare_amount          0\n",
      "pickup_datetime      0\n",
      "pickup_longitude     0\n",
      "pickup_latitude      0\n",
      "dropoff_longitude    1\n",
      "dropoff_latitude     1\n",
      "passenger_count      0\n",
      "dtype: int64\n"
     ]
    }
   ],
   "source": [
    "missing_values = df.isnull().sum()\n",
    "print(missing_values)"
   ]
  },
  {
   "cell_type": "markdown",
   "id": "08645bd3",
   "metadata": {
    "papermill": {
     "duration": 0.019483,
     "end_time": "2024-07-16T12:39:55.073689",
     "exception": false,
     "start_time": "2024-07-16T12:39:55.054206",
     "status": "completed"
    },
    "tags": []
   },
   "source": [
    "The dropoff_longitued and dropoff_latitude column has 1 missing value. first we will identify and analyze it."
   ]
  },
  {
   "cell_type": "code",
   "execution_count": 8,
   "id": "87f39cc3",
   "metadata": {
    "execution": {
     "iopub.execute_input": "2024-07-16T12:39:55.172441Z",
     "iopub.status.busy": "2024-07-16T12:39:55.172074Z",
     "iopub.status.idle": "2024-07-16T12:39:55.198696Z",
     "shell.execute_reply": "2024-07-16T12:39:55.197626Z"
    },
    "papermill": {
     "duration": 0.049848,
     "end_time": "2024-07-16T12:39:55.200890",
     "exception": false,
     "start_time": "2024-07-16T12:39:55.151042",
     "status": "completed"
    },
    "tags": []
   },
   "outputs": [
    {
     "data": {
      "text/html": [
       "<div>\n",
       "<style scoped>\n",
       "    .dataframe tbody tr th:only-of-type {\n",
       "        vertical-align: middle;\n",
       "    }\n",
       "\n",
       "    .dataframe tbody tr th {\n",
       "        vertical-align: top;\n",
       "    }\n",
       "\n",
       "    .dataframe thead th {\n",
       "        text-align: right;\n",
       "    }\n",
       "</style>\n",
       "<table border=\"1\" class=\"dataframe\">\n",
       "  <thead>\n",
       "    <tr style=\"text-align: right;\">\n",
       "      <th></th>\n",
       "      <th>Id</th>\n",
       "      <th>fare_amount</th>\n",
       "      <th>pickup_datetime</th>\n",
       "      <th>pickup_longitude</th>\n",
       "      <th>pickup_latitude</th>\n",
       "      <th>dropoff_longitude</th>\n",
       "      <th>dropoff_latitude</th>\n",
       "      <th>passenger_count</th>\n",
       "    </tr>\n",
       "  </thead>\n",
       "  <tbody>\n",
       "    <tr>\n",
       "      <th>87946</th>\n",
       "      <td>32736015</td>\n",
       "      <td>24.1</td>\n",
       "      <td>2013-07-02 03:51:57 UTC</td>\n",
       "      <td>-73.950581</td>\n",
       "      <td>40.779692</td>\n",
       "      <td>NaN</td>\n",
       "      <td>NaN</td>\n",
       "      <td>0</td>\n",
       "    </tr>\n",
       "  </tbody>\n",
       "</table>\n",
       "</div>"
      ],
      "text/plain": [
       "             Id  fare_amount          pickup_datetime  pickup_longitude  \\\n",
       "87946  32736015         24.1  2013-07-02 03:51:57 UTC        -73.950581   \n",
       "\n",
       "       pickup_latitude  dropoff_longitude  dropoff_latitude  passenger_count  \n",
       "87946        40.779692                NaN               NaN                0  "
      ]
     },
     "execution_count": 8,
     "metadata": {},
     "output_type": "execute_result"
    }
   ],
   "source": [
    "rows_with_missing = df[df.isnull().any(axis=1)]\n",
    "rows_with_missing.head()"
   ]
  },
  {
   "cell_type": "markdown",
   "id": "31beff22",
   "metadata": {
    "papermill": {
     "duration": 0.019867,
     "end_time": "2024-07-16T12:39:55.240844",
     "exception": false,
     "start_time": "2024-07-16T12:39:55.220977",
     "status": "completed"
    },
    "tags": []
   },
   "source": [
    "since this is only one row and passenger_count is also 0, and key is datatime it is a mistake and will remove it."
   ]
  },
  {
   "cell_type": "code",
   "execution_count": 9,
   "id": "1259cfee",
   "metadata": {
    "execution": {
     "iopub.execute_input": "2024-07-16T12:39:55.282118Z",
     "iopub.status.busy": "2024-07-16T12:39:55.281763Z",
     "iopub.status.idle": "2024-07-16T12:39:55.319926Z",
     "shell.execute_reply": "2024-07-16T12:39:55.318838Z"
    },
    "papermill": {
     "duration": 0.06172,
     "end_time": "2024-07-16T12:39:55.322338",
     "exception": false,
     "start_time": "2024-07-16T12:39:55.260618",
     "status": "completed"
    },
    "tags": []
   },
   "outputs": [
    {
     "name": "stdout",
     "output_type": "stream",
     "text": [
      "Id                   0\n",
      "fare_amount          0\n",
      "pickup_datetime      0\n",
      "pickup_longitude     0\n",
      "pickup_latitude      0\n",
      "dropoff_longitude    0\n",
      "dropoff_latitude     0\n",
      "passenger_count      0\n",
      "dtype: int64\n"
     ]
    }
   ],
   "source": [
    "df = df.dropna()\n",
    "\n",
    "# Verify that there are no more missing values\n",
    "print(df.isnull().sum())"
   ]
  },
  {
   "cell_type": "markdown",
   "id": "7166a379",
   "metadata": {
    "papermill": {
     "duration": 0.019775,
     "end_time": "2024-07-16T12:39:55.362233",
     "exception": false,
     "start_time": "2024-07-16T12:39:55.342458",
     "status": "completed"
    },
    "tags": []
   },
   "source": [
    "Now let's look at dypes."
   ]
  },
  {
   "cell_type": "markdown",
   "id": "6e9806ea",
   "metadata": {
    "papermill": {
     "duration": 0.019883,
     "end_time": "2024-07-16T12:39:55.402120",
     "exception": false,
     "start_time": "2024-07-16T12:39:55.382237",
     "status": "completed"
    },
    "tags": []
   },
   "source": [
    "Since you can see that pickup_datetime is object lets convert it to datetime. first we will import datatime."
   ]
  },
  {
   "cell_type": "code",
   "execution_count": 10,
   "id": "8fc4b94a",
   "metadata": {
    "execution": {
     "iopub.execute_input": "2024-07-16T12:39:55.443795Z",
     "iopub.status.busy": "2024-07-16T12:39:55.443383Z",
     "iopub.status.idle": "2024-07-16T12:39:58.206124Z",
     "shell.execute_reply": "2024-07-16T12:39:58.205194Z"
    },
    "papermill": {
     "duration": 2.786778,
     "end_time": "2024-07-16T12:39:58.208877",
     "exception": false,
     "start_time": "2024-07-16T12:39:55.422099",
     "status": "completed"
    },
    "tags": []
   },
   "outputs": [],
   "source": [
    "df['pickup_datetime'] = pd.to_datetime(df['pickup_datetime'])"
   ]
  },
  {
   "cell_type": "code",
   "execution_count": 11,
   "id": "1c5979c3",
   "metadata": {
    "execution": {
     "iopub.execute_input": "2024-07-16T12:39:58.251230Z",
     "iopub.status.busy": "2024-07-16T12:39:58.250817Z",
     "iopub.status.idle": "2024-07-16T12:39:58.259381Z",
     "shell.execute_reply": "2024-07-16T12:39:58.258374Z"
    },
    "papermill": {
     "duration": 0.032144,
     "end_time": "2024-07-16T12:39:58.261571",
     "exception": false,
     "start_time": "2024-07-16T12:39:58.229427",
     "status": "completed"
    },
    "tags": []
   },
   "outputs": [
    {
     "data": {
      "text/plain": [
       "0   2015-05-07 19:52:06+00:00\n",
       "1   2009-07-17 20:04:56+00:00\n",
       "2   2009-08-24 21:45:00+00:00\n",
       "3   2009-06-26 08:22:21+00:00\n",
       "4   2014-08-28 17:47:00+00:00\n",
       "Name: pickup_datetime, dtype: datetime64[ns, UTC]"
      ]
     },
     "execution_count": 11,
     "metadata": {},
     "output_type": "execute_result"
    }
   ],
   "source": [
    "df['pickup_datetime'].head()"
   ]
  },
  {
   "cell_type": "markdown",
   "id": "21c5f0a3",
   "metadata": {
    "papermill": {
     "duration": 0.021006,
     "end_time": "2024-07-16T12:39:58.304502",
     "exception": false,
     "start_time": "2024-07-16T12:39:58.283496",
     "status": "completed"
    },
    "tags": []
   },
   "source": [
    "**distance column** <br>\n",
    "As we latitude and longitude and did'nt have the distance column, so let's create one from it."
   ]
  },
  {
   "cell_type": "code",
   "execution_count": 12,
   "id": "c7b8ce55",
   "metadata": {
    "execution": {
     "iopub.execute_input": "2024-07-16T12:39:58.348758Z",
     "iopub.status.busy": "2024-07-16T12:39:58.348366Z",
     "iopub.status.idle": "2024-07-16T12:39:58.389387Z",
     "shell.execute_reply": "2024-07-16T12:39:58.388240Z"
    },
    "papermill": {
     "duration": 0.066129,
     "end_time": "2024-07-16T12:39:58.392026",
     "exception": false,
     "start_time": "2024-07-16T12:39:58.325897",
     "status": "completed"
    },
    "tags": []
   },
   "outputs": [],
   "source": [
    "def haversine(lat1, lon1, lat2, lon2):\n",
    "    R = 6371  # Earth radius in kilometers\n",
    "\n",
    "    # Convert degrees to radians\n",
    "    lat1 = np.radians(lat1)\n",
    "    lon1 = np.radians(lon1)\n",
    "    lat2 = np.radians(lat2)\n",
    "    lon2 = np.radians(lon2)\n",
    "\n",
    "    # Haversine formula\n",
    "    dlat = lat2 - lat1\n",
    "    dlon = lon2 - lon1\n",
    "    a = np.sin(dlat / 2)**2 + np.cos(lat1) * np.cos(lat2) * np.sin(dlon / 2)**2\n",
    "    c = 2 * np.arctan2(np.sqrt(a), np.sqrt(1 - a))\n",
    "    distance = R * c\n",
    "\n",
    "    return distance\n",
    "\n",
    "# Apply the function to calculate distance for each row\n",
    "df['distance_km'] = haversine(df['pickup_latitude'], df['pickup_longitude'],\n",
    "                              df['dropoff_latitude'], df['dropoff_longitude'])"
   ]
  },
  {
   "cell_type": "code",
   "execution_count": 13,
   "id": "3a9fdf6e",
   "metadata": {
    "execution": {
     "iopub.execute_input": "2024-07-16T12:39:58.436717Z",
     "iopub.status.busy": "2024-07-16T12:39:58.435852Z",
     "iopub.status.idle": "2024-07-16T12:39:58.450965Z",
     "shell.execute_reply": "2024-07-16T12:39:58.449944Z"
    },
    "papermill": {
     "duration": 0.040151,
     "end_time": "2024-07-16T12:39:58.453313",
     "exception": false,
     "start_time": "2024-07-16T12:39:58.413162",
     "status": "completed"
    },
    "tags": []
   },
   "outputs": [
    {
     "data": {
      "text/html": [
       "<div>\n",
       "<style scoped>\n",
       "    .dataframe tbody tr th:only-of-type {\n",
       "        vertical-align: middle;\n",
       "    }\n",
       "\n",
       "    .dataframe tbody tr th {\n",
       "        vertical-align: top;\n",
       "    }\n",
       "\n",
       "    .dataframe thead th {\n",
       "        text-align: right;\n",
       "    }\n",
       "</style>\n",
       "<table border=\"1\" class=\"dataframe\">\n",
       "  <thead>\n",
       "    <tr style=\"text-align: right;\">\n",
       "      <th></th>\n",
       "      <th>Id</th>\n",
       "      <th>fare_amount</th>\n",
       "      <th>pickup_datetime</th>\n",
       "      <th>pickup_longitude</th>\n",
       "      <th>pickup_latitude</th>\n",
       "      <th>dropoff_longitude</th>\n",
       "      <th>dropoff_latitude</th>\n",
       "      <th>passenger_count</th>\n",
       "      <th>distance_km</th>\n",
       "    </tr>\n",
       "  </thead>\n",
       "  <tbody>\n",
       "    <tr>\n",
       "      <th>0</th>\n",
       "      <td>24238194</td>\n",
       "      <td>7.5</td>\n",
       "      <td>2015-05-07 19:52:06+00:00</td>\n",
       "      <td>-73.999817</td>\n",
       "      <td>40.738354</td>\n",
       "      <td>-73.999512</td>\n",
       "      <td>40.723217</td>\n",
       "      <td>1</td>\n",
       "      <td>1.683323</td>\n",
       "    </tr>\n",
       "    <tr>\n",
       "      <th>1</th>\n",
       "      <td>27835199</td>\n",
       "      <td>7.7</td>\n",
       "      <td>2009-07-17 20:04:56+00:00</td>\n",
       "      <td>-73.994355</td>\n",
       "      <td>40.728225</td>\n",
       "      <td>-73.994710</td>\n",
       "      <td>40.750325</td>\n",
       "      <td>1</td>\n",
       "      <td>2.457590</td>\n",
       "    </tr>\n",
       "    <tr>\n",
       "      <th>2</th>\n",
       "      <td>44984355</td>\n",
       "      <td>12.9</td>\n",
       "      <td>2009-08-24 21:45:00+00:00</td>\n",
       "      <td>-74.005043</td>\n",
       "      <td>40.740770</td>\n",
       "      <td>-73.962565</td>\n",
       "      <td>40.772647</td>\n",
       "      <td>1</td>\n",
       "      <td>5.036377</td>\n",
       "    </tr>\n",
       "    <tr>\n",
       "      <th>3</th>\n",
       "      <td>25894730</td>\n",
       "      <td>5.3</td>\n",
       "      <td>2009-06-26 08:22:21+00:00</td>\n",
       "      <td>-73.976124</td>\n",
       "      <td>40.790844</td>\n",
       "      <td>-73.965316</td>\n",
       "      <td>40.803349</td>\n",
       "      <td>3</td>\n",
       "      <td>1.661683</td>\n",
       "    </tr>\n",
       "    <tr>\n",
       "      <th>4</th>\n",
       "      <td>17610152</td>\n",
       "      <td>16.0</td>\n",
       "      <td>2014-08-28 17:47:00+00:00</td>\n",
       "      <td>-73.925023</td>\n",
       "      <td>40.744085</td>\n",
       "      <td>-73.973082</td>\n",
       "      <td>40.761247</td>\n",
       "      <td>5</td>\n",
       "      <td>4.475450</td>\n",
       "    </tr>\n",
       "  </tbody>\n",
       "</table>\n",
       "</div>"
      ],
      "text/plain": [
       "         Id  fare_amount           pickup_datetime  pickup_longitude  \\\n",
       "0  24238194          7.5 2015-05-07 19:52:06+00:00        -73.999817   \n",
       "1  27835199          7.7 2009-07-17 20:04:56+00:00        -73.994355   \n",
       "2  44984355         12.9 2009-08-24 21:45:00+00:00        -74.005043   \n",
       "3  25894730          5.3 2009-06-26 08:22:21+00:00        -73.976124   \n",
       "4  17610152         16.0 2014-08-28 17:47:00+00:00        -73.925023   \n",
       "\n",
       "   pickup_latitude  dropoff_longitude  dropoff_latitude  passenger_count  \\\n",
       "0        40.738354         -73.999512         40.723217                1   \n",
       "1        40.728225         -73.994710         40.750325                1   \n",
       "2        40.740770         -73.962565         40.772647                1   \n",
       "3        40.790844         -73.965316         40.803349                3   \n",
       "4        40.744085         -73.973082         40.761247                5   \n",
       "\n",
       "   distance_km  \n",
       "0     1.683323  \n",
       "1     2.457590  \n",
       "2     5.036377  \n",
       "3     1.661683  \n",
       "4     4.475450  "
      ]
     },
     "execution_count": 13,
     "metadata": {},
     "output_type": "execute_result"
    }
   ],
   "source": [
    "df.head()"
   ]
  },
  {
   "cell_type": "markdown",
   "id": "9b33c199",
   "metadata": {
    "papermill": {
     "duration": 0.020143,
     "end_time": "2024-07-16T12:39:58.494089",
     "exception": false,
     "start_time": "2024-07-16T12:39:58.473946",
     "status": "completed"
    },
    "tags": []
   },
   "source": [
    "**Exploratory Data Analysis (EDA):** <br>\n",
    "Let explore some statistics of the data. "
   ]
  },
  {
   "cell_type": "code",
   "execution_count": 14,
   "id": "232d1a1a",
   "metadata": {
    "execution": {
     "iopub.execute_input": "2024-07-16T12:39:58.536250Z",
     "iopub.status.busy": "2024-07-16T12:39:58.535900Z",
     "iopub.status.idle": "2024-07-16T12:39:58.637435Z",
     "shell.execute_reply": "2024-07-16T12:39:58.636314Z"
    },
    "papermill": {
     "duration": 0.125243,
     "end_time": "2024-07-16T12:39:58.639744",
     "exception": false,
     "start_time": "2024-07-16T12:39:58.514501",
     "status": "completed"
    },
    "tags": []
   },
   "outputs": [
    {
     "data": {
      "text/html": [
       "<div>\n",
       "<style scoped>\n",
       "    .dataframe tbody tr th:only-of-type {\n",
       "        vertical-align: middle;\n",
       "    }\n",
       "\n",
       "    .dataframe tbody tr th {\n",
       "        vertical-align: top;\n",
       "    }\n",
       "\n",
       "    .dataframe thead th {\n",
       "        text-align: right;\n",
       "    }\n",
       "</style>\n",
       "<table border=\"1\" class=\"dataframe\">\n",
       "  <thead>\n",
       "    <tr style=\"text-align: right;\">\n",
       "      <th></th>\n",
       "      <th>Id</th>\n",
       "      <th>fare_amount</th>\n",
       "      <th>pickup_longitude</th>\n",
       "      <th>pickup_latitude</th>\n",
       "      <th>dropoff_longitude</th>\n",
       "      <th>dropoff_latitude</th>\n",
       "      <th>passenger_count</th>\n",
       "      <th>distance_km</th>\n",
       "    </tr>\n",
       "  </thead>\n",
       "  <tbody>\n",
       "    <tr>\n",
       "      <th>count</th>\n",
       "      <td>1.999990e+05</td>\n",
       "      <td>199999.000000</td>\n",
       "      <td>199999.000000</td>\n",
       "      <td>199999.000000</td>\n",
       "      <td>199999.000000</td>\n",
       "      <td>199999.000000</td>\n",
       "      <td>199999.000000</td>\n",
       "      <td>199999.000000</td>\n",
       "    </tr>\n",
       "    <tr>\n",
       "      <th>mean</th>\n",
       "      <td>2.771248e+07</td>\n",
       "      <td>11.359892</td>\n",
       "      <td>-72.527631</td>\n",
       "      <td>39.935881</td>\n",
       "      <td>-72.525292</td>\n",
       "      <td>39.923890</td>\n",
       "      <td>1.684543</td>\n",
       "      <td>20.855350</td>\n",
       "    </tr>\n",
       "    <tr>\n",
       "      <th>std</th>\n",
       "      <td>1.601386e+07</td>\n",
       "      <td>9.901760</td>\n",
       "      <td>11.437815</td>\n",
       "      <td>7.720558</td>\n",
       "      <td>13.117408</td>\n",
       "      <td>6.794829</td>\n",
       "      <td>1.385995</td>\n",
       "      <td>382.964642</td>\n",
       "    </tr>\n",
       "    <tr>\n",
       "      <th>min</th>\n",
       "      <td>1.000000e+00</td>\n",
       "      <td>-52.000000</td>\n",
       "      <td>-1340.648410</td>\n",
       "      <td>-74.015515</td>\n",
       "      <td>-3356.666300</td>\n",
       "      <td>-881.985513</td>\n",
       "      <td>0.000000</td>\n",
       "      <td>0.000000</td>\n",
       "    </tr>\n",
       "    <tr>\n",
       "      <th>25%</th>\n",
       "      <td>1.382534e+07</td>\n",
       "      <td>6.000000</td>\n",
       "      <td>-73.992065</td>\n",
       "      <td>40.734796</td>\n",
       "      <td>-73.991407</td>\n",
       "      <td>40.733823</td>\n",
       "      <td>1.000000</td>\n",
       "      <td>1.215222</td>\n",
       "    </tr>\n",
       "    <tr>\n",
       "      <th>50%</th>\n",
       "      <td>2.774524e+07</td>\n",
       "      <td>8.500000</td>\n",
       "      <td>-73.981823</td>\n",
       "      <td>40.752592</td>\n",
       "      <td>-73.980093</td>\n",
       "      <td>40.753042</td>\n",
       "      <td>1.000000</td>\n",
       "      <td>2.120992</td>\n",
       "    </tr>\n",
       "    <tr>\n",
       "      <th>75%</th>\n",
       "      <td>4.155535e+07</td>\n",
       "      <td>12.500000</td>\n",
       "      <td>-73.967154</td>\n",
       "      <td>40.767158</td>\n",
       "      <td>-73.963658</td>\n",
       "      <td>40.768001</td>\n",
       "      <td>2.000000</td>\n",
       "      <td>3.875169</td>\n",
       "    </tr>\n",
       "    <tr>\n",
       "      <th>max</th>\n",
       "      <td>5.542357e+07</td>\n",
       "      <td>499.000000</td>\n",
       "      <td>57.418457</td>\n",
       "      <td>1644.421482</td>\n",
       "      <td>1153.572603</td>\n",
       "      <td>872.697628</td>\n",
       "      <td>208.000000</td>\n",
       "      <td>16409.239135</td>\n",
       "    </tr>\n",
       "  </tbody>\n",
       "</table>\n",
       "</div>"
      ],
      "text/plain": [
       "                 Id    fare_amount  pickup_longitude  pickup_latitude  \\\n",
       "count  1.999990e+05  199999.000000     199999.000000    199999.000000   \n",
       "mean   2.771248e+07      11.359892        -72.527631        39.935881   \n",
       "std    1.601386e+07       9.901760         11.437815         7.720558   \n",
       "min    1.000000e+00     -52.000000      -1340.648410       -74.015515   \n",
       "25%    1.382534e+07       6.000000        -73.992065        40.734796   \n",
       "50%    2.774524e+07       8.500000        -73.981823        40.752592   \n",
       "75%    4.155535e+07      12.500000        -73.967154        40.767158   \n",
       "max    5.542357e+07     499.000000         57.418457      1644.421482   \n",
       "\n",
       "       dropoff_longitude  dropoff_latitude  passenger_count    distance_km  \n",
       "count      199999.000000     199999.000000    199999.000000  199999.000000  \n",
       "mean          -72.525292         39.923890         1.684543      20.855350  \n",
       "std            13.117408          6.794829         1.385995     382.964642  \n",
       "min         -3356.666300       -881.985513         0.000000       0.000000  \n",
       "25%           -73.991407         40.733823         1.000000       1.215222  \n",
       "50%           -73.980093         40.753042         1.000000       2.120992  \n",
       "75%           -73.963658         40.768001         2.000000       3.875169  \n",
       "max          1153.572603        872.697628       208.000000   16409.239135  "
      ]
     },
     "execution_count": 14,
     "metadata": {},
     "output_type": "execute_result"
    }
   ],
   "source": [
    "df.describe()"
   ]
  },
  {
   "cell_type": "markdown",
   "id": "efab03ad",
   "metadata": {
    "papermill": {
     "duration": 0.020337,
     "end_time": "2024-07-16T12:39:58.680742",
     "exception": false,
     "start_time": "2024-07-16T12:39:58.660405",
     "status": "completed"
    },
    "tags": []
   },
   "source": [
    "There are significant outliers in fare_amount, pickup_longitude, pickup_latitude, dropoff_longitude, dropoff_latitude, and passenger_count. For example the minimum fare_amount is -52 (clearly an outlier) and max is 499(too high, an outlier)."
   ]
  },
  {
   "cell_type": "markdown",
   "id": "43e27d1b",
   "metadata": {
    "papermill": {
     "duration": 0.020209,
     "end_time": "2024-07-16T12:39:58.721339",
     "exception": false,
     "start_time": "2024-07-16T12:39:58.701130",
     "status": "completed"
    },
    "tags": []
   },
   "source": [
    "**Visualizations** <br>\n",
    "Let's create some box plots to find outliers in the dataset and histograms for finding the distribution of the data."
   ]
  },
  {
   "cell_type": "code",
   "execution_count": 15,
   "id": "1b89de83",
   "metadata": {
    "execution": {
     "iopub.execute_input": "2024-07-16T12:39:58.764342Z",
     "iopub.status.busy": "2024-07-16T12:39:58.764000Z",
     "iopub.status.idle": "2024-07-16T12:39:59.012260Z",
     "shell.execute_reply": "2024-07-16T12:39:59.011092Z"
    },
    "papermill": {
     "duration": 0.27255,
     "end_time": "2024-07-16T12:39:59.014600",
     "exception": false,
     "start_time": "2024-07-16T12:39:58.742050",
     "status": "completed"
    },
    "tags": []
   },
   "outputs": [
    {
     "data": {
      "text/plain": [
       "<Axes: title={'center': 'distance in km'}, xlabel='distance_km'>"
      ]
     },
     "execution_count": 15,
     "metadata": {},
     "output_type": "execute_result"
    },
    {
     "data": {
      "image/png": "[encoded data removed]",
      "text/plain": [
       "<Figure size 700x200 with 1 Axes>"
      ]
     },
     "metadata": {},
     "output_type": "display_data"
    }
   ],
   "source": [
    "plt.figure(figsize=(7,2))\n",
    "plt.title('distance in km')\n",
    "sns.boxplot(data=df, x='distance_km', fliersize=1)"
   ]
  },
  {
   "cell_type": "code",
   "execution_count": 16,
   "id": "57e60670",
   "metadata": {
    "execution": {
     "iopub.execute_input": "2024-07-16T12:39:59.059051Z",
     "iopub.status.busy": "2024-07-16T12:39:59.058643Z",
     "iopub.status.idle": "2024-07-16T12:39:59.570958Z",
     "shell.execute_reply": "2024-07-16T12:39:59.569785Z"
    },
    "papermill": {
     "duration": 0.537332,
     "end_time": "2024-07-16T12:39:59.573338",
     "exception": false,
     "start_time": "2024-07-16T12:39:59.036006",
     "status": "completed"
    },
    "tags": []
   },
   "outputs": [
    {
     "name": "stderr",
     "output_type": "stream",
     "text": [
      "/opt/conda/lib/python3.10/site-packages/seaborn/_oldcore.py:1119: FutureWarning: use_inf_as_na option is deprecated and will be removed in a future version. Convert inf values to NaN before operating instead.\n",
      "  with pd.option_context('mode.use_inf_as_na', True):\n"
     ]
    },
    {
     "data": {
      "image/png": "[encoded data removed]",
      "text/plain": [
       "<Figure size 700x300 with 1 Axes>"
      ]
     },
     "metadata": {},
     "output_type": "display_data"
    }
   ],
   "source": [
    "# Create histogram of trip_distance\n",
    "plt.figure(figsize=(7,3))\n",
    "sns.histplot(df['distance_km'], bins=range(0,30,1))\n",
    "plt.title('Trip distance histogram');"
   ]
  },
  {
   "cell_type": "markdown",
   "id": "56daecbb",
   "metadata": {
    "papermill": {
     "duration": 0.021088,
     "end_time": "2024-07-16T12:39:59.615916",
     "exception": false,
     "start_time": "2024-07-16T12:39:59.594828",
     "status": "completed"
    },
    "tags": []
   },
   "source": [
    "The visualization shows that majority of the trips distance were less than 5km."
   ]
  },
  {
   "cell_type": "code",
   "execution_count": 17,
   "id": "95a6a2a7",
   "metadata": {
    "execution": {
     "iopub.execute_input": "2024-07-16T12:39:59.661020Z",
     "iopub.status.busy": "2024-07-16T12:39:59.660103Z",
     "iopub.status.idle": "2024-07-16T12:39:59.877150Z",
     "shell.execute_reply": "2024-07-16T12:39:59.875801Z"
    },
    "papermill": {
     "duration": 0.242291,
     "end_time": "2024-07-16T12:39:59.879555",
     "exception": false,
     "start_time": "2024-07-16T12:39:59.637264",
     "status": "completed"
    },
    "tags": []
   },
   "outputs": [
    {
     "data": {
      "text/plain": [
       "<Axes: title={'center': 'fare amount'}, xlabel='fare_amount'>"
      ]
     },
     "execution_count": 17,
     "metadata": {},
     "output_type": "execute_result"
    },
    {
     "data": {
      "image/png": "[encoded data removed]",
      "text/plain": [
       "<Figure size 700x200 with 1 Axes>"
      ]
     },
     "metadata": {},
     "output_type": "display_data"
    }
   ],
   "source": [
    "plt.figure(figsize=(7,2))\n",
    "plt.title('fare amount')\n",
    "sns.boxplot(data=df, x='fare_amount', fliersize=1)"
   ]
  },
  {
   "cell_type": "code",
   "execution_count": 18,
   "id": "c7938e91",
   "metadata": {
    "execution": {
     "iopub.execute_input": "2024-07-16T12:39:59.925659Z",
     "iopub.status.busy": "2024-07-16T12:39:59.924825Z",
     "iopub.status.idle": "2024-07-16T12:40:00.432068Z",
     "shell.execute_reply": "2024-07-16T12:40:00.431024Z"
    },
    "papermill": {
     "duration": 0.533094,
     "end_time": "2024-07-16T12:40:00.434573",
     "exception": false,
     "start_time": "2024-07-16T12:39:59.901479",
     "status": "completed"
    },
    "tags": []
   },
   "outputs": [
    {
     "name": "stderr",
     "output_type": "stream",
     "text": [
      "/opt/conda/lib/python3.10/site-packages/seaborn/_oldcore.py:1119: FutureWarning: use_inf_as_na option is deprecated and will be removed in a future version. Convert inf values to NaN before operating instead.\n",
      "  with pd.option_context('mode.use_inf_as_na', True):\n"
     ]
    },
    {
     "data": {
      "image/png": "[encoded data removed]",
      "text/plain": [
       "<Figure size 700x300 with 1 Axes>"
      ]
     },
     "metadata": {},
     "output_type": "display_data"
    }
   ],
   "source": [
    "plt.figure(figsize=(7,3))\n",
    "ax = sns.histplot(df['fare_amount'],bins=range(0,100,5))\n",
    "ax.set_xticks(range(0,100,5))\n",
    "ax.set_xticklabels(range(0,100,5))\n",
    "plt.title('fare amount histogram');"
   ]
  },
  {
   "cell_type": "markdown",
   "id": "ef2ab931",
   "metadata": {
    "papermill": {
     "duration": 0.022446,
     "end_time": "2024-07-16T12:40:00.479347",
     "exception": false,
     "start_time": "2024-07-16T12:40:00.456901",
     "status": "completed"
    },
    "tags": []
   },
   "source": [
    "The fare amount is skewed to the right. and the visualization shows that majority of the trips has fare amount of 5-20 dollars."
   ]
  },
  {
   "cell_type": "code",
   "execution_count": 19,
   "id": "19d33d85",
   "metadata": {
    "execution": {
     "iopub.execute_input": "2024-07-16T12:40:00.526476Z",
     "iopub.status.busy": "2024-07-16T12:40:00.526113Z",
     "iopub.status.idle": "2024-07-16T12:40:00.705095Z",
     "shell.execute_reply": "2024-07-16T12:40:00.703933Z"
    },
    "papermill": {
     "duration": 0.205581,
     "end_time": "2024-07-16T12:40:00.707827",
     "exception": false,
     "start_time": "2024-07-16T12:40:00.502246",
     "status": "completed"
    },
    "tags": []
   },
   "outputs": [
    {
     "data": {
      "text/plain": [
       "<Axes: title={'center': 'passenger count'}, xlabel='passenger_count'>"
      ]
     },
     "execution_count": 19,
     "metadata": {},
     "output_type": "execute_result"
    },
    {
     "data": {
      "image/png": "[encoded data removed]",
      "text/plain": [
       "<Figure size 700x200 with 1 Axes>"
      ]
     },
     "metadata": {},
     "output_type": "display_data"
    }
   ],
   "source": [
    "plt.figure(figsize=(7,2))\n",
    "plt.title('passenger count')\n",
    "sns.boxplot(data=df, x='passenger_count', fliersize=1)"
   ]
  },
  {
   "cell_type": "code",
   "execution_count": 20,
   "id": "840ccf9e",
   "metadata": {
    "execution": {
     "iopub.execute_input": "2024-07-16T12:40:00.755441Z",
     "iopub.status.busy": "2024-07-16T12:40:00.755082Z",
     "iopub.status.idle": "2024-07-16T12:40:01.173522Z",
     "shell.execute_reply": "2024-07-16T12:40:01.172422Z"
    },
    "papermill": {
     "duration": 0.445392,
     "end_time": "2024-07-16T12:40:01.175975",
     "exception": false,
     "start_time": "2024-07-16T12:40:00.730583",
     "status": "completed"
    },
    "tags": []
   },
   "outputs": [
    {
     "name": "stderr",
     "output_type": "stream",
     "text": [
      "/opt/conda/lib/python3.10/site-packages/seaborn/_oldcore.py:1119: FutureWarning: use_inf_as_na option is deprecated and will be removed in a future version. Convert inf values to NaN before operating instead.\n",
      "  with pd.option_context('mode.use_inf_as_na', True):\n"
     ]
    },
    {
     "data": {
      "image/png": "[encoded data removed]",
      "text/plain": [
       "<Figure size 700x300 with 1 Axes>"
      ]
     },
     "metadata": {},
     "output_type": "display_data"
    }
   ],
   "source": [
    "plt.figure(figsize=(7,3))\n",
    "ax = sns.histplot(df['passenger_count'],bins=range(0,20,2))\n",
    "ax.set_xticks(range(0,20,2))\n",
    "ax.set_xticklabels(range(0,20,2))\n",
    "plt.title('passenger count histogram');"
   ]
  },
  {
   "cell_type": "markdown",
   "id": "d17fc731",
   "metadata": {
    "papermill": {
     "duration": 0.024715,
     "end_time": "2024-07-16T12:40:01.225147",
     "exception": false,
     "start_time": "2024-07-16T12:40:01.200432",
     "status": "completed"
    },
    "tags": []
   },
   "source": [
    "so the 2 passenger per trip is in majority and the passengers counts are upto 8."
   ]
  },
  {
   "cell_type": "markdown",
   "id": "03300005",
   "metadata": {
    "papermill": {
     "duration": 0.023,
     "end_time": "2024-07-16T12:40:01.271372",
     "exception": false,
     "start_time": "2024-07-16T12:40:01.248372",
     "status": "completed"
    },
    "tags": []
   },
   "source": [
    "**Mean fare amount by passenger count** \n",
    "\n",
    "Now let's examine the fare amount with passenger count."
   ]
  },
  {
   "cell_type": "code",
   "execution_count": 21,
   "id": "62fe1bde",
   "metadata": {
    "execution": {
     "iopub.execute_input": "2024-07-16T12:40:01.320325Z",
     "iopub.status.busy": "2024-07-16T12:40:01.319937Z",
     "iopub.status.idle": "2024-07-16T12:40:01.332096Z",
     "shell.execute_reply": "2024-07-16T12:40:01.330823Z"
    },
    "papermill": {
     "duration": 0.03983,
     "end_time": "2024-07-16T12:40:01.334430",
     "exception": false,
     "start_time": "2024-07-16T12:40:01.294600",
     "status": "completed"
    },
    "tags": []
   },
   "outputs": [
    {
     "data": {
      "text/plain": [
       "passenger_count\n",
       "1      138425\n",
       "2       29428\n",
       "5       14009\n",
       "3        8881\n",
       "4        4276\n",
       "6        4271\n",
       "0         708\n",
       "208         1\n",
       "Name: count, dtype: int64"
      ]
     },
     "execution_count": 21,
     "metadata": {},
     "output_type": "execute_result"
    }
   ],
   "source": [
    "df['passenger_count'].value_counts()"
   ]
  },
  {
   "cell_type": "code",
   "execution_count": 22,
   "id": "05096e34",
   "metadata": {
    "execution": {
     "iopub.execute_input": "2024-07-16T12:40:01.382553Z",
     "iopub.status.busy": "2024-07-16T12:40:01.382187Z",
     "iopub.status.idle": "2024-07-16T12:40:01.409902Z",
     "shell.execute_reply": "2024-07-16T12:40:01.408941Z"
    },
    "papermill": {
     "duration": 0.054395,
     "end_time": "2024-07-16T12:40:01.412166",
     "exception": false,
     "start_time": "2024-07-16T12:40:01.357771",
     "status": "completed"
    },
    "tags": []
   },
   "outputs": [
    {
     "data": {
      "text/html": [
       "<div>\n",
       "<style scoped>\n",
       "    .dataframe tbody tr th:only-of-type {\n",
       "        vertical-align: middle;\n",
       "    }\n",
       "\n",
       "    .dataframe tbody tr th {\n",
       "        vertical-align: top;\n",
       "    }\n",
       "\n",
       "    .dataframe thead th {\n",
       "        text-align: right;\n",
       "    }\n",
       "</style>\n",
       "<table border=\"1\" class=\"dataframe\">\n",
       "  <thead>\n",
       "    <tr style=\"text-align: right;\">\n",
       "      <th></th>\n",
       "      <th>fare_amount</th>\n",
       "    </tr>\n",
       "    <tr>\n",
       "      <th>passenger_count</th>\n",
       "      <th></th>\n",
       "    </tr>\n",
       "  </thead>\n",
       "  <tbody>\n",
       "    <tr>\n",
       "      <th>0</th>\n",
       "      <td>9.439266</td>\n",
       "    </tr>\n",
       "    <tr>\n",
       "      <th>1</th>\n",
       "      <td>11.254158</td>\n",
       "    </tr>\n",
       "    <tr>\n",
       "      <th>2</th>\n",
       "      <td>11.784452</td>\n",
       "    </tr>\n",
       "    <tr>\n",
       "      <th>3</th>\n",
       "      <td>11.486731</td>\n",
       "    </tr>\n",
       "    <tr>\n",
       "      <th>4</th>\n",
       "      <td>11.642472</td>\n",
       "    </tr>\n",
       "    <tr>\n",
       "      <th>5</th>\n",
       "      <td>11.199698</td>\n",
       "    </tr>\n",
       "    <tr>\n",
       "      <th>6</th>\n",
       "      <td>12.158537</td>\n",
       "    </tr>\n",
       "    <tr>\n",
       "      <th>208</th>\n",
       "      <td>11.700000</td>\n",
       "    </tr>\n",
       "  </tbody>\n",
       "</table>\n",
       "</div>"
      ],
      "text/plain": [
       "                 fare_amount\n",
       "passenger_count             \n",
       "0                   9.439266\n",
       "1                  11.254158\n",
       "2                  11.784452\n",
       "3                  11.486731\n",
       "4                  11.642472\n",
       "5                  11.199698\n",
       "6                  12.158537\n",
       "208                11.700000"
      ]
     },
     "execution_count": 22,
     "metadata": {},
     "output_type": "execute_result"
    }
   ],
   "source": [
    "mean_fares_by_passenger_count = df.groupby(['passenger_count']).mean()[['fare_amount']]\n",
    "mean_fares_by_passenger_count"
   ]
  },
  {
   "cell_type": "code",
   "execution_count": 23,
   "id": "0e2985b0",
   "metadata": {
    "execution": {
     "iopub.execute_input": "2024-07-16T12:40:01.462268Z",
     "iopub.status.busy": "2024-07-16T12:40:01.461889Z",
     "iopub.status.idle": "2024-07-16T12:40:01.775153Z",
     "shell.execute_reply": "2024-07-16T12:40:01.773962Z"
    },
    "papermill": {
     "duration": 0.341464,
     "end_time": "2024-07-16T12:40:01.777754",
     "exception": false,
     "start_time": "2024-07-16T12:40:01.436290",
     "status": "completed"
    },
    "tags": []
   },
   "outputs": [
    {
     "data": {
      "image/png": "[encoded data removed]",
      "text/plain": [
       "<Figure size 1200x700 with 1 Axes>"
      ]
     },
     "metadata": {},
     "output_type": "display_data"
    }
   ],
   "source": [
    "data = mean_fares_by_passenger_count.tail(-1)\n",
    "pal = sns.color_palette(\"Greens_d\", len(data))\n",
    "rank = data['fare_amount'].argsort().argsort()\n",
    "plt.figure(figsize=(12,7))\n",
    "ax = sns.barplot(x=data.index,\n",
    "            y=data['fare_amount'],\n",
    "            palette=np.array(pal[::-1])[rank])\n",
    "ax.axhline(df['fare_amount'].mean(), ls='--', color='red', label='global mean')\n",
    "ax.legend()\n",
    "plt.title('Mean fare amount by passenger count', fontsize=16);"
   ]
  },
  {
   "cell_type": "markdown",
   "id": "16db8c7a",
   "metadata": {
    "papermill": {
     "duration": 0.024407,
     "end_time": "2024-07-16T12:40:01.827976",
     "exception": false,
     "start_time": "2024-07-16T12:40:01.803569",
     "status": "completed"
    },
    "tags": []
   },
   "source": [
    "**Create month and day columns**"
   ]
  },
  {
   "cell_type": "code",
   "execution_count": 24,
   "id": "76354ff3",
   "metadata": {
    "execution": {
     "iopub.execute_input": "2024-07-16T12:40:01.878767Z",
     "iopub.status.busy": "2024-07-16T12:40:01.878328Z",
     "iopub.status.idle": "2024-07-16T12:40:02.014499Z",
     "shell.execute_reply": "2024-07-16T12:40:02.013447Z"
    },
    "papermill": {
     "duration": 0.164484,
     "end_time": "2024-07-16T12:40:02.016983",
     "exception": false,
     "start_time": "2024-07-16T12:40:01.852499",
     "status": "completed"
    },
    "tags": []
   },
   "outputs": [],
   "source": [
    "# Create a month column\n",
    "df['month'] = df['pickup_datetime'].dt.month_name()\n",
    "# Create a day column\n",
    "df['day'] = df['pickup_datetime'].dt.day_name()"
   ]
  },
  {
   "cell_type": "code",
   "execution_count": 25,
   "id": "07960dee",
   "metadata": {
    "execution": {
     "iopub.execute_input": "2024-07-16T12:40:02.066746Z",
     "iopub.status.busy": "2024-07-16T12:40:02.066361Z",
     "iopub.status.idle": "2024-07-16T12:40:02.096693Z",
     "shell.execute_reply": "2024-07-16T12:40:02.095530Z"
    },
    "papermill": {
     "duration": 0.057923,
     "end_time": "2024-07-16T12:40:02.098917",
     "exception": false,
     "start_time": "2024-07-16T12:40:02.040994",
     "status": "completed"
    },
    "tags": []
   },
   "outputs": [
    {
     "data": {
      "text/plain": [
       "month\n",
       "May          18859\n",
       "March        18763\n",
       "April        18606\n",
       "June         17787\n",
       "January      17668\n",
       "February     16695\n",
       "October      16212\n",
       "December     15516\n",
       "November     15312\n",
       "September    15266\n",
       "July         15094\n",
       "August       14221\n",
       "Name: count, dtype: int64"
      ]
     },
     "execution_count": 25,
     "metadata": {},
     "output_type": "execute_result"
    }
   ],
   "source": [
    "monthly_rides = df['month'].value_counts()\n",
    "monthly_rides"
   ]
  },
  {
   "cell_type": "code",
   "execution_count": 26,
   "id": "492e53f8",
   "metadata": {
    "execution": {
     "iopub.execute_input": "2024-07-16T12:40:02.148660Z",
     "iopub.status.busy": "2024-07-16T12:40:02.148292Z",
     "iopub.status.idle": "2024-07-16T12:40:02.157744Z",
     "shell.execute_reply": "2024-07-16T12:40:02.156619Z"
    },
    "papermill": {
     "duration": 0.036994,
     "end_time": "2024-07-16T12:40:02.160029",
     "exception": false,
     "start_time": "2024-07-16T12:40:02.123035",
     "status": "completed"
    },
    "tags": []
   },
   "outputs": [
    {
     "data": {
      "text/plain": [
       "month\n",
       "January      17668\n",
       "February     16695\n",
       "March        18763\n",
       "April        18606\n",
       "May          18859\n",
       "June         17787\n",
       "July         15094\n",
       "August       14221\n",
       "September    15266\n",
       "October      16212\n",
       "November     15312\n",
       "December     15516\n",
       "Name: count, dtype: int64"
      ]
     },
     "execution_count": 26,
     "metadata": {},
     "output_type": "execute_result"
    }
   ],
   "source": [
    "month_order = ['January', 'February', 'March', 'April', 'May', 'June', 'July',\n",
    "         'August', 'September', 'October', 'November', 'December']\n",
    "\n",
    "monthly_rides = monthly_rides.reindex(index=month_order)\n",
    "monthly_rides"
   ]
  },
  {
   "cell_type": "code",
   "execution_count": 27,
   "id": "20c549b7",
   "metadata": {
    "execution": {
     "iopub.execute_input": "2024-07-16T12:40:02.213104Z",
     "iopub.status.busy": "2024-07-16T12:40:02.211422Z",
     "iopub.status.idle": "2024-07-16T12:40:02.594223Z",
     "shell.execute_reply": "2024-07-16T12:40:02.593042Z"
    },
    "papermill": {
     "duration": 0.412376,
     "end_time": "2024-07-16T12:40:02.596669",
     "exception": false,
     "start_time": "2024-07-16T12:40:02.184293",
     "status": "completed"
    },
    "tags": []
   },
   "outputs": [
    {
     "data": {
      "image/png": "[encoded data removed]",
      "text/plain": [
       "<Figure size 1200x700 with 1 Axes>"
      ]
     },
     "metadata": {},
     "output_type": "display_data"
    }
   ],
   "source": [
    "plt.figure(figsize=(12,7))\n",
    "ax = sns.barplot(x=monthly_rides.index, y=monthly_rides)\n",
    "ax.set_xticklabels(month_order)\n",
    "plt.title('Ride count by month', fontsize=16);"
   ]
  },
  {
   "cell_type": "markdown",
   "id": "0613314d",
   "metadata": {
    "papermill": {
     "duration": 0.025043,
     "end_time": "2024-07-16T12:40:02.646368",
     "exception": false,
     "start_time": "2024-07-16T12:40:02.621325",
     "status": "completed"
    },
    "tags": []
   },
   "source": [
    "The monthly rides are consistent but the summer months July, august and september has some dips."
   ]
  },
  {
   "cell_type": "markdown",
   "id": "c5891135",
   "metadata": {
    "papermill": {
     "duration": 0.024702,
     "end_time": "2024-07-16T12:40:02.696000",
     "exception": false,
     "start_time": "2024-07-16T12:40:02.671298",
     "status": "completed"
    },
    "tags": []
   },
   "source": [
    "**Analyzing rides by day**"
   ]
  },
  {
   "cell_type": "code",
   "execution_count": 28,
   "id": "8e20376f",
   "metadata": {
    "execution": {
     "iopub.execute_input": "2024-07-16T12:40:02.749709Z",
     "iopub.status.busy": "2024-07-16T12:40:02.748769Z",
     "iopub.status.idle": "2024-07-16T12:40:02.775064Z",
     "shell.execute_reply": "2024-07-16T12:40:02.773918Z"
    },
    "papermill": {
     "duration": 0.055521,
     "end_time": "2024-07-16T12:40:02.777250",
     "exception": false,
     "start_time": "2024-07-16T12:40:02.721729",
     "status": "completed"
    },
    "tags": []
   },
   "outputs": [],
   "source": [
    "daily_rides = df['day'].value_counts()"
   ]
  },
  {
   "cell_type": "code",
   "execution_count": 29,
   "id": "35e6d5db",
   "metadata": {
    "execution": {
     "iopub.execute_input": "2024-07-16T12:40:02.829468Z",
     "iopub.status.busy": "2024-07-16T12:40:02.829079Z",
     "iopub.status.idle": "2024-07-16T12:40:02.838314Z",
     "shell.execute_reply": "2024-07-16T12:40:02.837236Z"
    },
    "papermill": {
     "duration": 0.037762,
     "end_time": "2024-07-16T12:40:02.840645",
     "exception": false,
     "start_time": "2024-07-16T12:40:02.802883",
     "status": "completed"
    },
    "tags": []
   },
   "outputs": [
    {
     "data": {
      "text/plain": [
       "day\n",
       "Monday       25243\n",
       "Tuesday      28126\n",
       "Wednesday    29037\n",
       "Thursday     30021\n",
       "Friday       30880\n",
       "Saturday     30251\n",
       "Sunday       26441\n",
       "Name: count, dtype: int64"
      ]
     },
     "execution_count": 29,
     "metadata": {},
     "output_type": "execute_result"
    }
   ],
   "source": [
    "day_order = [\"Monday\",'Tuesday','Wednesday','Thursday','Friday','Saturday','Sunday']\n",
    "daily_rides.reindex(index=day_order)"
   ]
  },
  {
   "cell_type": "code",
   "execution_count": 30,
   "id": "492d66f8",
   "metadata": {
    "execution": {
     "iopub.execute_input": "2024-07-16T12:40:02.892836Z",
     "iopub.status.busy": "2024-07-16T12:40:02.892461Z",
     "iopub.status.idle": "2024-07-16T12:40:03.211058Z",
     "shell.execute_reply": "2024-07-16T12:40:03.209932Z"
    },
    "papermill": {
     "duration": 0.347509,
     "end_time": "2024-07-16T12:40:03.213614",
     "exception": false,
     "start_time": "2024-07-16T12:40:02.866105",
     "status": "completed"
    },
    "tags": []
   },
   "outputs": [
    {
     "data": {
      "image/png": "[encoded data removed]",
      "text/plain": [
       "<Figure size 1200x700 with 1 Axes>"
      ]
     },
     "metadata": {},
     "output_type": "display_data"
    }
   ],
   "source": [
    "plt.figure(figsize=(12,7))\n",
    "ax = sns.barplot(x=daily_rides.index, y=daily_rides)\n",
    "ax.set_xticklabels(day_order)\n",
    "plt.title('Ride count by day', fontsize=16);"
   ]
  },
  {
   "cell_type": "markdown",
   "id": "cdedb93d",
   "metadata": {
    "papermill": {
     "duration": 0.025226,
     "end_time": "2024-07-16T12:40:03.265844",
     "exception": false,
     "start_time": "2024-07-16T12:40:03.240618",
     "status": "completed"
    },
    "tags": []
   },
   "source": [
    "So monday has alot of rides which is obviously start of the week and saturday and sunday has dips dues to holidays."
   ]
  },
  {
   "cell_type": "markdown",
   "id": "6736f82d",
   "metadata": {
    "papermill": {
     "duration": 0.025264,
     "end_time": "2024-07-16T12:40:03.316656",
     "exception": false,
     "start_time": "2024-07-16T12:40:03.291392",
     "status": "completed"
    },
    "tags": []
   },
   "source": [
    "**Revenue per day**"
   ]
  },
  {
   "cell_type": "code",
   "execution_count": 31,
   "id": "afe4c151",
   "metadata": {
    "execution": {
     "iopub.execute_input": "2024-07-16T12:40:03.370038Z",
     "iopub.status.busy": "2024-07-16T12:40:03.369229Z",
     "iopub.status.idle": "2024-07-16T12:40:03.388160Z",
     "shell.execute_reply": "2024-07-16T12:40:03.387204Z"
    },
    "papermill": {
     "duration": 0.048188,
     "end_time": "2024-07-16T12:40:03.390612",
     "exception": false,
     "start_time": "2024-07-16T12:40:03.342424",
     "status": "completed"
    },
    "tags": []
   },
   "outputs": [],
   "source": [
    "df_without_date = df.drop(columns=['pickup_datetime'])"
   ]
  },
  {
   "cell_type": "code",
   "execution_count": 32,
   "id": "8024db16",
   "metadata": {
    "execution": {
     "iopub.execute_input": "2024-07-16T12:40:03.443948Z",
     "iopub.status.busy": "2024-07-16T12:40:03.443234Z",
     "iopub.status.idle": "2024-07-16T12:40:04.331644Z",
     "shell.execute_reply": "2024-07-16T12:40:04.330498Z"
    },
    "papermill": {
     "duration": 0.917893,
     "end_time": "2024-07-16T12:40:04.334301",
     "exception": false,
     "start_time": "2024-07-16T12:40:03.416408",
     "status": "completed"
    },
    "tags": []
   },
   "outputs": [],
   "source": [
    "total_amount_per_day = df_without_date.groupby(by='day').sum()[['fare_amount']]\n",
    "total_amount_per_day = total_amount_per_day.reindex(index=day_order)"
   ]
  },
  {
   "cell_type": "code",
   "execution_count": 33,
   "id": "16b02d47",
   "metadata": {
    "execution": {
     "iopub.execute_input": "2024-07-16T12:40:04.387984Z",
     "iopub.status.busy": "2024-07-16T12:40:04.387598Z",
     "iopub.status.idle": "2024-07-16T12:40:04.397534Z",
     "shell.execute_reply": "2024-07-16T12:40:04.396512Z"
    },
    "papermill": {
     "duration": 0.039261,
     "end_time": "2024-07-16T12:40:04.399715",
     "exception": false,
     "start_time": "2024-07-16T12:40:04.360454",
     "status": "completed"
    },
    "tags": []
   },
   "outputs": [
    {
     "data": {
      "text/html": [
       "<div>\n",
       "<style scoped>\n",
       "    .dataframe tbody tr th:only-of-type {\n",
       "        vertical-align: middle;\n",
       "    }\n",
       "\n",
       "    .dataframe tbody tr th {\n",
       "        vertical-align: top;\n",
       "    }\n",
       "\n",
       "    .dataframe thead th {\n",
       "        text-align: right;\n",
       "    }\n",
       "</style>\n",
       "<table border=\"1\" class=\"dataframe\">\n",
       "  <thead>\n",
       "    <tr style=\"text-align: right;\">\n",
       "      <th></th>\n",
       "      <th>fare_amount</th>\n",
       "    </tr>\n",
       "    <tr>\n",
       "      <th>day</th>\n",
       "      <th></th>\n",
       "    </tr>\n",
       "  </thead>\n",
       "  <tbody>\n",
       "    <tr>\n",
       "      <th>Monday</th>\n",
       "      <td>287228.19</td>\n",
       "    </tr>\n",
       "    <tr>\n",
       "      <th>Tuesday</th>\n",
       "      <td>311504.73</td>\n",
       "    </tr>\n",
       "    <tr>\n",
       "      <th>Wednesday</th>\n",
       "      <td>329608.38</td>\n",
       "    </tr>\n",
       "    <tr>\n",
       "      <th>Thursday</th>\n",
       "      <td>345774.92</td>\n",
       "    </tr>\n",
       "    <tr>\n",
       "      <th>Friday</th>\n",
       "      <td>353260.80</td>\n",
       "    </tr>\n",
       "    <tr>\n",
       "      <th>Saturday</th>\n",
       "      <td>333737.30</td>\n",
       "    </tr>\n",
       "    <tr>\n",
       "      <th>Sunday</th>\n",
       "      <td>310852.63</td>\n",
       "    </tr>\n",
       "  </tbody>\n",
       "</table>\n",
       "</div>"
      ],
      "text/plain": [
       "           fare_amount\n",
       "day                   \n",
       "Monday       287228.19\n",
       "Tuesday      311504.73\n",
       "Wednesday    329608.38\n",
       "Thursday     345774.92\n",
       "Friday       353260.80\n",
       "Saturday     333737.30\n",
       "Sunday       310852.63"
      ]
     },
     "execution_count": 33,
     "metadata": {},
     "output_type": "execute_result"
    }
   ],
   "source": [
    "total_amount_per_day"
   ]
  },
  {
   "cell_type": "code",
   "execution_count": 34,
   "id": "4c8803f5",
   "metadata": {
    "execution": {
     "iopub.execute_input": "2024-07-16T12:40:04.452623Z",
     "iopub.status.busy": "2024-07-16T12:40:04.452264Z",
     "iopub.status.idle": "2024-07-16T12:40:04.771943Z",
     "shell.execute_reply": "2024-07-16T12:40:04.770715Z"
    },
    "papermill": {
     "duration": 0.348986,
     "end_time": "2024-07-16T12:40:04.774395",
     "exception": false,
     "start_time": "2024-07-16T12:40:04.425409",
     "status": "completed"
    },
    "tags": []
   },
   "outputs": [
    {
     "data": {
      "text/plain": [
       "Text(0.5, 1.0, 'Revenue by day')"
      ]
     },
     "execution_count": 34,
     "metadata": {},
     "output_type": "execute_result"
    },
    {
     "data": {
      "image/png": "[encoded data removed]",
      "text/plain": [
       "<Figure size 1000x500 with 1 Axes>"
      ]
     },
     "metadata": {},
     "output_type": "display_data"
    }
   ],
   "source": [
    "plt.figure(figsize=(10,5))\n",
    "ax = sns.barplot(x=total_amount_per_day.index,y=total_amount_per_day['fare_amount'])\n",
    "ax.set_xticklabels(day_order)\n",
    "ax.set_ylabel(\"Revenue (USD)\")\n",
    "plt.title(\"Revenue by day\")"
   ]
  },
  {
   "cell_type": "markdown",
   "id": "fe41dc9c",
   "metadata": {
    "papermill": {
     "duration": 0.026433,
     "end_time": "2024-07-16T12:40:04.828500",
     "exception": false,
     "start_time": "2024-07-16T12:40:04.802067",
     "status": "completed"
    },
    "tags": []
   },
   "source": [
    "**Revenue by month**"
   ]
  },
  {
   "cell_type": "code",
   "execution_count": 35,
   "id": "34570ce5",
   "metadata": {
    "execution": {
     "iopub.execute_input": "2024-07-16T12:40:04.883129Z",
     "iopub.status.busy": "2024-07-16T12:40:04.882336Z",
     "iopub.status.idle": "2024-07-16T12:40:05.520629Z",
     "shell.execute_reply": "2024-07-16T12:40:05.519640Z"
    },
    "papermill": {
     "duration": 0.668003,
     "end_time": "2024-07-16T12:40:05.522910",
     "exception": false,
     "start_time": "2024-07-16T12:40:04.854907",
     "status": "completed"
    },
    "tags": []
   },
   "outputs": [
    {
     "data": {
      "text/html": [
       "<div>\n",
       "<style scoped>\n",
       "    .dataframe tbody tr th:only-of-type {\n",
       "        vertical-align: middle;\n",
       "    }\n",
       "\n",
       "    .dataframe tbody tr th {\n",
       "        vertical-align: top;\n",
       "    }\n",
       "\n",
       "    .dataframe thead th {\n",
       "        text-align: right;\n",
       "    }\n",
       "</style>\n",
       "<table border=\"1\" class=\"dataframe\">\n",
       "  <thead>\n",
       "    <tr style=\"text-align: right;\">\n",
       "      <th></th>\n",
       "      <th>fare_amount</th>\n",
       "    </tr>\n",
       "    <tr>\n",
       "      <th>month</th>\n",
       "      <th></th>\n",
       "    </tr>\n",
       "  </thead>\n",
       "  <tbody>\n",
       "    <tr>\n",
       "      <th>January</th>\n",
       "      <td>189499.77</td>\n",
       "    </tr>\n",
       "    <tr>\n",
       "      <th>February</th>\n",
       "      <td>182453.99</td>\n",
       "    </tr>\n",
       "    <tr>\n",
       "      <th>March</th>\n",
       "      <td>208300.37</td>\n",
       "    </tr>\n",
       "    <tr>\n",
       "      <th>April</th>\n",
       "      <td>210972.89</td>\n",
       "    </tr>\n",
       "    <tr>\n",
       "      <th>May</th>\n",
       "      <td>220246.02</td>\n",
       "    </tr>\n",
       "    <tr>\n",
       "      <th>June</th>\n",
       "      <td>206421.84</td>\n",
       "    </tr>\n",
       "    <tr>\n",
       "      <th>July</th>\n",
       "      <td>168454.49</td>\n",
       "    </tr>\n",
       "    <tr>\n",
       "      <th>August</th>\n",
       "      <td>159351.40</td>\n",
       "    </tr>\n",
       "    <tr>\n",
       "      <th>September</th>\n",
       "      <td>180011.21</td>\n",
       "    </tr>\n",
       "    <tr>\n",
       "      <th>October</th>\n",
       "      <td>190058.67</td>\n",
       "    </tr>\n",
       "    <tr>\n",
       "      <th>November</th>\n",
       "      <td>177806.02</td>\n",
       "    </tr>\n",
       "    <tr>\n",
       "      <th>December</th>\n",
       "      <td>178390.28</td>\n",
       "    </tr>\n",
       "  </tbody>\n",
       "</table>\n",
       "</div>"
      ],
      "text/plain": [
       "           fare_amount\n",
       "month                 \n",
       "January      189499.77\n",
       "February     182453.99\n",
       "March        208300.37\n",
       "April        210972.89\n",
       "May          220246.02\n",
       "June         206421.84\n",
       "July         168454.49\n",
       "August       159351.40\n",
       "September    180011.21\n",
       "October      190058.67\n",
       "November     177806.02\n",
       "December     178390.28"
      ]
     },
     "execution_count": 35,
     "metadata": {},
     "output_type": "execute_result"
    }
   ],
   "source": [
    "total_amount_per_month = df_without_date.groupby(by='month').sum()[['fare_amount']]\n",
    "total_amount_per_month = total_amount_per_month.reindex(index=month_order)\n",
    "total_amount_per_month"
   ]
  },
  {
   "cell_type": "code",
   "execution_count": 36,
   "id": "e5977115",
   "metadata": {
    "execution": {
     "iopub.execute_input": "2024-07-16T12:40:05.576737Z",
     "iopub.status.busy": "2024-07-16T12:40:05.576316Z",
     "iopub.status.idle": "2024-07-16T12:40:05.934710Z",
     "shell.execute_reply": "2024-07-16T12:40:05.933516Z"
    },
    "papermill": {
     "duration": 0.388076,
     "end_time": "2024-07-16T12:40:05.937018",
     "exception": false,
     "start_time": "2024-07-16T12:40:05.548942",
     "status": "completed"
    },
    "tags": []
   },
   "outputs": [
    {
     "data": {
      "text/plain": [
       "Text(0.5, 1.0, 'Revenue by Month')"
      ]
     },
     "execution_count": 36,
     "metadata": {},
     "output_type": "execute_result"
    },
    {
     "data": {
      "image/png": "[encoded data removed]",
      "text/plain": [
       "<Figure size 1200x700 with 1 Axes>"
      ]
     },
     "metadata": {},
     "output_type": "display_data"
    }
   ],
   "source": [
    "plt.figure(figsize=(12,7))\n",
    "ax = sns.barplot(x=total_amount_per_month.index,y=total_amount_per_month['fare_amount'])\n",
    "ax.set_xticklabels(month_order)\n",
    "ax.set_ylabel(\"Revenue (USD)\")\n",
    "plt.title(\"Revenue by Month\")"
   ]
  },
  {
   "cell_type": "markdown",
   "id": "f4e0e56d",
   "metadata": {
    "papermill": {
     "duration": 0.026969,
     "end_time": "2024-07-16T12:40:05.991095",
     "exception": false,
     "start_time": "2024-07-16T12:40:05.964126",
     "status": "completed"
    },
    "tags": []
   },
   "source": [
    "The revenue per month shows that summer months July, August and september has less revenue than other as shown by trips per month."
   ]
  },
  {
   "cell_type": "markdown",
   "id": "6aada131",
   "metadata": {
    "papermill": {
     "duration": 0.026472,
     "end_time": "2024-07-16T12:40:06.044429",
     "exception": false,
     "start_time": "2024-07-16T12:40:06.017957",
     "status": "completed"
    },
    "tags": []
   },
   "source": [
    "# Now let's do some hypothesis test\n",
    "Is there a relationship between fare amount and no of passenger."
   ]
  },
  {
   "cell_type": "code",
   "execution_count": 37,
   "id": "169435fc",
   "metadata": {
    "execution": {
     "iopub.execute_input": "2024-07-16T12:40:06.100087Z",
     "iopub.status.busy": "2024-07-16T12:40:06.099690Z",
     "iopub.status.idle": "2024-07-16T12:40:06.104603Z",
     "shell.execute_reply": "2024-07-16T12:40:06.103553Z"
    },
    "papermill": {
     "duration": 0.035586,
     "end_time": "2024-07-16T12:40:06.106744",
     "exception": false,
     "start_time": "2024-07-16T12:40:06.071158",
     "status": "completed"
    },
    "tags": []
   },
   "outputs": [],
   "source": [
    "from scipy import stats"
   ]
  },
  {
   "cell_type": "code",
   "execution_count": 38,
   "id": "0afa1bb2",
   "metadata": {
    "execution": {
     "iopub.execute_input": "2024-07-16T12:40:06.162351Z",
     "iopub.status.busy": "2024-07-16T12:40:06.161982Z",
     "iopub.status.idle": "2024-07-16T12:40:06.264366Z",
     "shell.execute_reply": "2024-07-16T12:40:06.263272Z"
    },
    "papermill": {
     "duration": 0.133292,
     "end_time": "2024-07-16T12:40:06.266909",
     "exception": false,
     "start_time": "2024-07-16T12:40:06.133617",
     "status": "completed"
    },
    "tags": []
   },
   "outputs": [
    {
     "data": {
      "text/html": [
       "<div>\n",
       "<style scoped>\n",
       "    .dataframe tbody tr th:only-of-type {\n",
       "        vertical-align: middle;\n",
       "    }\n",
       "\n",
       "    .dataframe tbody tr th {\n",
       "        vertical-align: top;\n",
       "    }\n",
       "\n",
       "    .dataframe thead th {\n",
       "        text-align: right;\n",
       "    }\n",
       "</style>\n",
       "<table border=\"1\" class=\"dataframe\">\n",
       "  <thead>\n",
       "    <tr style=\"text-align: right;\">\n",
       "      <th></th>\n",
       "      <th>fare_amount</th>\n",
       "      <th>passenger_count</th>\n",
       "    </tr>\n",
       "  </thead>\n",
       "  <tbody>\n",
       "    <tr>\n",
       "      <th>count</th>\n",
       "      <td>199999.000000</td>\n",
       "      <td>199999.000000</td>\n",
       "    </tr>\n",
       "    <tr>\n",
       "      <th>mean</th>\n",
       "      <td>11.359892</td>\n",
       "      <td>1.684543</td>\n",
       "    </tr>\n",
       "    <tr>\n",
       "      <th>std</th>\n",
       "      <td>9.901760</td>\n",
       "      <td>1.385995</td>\n",
       "    </tr>\n",
       "    <tr>\n",
       "      <th>min</th>\n",
       "      <td>-52.000000</td>\n",
       "      <td>0.000000</td>\n",
       "    </tr>\n",
       "    <tr>\n",
       "      <th>25%</th>\n",
       "      <td>6.000000</td>\n",
       "      <td>1.000000</td>\n",
       "    </tr>\n",
       "    <tr>\n",
       "      <th>50%</th>\n",
       "      <td>8.500000</td>\n",
       "      <td>1.000000</td>\n",
       "    </tr>\n",
       "    <tr>\n",
       "      <th>75%</th>\n",
       "      <td>12.500000</td>\n",
       "      <td>2.000000</td>\n",
       "    </tr>\n",
       "    <tr>\n",
       "      <th>max</th>\n",
       "      <td>499.000000</td>\n",
       "      <td>208.000000</td>\n",
       "    </tr>\n",
       "  </tbody>\n",
       "</table>\n",
       "</div>"
      ],
      "text/plain": [
       "         fare_amount  passenger_count\n",
       "count  199999.000000    199999.000000\n",
       "mean       11.359892         1.684543\n",
       "std         9.901760         1.385995\n",
       "min       -52.000000         0.000000\n",
       "25%         6.000000         1.000000\n",
       "50%         8.500000         1.000000\n",
       "75%        12.500000         2.000000\n",
       "max       499.000000       208.000000"
      ]
     },
     "execution_count": 38,
     "metadata": {},
     "output_type": "execute_result"
    }
   ],
   "source": [
    "df.describe()[['fare_amount','passenger_count']]"
   ]
  },
  {
   "cell_type": "code",
   "execution_count": 39,
   "id": "ffd7bd31",
   "metadata": {
    "execution": {
     "iopub.execute_input": "2024-07-16T12:40:06.323687Z",
     "iopub.status.busy": "2024-07-16T12:40:06.323298Z",
     "iopub.status.idle": "2024-07-16T12:40:06.340196Z",
     "shell.execute_reply": "2024-07-16T12:40:06.339081Z"
    },
    "papermill": {
     "duration": 0.048175,
     "end_time": "2024-07-16T12:40:06.342457",
     "exception": false,
     "start_time": "2024-07-16T12:40:06.294282",
     "status": "completed"
    },
    "tags": []
   },
   "outputs": [
    {
     "data": {
      "text/html": [
       "<div>\n",
       "<style scoped>\n",
       "    .dataframe tbody tr th:only-of-type {\n",
       "        vertical-align: middle;\n",
       "    }\n",
       "\n",
       "    .dataframe tbody tr th {\n",
       "        vertical-align: top;\n",
       "    }\n",
       "\n",
       "    .dataframe thead th {\n",
       "        text-align: right;\n",
       "    }\n",
       "</style>\n",
       "<table border=\"1\" class=\"dataframe\">\n",
       "  <thead>\n",
       "    <tr style=\"text-align: right;\">\n",
       "      <th></th>\n",
       "      <th>fare_amount</th>\n",
       "    </tr>\n",
       "    <tr>\n",
       "      <th>passenger_count</th>\n",
       "      <th></th>\n",
       "    </tr>\n",
       "  </thead>\n",
       "  <tbody>\n",
       "    <tr>\n",
       "      <th>0</th>\n",
       "      <td>9.439266</td>\n",
       "    </tr>\n",
       "    <tr>\n",
       "      <th>1</th>\n",
       "      <td>11.254158</td>\n",
       "    </tr>\n",
       "    <tr>\n",
       "      <th>2</th>\n",
       "      <td>11.784452</td>\n",
       "    </tr>\n",
       "    <tr>\n",
       "      <th>3</th>\n",
       "      <td>11.486731</td>\n",
       "    </tr>\n",
       "    <tr>\n",
       "      <th>4</th>\n",
       "      <td>11.642472</td>\n",
       "    </tr>\n",
       "    <tr>\n",
       "      <th>5</th>\n",
       "      <td>11.199698</td>\n",
       "    </tr>\n",
       "    <tr>\n",
       "      <th>6</th>\n",
       "      <td>12.158537</td>\n",
       "    </tr>\n",
       "    <tr>\n",
       "      <th>208</th>\n",
       "      <td>11.700000</td>\n",
       "    </tr>\n",
       "  </tbody>\n",
       "</table>\n",
       "</div>"
      ],
      "text/plain": [
       "                 fare_amount\n",
       "passenger_count             \n",
       "0                   9.439266\n",
       "1                  11.254158\n",
       "2                  11.784452\n",
       "3                  11.486731\n",
       "4                  11.642472\n",
       "5                  11.199698\n",
       "6                  12.158537\n",
       "208                11.700000"
      ]
     },
     "execution_count": 39,
     "metadata": {},
     "output_type": "execute_result"
    }
   ],
   "source": [
    "df.groupby('passenger_count')[['fare_amount']].mean()"
   ]
  },
  {
   "cell_type": "markdown",
   "id": "d91f287c",
   "metadata": {
    "papermill": {
     "duration": 0.028033,
     "end_time": "2024-07-16T12:40:06.397884",
     "exception": false,
     "start_time": "2024-07-16T12:40:06.369851",
     "status": "completed"
    },
    "tags": []
   },
   "source": [
    "As we can see the values of passenger count and fare amount are consistent and we don't see any relationship, but it can be because of random sampling. To find wether these values are statistically signifiacant, let's do some hypothesis testing."
   ]
  },
  {
   "cell_type": "markdown",
   "id": "a5c69fa3",
   "metadata": {
    "papermill": {
     "duration": 0.027197,
     "end_time": "2024-07-16T12:40:06.452520",
     "exception": false,
     "start_time": "2024-07-16T12:40:06.425323",
     "status": "completed"
    },
    "tags": []
   },
   "source": [
    "**Hypothesis** <br>\n",
    "Null Hypothesis: There is no difference between average fare amount based on the no of passenger. <br>\n",
    "Alternative Hypothesis: There is difference between average fare amount based on the no of passenger. "
   ]
  },
  {
   "cell_type": "code",
   "execution_count": 40,
   "id": "264d52a7",
   "metadata": {
    "execution": {
     "iopub.execute_input": "2024-07-16T12:40:06.510211Z",
     "iopub.status.busy": "2024-07-16T12:40:06.509816Z",
     "iopub.status.idle": "2024-07-16T12:40:06.558338Z",
     "shell.execute_reply": "2024-07-16T12:40:06.557180Z"
    },
    "papermill": {
     "duration": 0.080353,
     "end_time": "2024-07-16T12:40:06.560959",
     "exception": false,
     "start_time": "2024-07-16T12:40:06.480606",
     "status": "completed"
    },
    "tags": []
   },
   "outputs": [],
   "source": [
    "one_passenger = df[df['passenger_count'] == 1]['fare_amount']\n",
    "two_passenger = df[df['passenger_count'] == 2]['fare_amount']\n",
    "three_passenger = df[df['passenger_count'] == 3]['fare_amount']\n",
    "four_passenger = df[df['passenger_count'] == 4]['fare_amount']\n",
    "five_passenger = df[df['passenger_count'] == 5]['fare_amount']\n",
    "six_passenger = df[df['passenger_count'] == 6]['fare_amount']"
   ]
  },
  {
   "cell_type": "code",
   "execution_count": 41,
   "id": "2ef531d8",
   "metadata": {
    "execution": {
     "iopub.execute_input": "2024-07-16T12:40:06.617427Z",
     "iopub.status.busy": "2024-07-16T12:40:06.617035Z",
     "iopub.status.idle": "2024-07-16T12:40:06.627180Z",
     "shell.execute_reply": "2024-07-16T12:40:06.626140Z"
    },
    "papermill": {
     "duration": 0.040859,
     "end_time": "2024-07-16T12:40:06.629387",
     "exception": false,
     "start_time": "2024-07-16T12:40:06.588528",
     "status": "completed"
    },
    "tags": []
   },
   "outputs": [
    {
     "name": "stdout",
     "output_type": "stream",
     "text": [
      "F-statistic: 21.20953546719199\n",
      "p-value: 2.838724710616687e-21\n"
     ]
    }
   ],
   "source": [
    "result = stats.f_oneway(one_passenger,two_passenger,three_passenger,four_passenger,five_passenger,six_passenger)\n",
    "print(\"F-statistic:\", result.statistic)\n",
    "print(\"p-value:\", result.pvalue)"
   ]
  },
  {
   "cell_type": "markdown",
   "id": "2bfd80e9",
   "metadata": {
    "papermill": {
     "duration": 0.02682,
     "end_time": "2024-07-16T12:40:06.683244",
     "exception": false,
     "start_time": "2024-07-16T12:40:06.656424",
     "status": "completed"
    },
    "tags": []
   },
   "source": [
    "Since the p-value is less than significance level 0.05, so we reject the null hypothesis and conclude that there is a significant difference in the average fare amount based on the number of passengers."
   ]
  },
  {
   "cell_type": "markdown",
   "id": "169a959e",
   "metadata": {
    "papermill": {
     "duration": 0.027059,
     "end_time": "2024-07-16T12:40:06.737496",
     "exception": false,
     "start_time": "2024-07-16T12:40:06.710437",
     "status": "completed"
    },
    "tags": []
   },
   "source": [
    "# Now lets try to fit multiple linear regression model"
   ]
  },
  {
   "cell_type": "markdown",
   "id": "a23f83da",
   "metadata": {
    "papermill": {
     "duration": 0.026837,
     "end_time": "2024-07-16T12:40:06.791752",
     "exception": false,
     "start_time": "2024-07-16T12:40:06.764915",
     "status": "completed"
    },
    "tags": []
   },
   "source": [
    "As we have removed missing values now let's analyze duplicates."
   ]
  },
  {
   "cell_type": "code",
   "execution_count": 42,
   "id": "e79eb702",
   "metadata": {
    "execution": {
     "iopub.execute_input": "2024-07-16T12:40:06.848883Z",
     "iopub.status.busy": "2024-07-16T12:40:06.848472Z",
     "iopub.status.idle": "2024-07-16T12:40:06.890379Z",
     "shell.execute_reply": "2024-07-16T12:40:06.889173Z"
    },
    "papermill": {
     "duration": 0.073267,
     "end_time": "2024-07-16T12:40:06.893011",
     "exception": false,
     "start_time": "2024-07-16T12:40:06.819744",
     "status": "completed"
    },
    "tags": []
   },
   "outputs": [],
   "source": [
    "df1 = df.copy()"
   ]
  },
  {
   "cell_type": "code",
   "execution_count": 43,
   "id": "9cfc8f54",
   "metadata": {
    "execution": {
     "iopub.execute_input": "2024-07-16T12:40:06.950256Z",
     "iopub.status.busy": "2024-07-16T12:40:06.949893Z",
     "iopub.status.idle": "2024-07-16T12:40:06.966194Z",
     "shell.execute_reply": "2024-07-16T12:40:06.965207Z"
    },
    "papermill": {
     "duration": 0.047563,
     "end_time": "2024-07-16T12:40:06.968393",
     "exception": false,
     "start_time": "2024-07-16T12:40:06.920830",
     "status": "completed"
    },
    "tags": []
   },
   "outputs": [
    {
     "data": {
      "text/html": [
       "<div>\n",
       "<style scoped>\n",
       "    .dataframe tbody tr th:only-of-type {\n",
       "        vertical-align: middle;\n",
       "    }\n",
       "\n",
       "    .dataframe tbody tr th {\n",
       "        vertical-align: top;\n",
       "    }\n",
       "\n",
       "    .dataframe thead th {\n",
       "        text-align: right;\n",
       "    }\n",
       "</style>\n",
       "<table border=\"1\" class=\"dataframe\">\n",
       "  <thead>\n",
       "    <tr style=\"text-align: right;\">\n",
       "      <th></th>\n",
       "      <th>Id</th>\n",
       "      <th>fare_amount</th>\n",
       "      <th>pickup_datetime</th>\n",
       "      <th>pickup_longitude</th>\n",
       "      <th>pickup_latitude</th>\n",
       "      <th>dropoff_longitude</th>\n",
       "      <th>dropoff_latitude</th>\n",
       "      <th>passenger_count</th>\n",
       "      <th>distance_km</th>\n",
       "      <th>month</th>\n",
       "      <th>day</th>\n",
       "    </tr>\n",
       "  </thead>\n",
       "  <tbody>\n",
       "    <tr>\n",
       "      <th>0</th>\n",
       "      <td>24238194</td>\n",
       "      <td>7.5</td>\n",
       "      <td>2015-05-07 19:52:06+00:00</td>\n",
       "      <td>-73.999817</td>\n",
       "      <td>40.738354</td>\n",
       "      <td>-73.999512</td>\n",
       "      <td>40.723217</td>\n",
       "      <td>1</td>\n",
       "      <td>1.683323</td>\n",
       "      <td>May</td>\n",
       "      <td>Thursday</td>\n",
       "    </tr>\n",
       "    <tr>\n",
       "      <th>1</th>\n",
       "      <td>27835199</td>\n",
       "      <td>7.7</td>\n",
       "      <td>2009-07-17 20:04:56+00:00</td>\n",
       "      <td>-73.994355</td>\n",
       "      <td>40.728225</td>\n",
       "      <td>-73.994710</td>\n",
       "      <td>40.750325</td>\n",
       "      <td>1</td>\n",
       "      <td>2.457590</td>\n",
       "      <td>July</td>\n",
       "      <td>Friday</td>\n",
       "    </tr>\n",
       "    <tr>\n",
       "      <th>2</th>\n",
       "      <td>44984355</td>\n",
       "      <td>12.9</td>\n",
       "      <td>2009-08-24 21:45:00+00:00</td>\n",
       "      <td>-74.005043</td>\n",
       "      <td>40.740770</td>\n",
       "      <td>-73.962565</td>\n",
       "      <td>40.772647</td>\n",
       "      <td>1</td>\n",
       "      <td>5.036377</td>\n",
       "      <td>August</td>\n",
       "      <td>Monday</td>\n",
       "    </tr>\n",
       "    <tr>\n",
       "      <th>3</th>\n",
       "      <td>25894730</td>\n",
       "      <td>5.3</td>\n",
       "      <td>2009-06-26 08:22:21+00:00</td>\n",
       "      <td>-73.976124</td>\n",
       "      <td>40.790844</td>\n",
       "      <td>-73.965316</td>\n",
       "      <td>40.803349</td>\n",
       "      <td>3</td>\n",
       "      <td>1.661683</td>\n",
       "      <td>June</td>\n",
       "      <td>Friday</td>\n",
       "    </tr>\n",
       "    <tr>\n",
       "      <th>4</th>\n",
       "      <td>17610152</td>\n",
       "      <td>16.0</td>\n",
       "      <td>2014-08-28 17:47:00+00:00</td>\n",
       "      <td>-73.925023</td>\n",
       "      <td>40.744085</td>\n",
       "      <td>-73.973082</td>\n",
       "      <td>40.761247</td>\n",
       "      <td>5</td>\n",
       "      <td>4.475450</td>\n",
       "      <td>August</td>\n",
       "      <td>Thursday</td>\n",
       "    </tr>\n",
       "  </tbody>\n",
       "</table>\n",
       "</div>"
      ],
      "text/plain": [
       "         Id  fare_amount           pickup_datetime  pickup_longitude  \\\n",
       "0  24238194          7.5 2015-05-07 19:52:06+00:00        -73.999817   \n",
       "1  27835199          7.7 2009-07-17 20:04:56+00:00        -73.994355   \n",
       "2  44984355         12.9 2009-08-24 21:45:00+00:00        -74.005043   \n",
       "3  25894730          5.3 2009-06-26 08:22:21+00:00        -73.976124   \n",
       "4  17610152         16.0 2014-08-28 17:47:00+00:00        -73.925023   \n",
       "\n",
       "   pickup_latitude  dropoff_longitude  dropoff_latitude  passenger_count  \\\n",
       "0        40.738354         -73.999512         40.723217                1   \n",
       "1        40.728225         -73.994710         40.750325                1   \n",
       "2        40.740770         -73.962565         40.772647                1   \n",
       "3        40.790844         -73.965316         40.803349                3   \n",
       "4        40.744085         -73.973082         40.761247                5   \n",
       "\n",
       "   distance_km   month       day  \n",
       "0     1.683323     May  Thursday  \n",
       "1     2.457590    July    Friday  \n",
       "2     5.036377  August    Monday  \n",
       "3     1.661683    June    Friday  \n",
       "4     4.475450  August  Thursday  "
      ]
     },
     "execution_count": 43,
     "metadata": {},
     "output_type": "execute_result"
    }
   ],
   "source": [
    "df1.head()"
   ]
  },
  {
   "cell_type": "code",
   "execution_count": 44,
   "id": "76e9a8b3",
   "metadata": {
    "execution": {
     "iopub.execute_input": "2024-07-16T12:40:07.025788Z",
     "iopub.status.busy": "2024-07-16T12:40:07.025406Z",
     "iopub.status.idle": "2024-07-16T12:40:07.172056Z",
     "shell.execute_reply": "2024-07-16T12:40:07.170888Z"
    },
    "papermill": {
     "duration": 0.178158,
     "end_time": "2024-07-16T12:40:07.174451",
     "exception": false,
     "start_time": "2024-07-16T12:40:06.996293",
     "status": "completed"
    },
    "tags": []
   },
   "outputs": [
    {
     "data": {
      "text/plain": [
       "0"
      ]
     },
     "execution_count": 44,
     "metadata": {},
     "output_type": "execute_result"
    }
   ],
   "source": [
    "df1.duplicated().sum()"
   ]
  },
  {
   "cell_type": "markdown",
   "id": "b2520208",
   "metadata": {
    "papermill": {
     "duration": 0.027112,
     "end_time": "2024-07-16T12:40:07.229147",
     "exception": false,
     "start_time": "2024-07-16T12:40:07.202035",
     "status": "completed"
    },
    "tags": []
   },
   "source": [
    "so we have no duplicates and missing values, now we will find and remove outlier from the data because the machine learning models are effected by them."
   ]
  },
  {
   "cell_type": "code",
   "execution_count": 45,
   "id": "e0bd8c3a",
   "metadata": {
    "execution": {
     "iopub.execute_input": "2024-07-16T12:40:07.296555Z",
     "iopub.status.busy": "2024-07-16T12:40:07.295987Z",
     "iopub.status.idle": "2024-07-16T12:40:07.320476Z",
     "shell.execute_reply": "2024-07-16T12:40:07.316698Z"
    },
    "papermill": {
     "duration": 0.068066,
     "end_time": "2024-07-16T12:40:07.327562",
     "exception": false,
     "start_time": "2024-07-16T12:40:07.259496",
     "status": "completed"
    },
    "tags": []
   },
   "outputs": [],
   "source": [
    "df1['pickup_datetime'] = pd.to_datetime(df1['pickup_datetime'],format='%m/%d/%Y %I:%M:%S %p')"
   ]
  },
  {
   "cell_type": "code",
   "execution_count": 46,
   "id": "24ff0b27",
   "metadata": {
    "execution": {
     "iopub.execute_input": "2024-07-16T12:40:07.390242Z",
     "iopub.status.busy": "2024-07-16T12:40:07.389817Z",
     "iopub.status.idle": "2024-07-16T12:40:07.398314Z",
     "shell.execute_reply": "2024-07-16T12:40:07.397238Z"
    },
    "papermill": {
     "duration": 0.039987,
     "end_time": "2024-07-16T12:40:07.400517",
     "exception": false,
     "start_time": "2024-07-16T12:40:07.360530",
     "status": "completed"
    },
    "tags": []
   },
   "outputs": [
    {
     "data": {
      "text/plain": [
       "0   2015-05-07 19:52:06+00:00\n",
       "1   2009-07-17 20:04:56+00:00\n",
       "2   2009-08-24 21:45:00+00:00\n",
       "3   2009-06-26 08:22:21+00:00\n",
       "4   2014-08-28 17:47:00+00:00\n",
       "Name: pickup_datetime, dtype: datetime64[ns, UTC]"
      ]
     },
     "execution_count": 46,
     "metadata": {},
     "output_type": "execute_result"
    }
   ],
   "source": [
    "df1['pickup_datetime'].head()"
   ]
  },
  {
   "cell_type": "markdown",
   "id": "f4754d8d",
   "metadata": {
    "papermill": {
     "duration": 0.027623,
     "end_time": "2024-07-16T12:40:07.456429",
     "exception": false,
     "start_time": "2024-07-16T12:40:07.428806",
     "status": "completed"
    },
    "tags": []
   },
   "source": [
    "Now our main features would be fare amount, distance, passenger count, so let's see the outliers in them."
   ]
  },
  {
   "cell_type": "code",
   "execution_count": 47,
   "id": "a4f01aa6",
   "metadata": {
    "execution": {
     "iopub.execute_input": "2024-07-16T12:40:07.514314Z",
     "iopub.status.busy": "2024-07-16T12:40:07.513346Z",
     "iopub.status.idle": "2024-07-16T12:40:08.082679Z",
     "shell.execute_reply": "2024-07-16T12:40:08.081575Z"
    },
    "papermill": {
     "duration": 0.600772,
     "end_time": "2024-07-16T12:40:08.084981",
     "exception": false,
     "start_time": "2024-07-16T12:40:07.484209",
     "status": "completed"
    },
    "tags": []
   },
   "outputs": [
    {
     "data": {
      "image/png": "[encoded data removed]",
      "text/plain": [
       "<Figure size 1500x200 with 3 Axes>"
      ]
     },
     "metadata": {},
     "output_type": "display_data"
    }
   ],
   "source": [
    "fig, axes = plt.subplots(1, 3, figsize=(15, 2))\n",
    "fig.suptitle('Boxplots for outlier detection')\n",
    "sns.boxplot(ax=axes[0], x=df1['distance_km'])\n",
    "sns.boxplot(ax=axes[1], x=df1['fare_amount'])\n",
    "sns.boxplot(ax=axes[2], x=df1['passenger_count'])\n",
    "plt.show();"
   ]
  },
  {
   "cell_type": "markdown",
   "id": "6f3a06bb",
   "metadata": {
    "papermill": {
     "duration": 0.0277,
     "end_time": "2024-07-16T12:40:08.140765",
     "exception": false,
     "start_time": "2024-07-16T12:40:08.113065",
     "status": "completed"
    },
    "tags": []
   },
   "source": [
    "so the fare_amount and distance has values in negatives also."
   ]
  },
  {
   "cell_type": "code",
   "execution_count": 48,
   "id": "9749d13c",
   "metadata": {
    "execution": {
     "iopub.execute_input": "2024-07-16T12:40:08.198447Z",
     "iopub.status.busy": "2024-07-16T12:40:08.198083Z",
     "iopub.status.idle": "2024-07-16T12:40:08.354999Z",
     "shell.execute_reply": "2024-07-16T12:40:08.353833Z"
    },
    "papermill": {
     "duration": 0.189746,
     "end_time": "2024-07-16T12:40:08.358515",
     "exception": false,
     "start_time": "2024-07-16T12:40:08.168769",
     "status": "completed"
    },
    "tags": []
   },
   "outputs": [
    {
     "data": {
      "text/plain": [
       "[0.0,\n",
       " 8.419568071893166e-05,\n",
       " 8.423069402055406e-05,\n",
       " 8.42312035308615e-05,\n",
       " 8.424394752893873e-05,\n",
       " 8.424911813583716e-05,\n",
       " 8.426156615572781e-05,\n",
       " 8.427574220938168e-05,\n",
       " 8.436769956638652e-05,\n",
       " 8.437015960784889e-05,\n",
       " 0.00011119492637690076,\n",
       " 0.00011119492708422385,\n",
       " 0.0001394835217174448,\n",
       " 0.00013948519978913157,\n",
       " 0.00013949023735687732,\n",
       " 0.00013949356295481747,\n",
       " 0.00013949521092014236,\n",
       " 0.00013950389966036866,\n",
       " 0.00013950408859824738,\n",
       " 0.00013958636579235352]"
      ]
     },
     "execution_count": 48,
     "metadata": {},
     "output_type": "execute_result"
    }
   ],
   "source": [
    "sorted(set(df1['distance_km']))[:20]"
   ]
  },
  {
   "cell_type": "code",
   "execution_count": 49,
   "id": "b3e4215d",
   "metadata": {
    "execution": {
     "iopub.execute_input": "2024-07-16T12:40:08.417029Z",
     "iopub.status.busy": "2024-07-16T12:40:08.416613Z",
     "iopub.status.idle": "2024-07-16T12:40:08.441842Z",
     "shell.execute_reply": "2024-07-16T12:40:08.440846Z"
    },
    "papermill": {
     "duration": 0.056946,
     "end_time": "2024-07-16T12:40:08.443918",
     "exception": false,
     "start_time": "2024-07-16T12:40:08.386972",
     "status": "completed"
    },
    "tags": []
   },
   "outputs": [
    {
     "data": {
      "text/plain": [
       "5632"
      ]
     },
     "execution_count": 49,
     "metadata": {},
     "output_type": "execute_result"
    }
   ],
   "source": [
    "sum(df1['distance_km']==0)"
   ]
  },
  {
   "cell_type": "markdown",
   "id": "bbe36fda",
   "metadata": {
    "papermill": {
     "duration": 0.029389,
     "end_time": "2024-07-16T12:40:08.501768",
     "exception": false,
     "start_time": "2024-07-16T12:40:08.472379",
     "status": "completed"
    },
    "tags": []
   },
   "source": [
    "5 Thousand trips has distance of 0."
   ]
  },
  {
   "cell_type": "code",
   "execution_count": 50,
   "id": "a3cfc486",
   "metadata": {
    "execution": {
     "iopub.execute_input": "2024-07-16T12:40:08.561252Z",
     "iopub.status.busy": "2024-07-16T12:40:08.560835Z",
     "iopub.status.idle": "2024-07-16T12:40:08.581042Z",
     "shell.execute_reply": "2024-07-16T12:40:08.580082Z"
    },
    "papermill": {
     "duration": 0.052473,
     "end_time": "2024-07-16T12:40:08.583515",
     "exception": false,
     "start_time": "2024-07-16T12:40:08.531042",
     "status": "completed"
    },
    "tags": []
   },
   "outputs": [
    {
     "data": {
      "text/plain": [
       "count    199999.000000\n",
       "mean         11.359892\n",
       "std           9.901760\n",
       "min         -52.000000\n",
       "25%           6.000000\n",
       "50%           8.500000\n",
       "75%          12.500000\n",
       "max         499.000000\n",
       "Name: fare_amount, dtype: float64"
      ]
     },
     "execution_count": 50,
     "metadata": {},
     "output_type": "execute_result"
    }
   ],
   "source": [
    "df1['fare_amount'].describe()"
   ]
  },
  {
   "cell_type": "code",
   "execution_count": 51,
   "id": "747c9a6c",
   "metadata": {
    "execution": {
     "iopub.execute_input": "2024-07-16T12:40:08.642665Z",
     "iopub.status.busy": "2024-07-16T12:40:08.641722Z",
     "iopub.status.idle": "2024-07-16T12:40:08.648451Z",
     "shell.execute_reply": "2024-07-16T12:40:08.647301Z"
    },
    "papermill": {
     "duration": 0.038667,
     "end_time": "2024-07-16T12:40:08.650648",
     "exception": false,
     "start_time": "2024-07-16T12:40:08.611981",
     "status": "completed"
    },
    "tags": []
   },
   "outputs": [
    {
     "data": {
      "text/plain": [
       "71.0"
      ]
     },
     "execution_count": 51,
     "metadata": {},
     "output_type": "execute_result"
    }
   ],
   "source": [
    "12.5 + (9 * (12.5-6))"
   ]
  },
  {
   "cell_type": "markdown",
   "id": "39b781aa",
   "metadata": {
    "papermill": {
     "duration": 0.02802,
     "end_time": "2024-07-16T12:40:08.707086",
     "exception": false,
     "start_time": "2024-07-16T12:40:08.679066",
     "status": "completed"
    },
    "tags": []
   },
   "source": [
    "The min is -52 so we can make it 0 but the max is 499 which is unreal."
   ]
  },
  {
   "cell_type": "code",
   "execution_count": 52,
   "id": "c21787ce",
   "metadata": {
    "execution": {
     "iopub.execute_input": "2024-07-16T12:40:08.765607Z",
     "iopub.status.busy": "2024-07-16T12:40:08.765253Z",
     "iopub.status.idle": "2024-07-16T12:40:08.769816Z",
     "shell.execute_reply": "2024-07-16T12:40:08.768781Z"
    },
    "papermill": {
     "duration": 0.036919,
     "end_time": "2024-07-16T12:40:08.772356",
     "exception": false,
     "start_time": "2024-07-16T12:40:08.735437",
     "status": "completed"
    },
    "tags": []
   },
   "outputs": [],
   "source": [
    "# df1.loc[df1['fare_amount']<0, 'fare_amount']=0\n",
    "# df1['fare_amount'].min()"
   ]
  },
  {
   "cell_type": "code",
   "execution_count": 53,
   "id": "1fb7e5b4",
   "metadata": {
    "execution": {
     "iopub.execute_input": "2024-07-16T12:40:08.833749Z",
     "iopub.status.busy": "2024-07-16T12:40:08.833379Z",
     "iopub.status.idle": "2024-07-16T12:40:08.840410Z",
     "shell.execute_reply": "2024-07-16T12:40:08.839425Z"
    },
    "papermill": {
     "duration": 0.040737,
     "end_time": "2024-07-16T12:40:08.842588",
     "exception": false,
     "start_time": "2024-07-16T12:40:08.801851",
     "status": "completed"
    },
    "tags": []
   },
   "outputs": [],
   "source": [
    "def outlier_imputer(df, column_list, iqr_factor):\n",
    "    df_copy = df.copy()  # Work on a copy of the dataframe\n",
    "    \n",
    "    for col in column_list:\n",
    "        q1 = df_copy[col].quantile(0.25)\n",
    "        q3 = df_copy[col].quantile(0.75)\n",
    "        iqr = q3 - q1\n",
    "        upper_threshold = q3 + (iqr_factor * iqr)\n",
    "        lower_threshold = q1 - (iqr_factor * iqr)\n",
    "        \n",
    "        print(col)\n",
    "        print('q3:', q3)\n",
    "        print('upper_threshold:', upper_threshold)\n",
    "        \n",
    "        print('q1:', q1)\n",
    "        print('lower_threshold:', lower_threshold)\n",
    "\n",
    "        # Filter out outliers\n",
    "        df_copy = df_copy[(df_copy[col] <= upper_threshold) & (df_copy[col] >= lower_threshold)]\n",
    "        print(df_copy[col].describe())\n",
    "        print()\n",
    "    \n",
    "    return df_copy"
   ]
  },
  {
   "cell_type": "code",
   "execution_count": 54,
   "id": "f6aa6a58",
   "metadata": {
    "execution": {
     "iopub.execute_input": "2024-07-16T12:40:08.902170Z",
     "iopub.status.busy": "2024-07-16T12:40:08.901761Z",
     "iopub.status.idle": "2024-07-16T12:40:09.006703Z",
     "shell.execute_reply": "2024-07-16T12:40:09.005546Z"
    },
    "papermill": {
     "duration": 0.13781,
     "end_time": "2024-07-16T12:40:09.008988",
     "exception": false,
     "start_time": "2024-07-16T12:40:08.871178",
     "status": "completed"
    },
    "tags": []
   },
   "outputs": [
    {
     "name": "stdout",
     "output_type": "stream",
     "text": [
      "fare_amount\n",
      "q3: 12.5\n",
      "upper_threshold: 22.25\n",
      "q1: 6.0\n",
      "lower_threshold: -3.75\n",
      "count    182833.000000\n",
      "mean          8.940095\n",
      "std           4.143264\n",
      "min          -3.500000\n",
      "25%           5.700000\n",
      "50%           8.000000\n",
      "75%          11.000000\n",
      "max          22.200000\n",
      "Name: fare_amount, dtype: float64\n",
      "\n",
      "distance_km\n",
      "q3: 3.2827774817668756\n",
      "upper_threshold: 6.4631959656428295\n",
      "q1: 1.1624984925162398\n",
      "lower_threshold: -2.0179199913597143\n",
      "count    174540.000000\n",
      "mean          2.218767\n",
      "std           1.454764\n",
      "min           0.000000\n",
      "25%           1.131295\n",
      "50%           1.876565\n",
      "75%           3.030305\n",
      "max           6.463182\n",
      "Name: distance_km, dtype: float64\n",
      "\n",
      "passenger_count\n",
      "q3: 2.0\n",
      "upper_threshold: 3.5\n",
      "q1: 1.0\n",
      "lower_threshold: -0.5\n",
      "count    154869.000000\n",
      "mean          1.259942\n",
      "std           0.548312\n",
      "min           0.000000\n",
      "25%           1.000000\n",
      "50%           1.000000\n",
      "75%           1.000000\n",
      "max           3.000000\n",
      "Name: passenger_count, dtype: float64\n",
      "\n"
     ]
    }
   ],
   "source": [
    "df1 = outlier_imputer(df1, ['fare_amount','distance_km','passenger_count'], 1.5)"
   ]
  },
  {
   "cell_type": "code",
   "execution_count": 55,
   "id": "19153d08",
   "metadata": {
    "execution": {
     "iopub.execute_input": "2024-07-16T12:40:09.068802Z",
     "iopub.status.busy": "2024-07-16T12:40:09.068002Z",
     "iopub.status.idle": "2024-07-16T12:40:09.074823Z",
     "shell.execute_reply": "2024-07-16T12:40:09.073774Z"
    },
    "papermill": {
     "duration": 0.039501,
     "end_time": "2024-07-16T12:40:09.077144",
     "exception": false,
     "start_time": "2024-07-16T12:40:09.037643",
     "status": "completed"
    },
    "tags": []
   },
   "outputs": [
    {
     "data": {
      "text/plain": [
       "(154869, 11)"
      ]
     },
     "execution_count": 55,
     "metadata": {},
     "output_type": "execute_result"
    }
   ],
   "source": [
    "df1.shape"
   ]
  },
  {
   "cell_type": "markdown",
   "id": "d361285a",
   "metadata": {
    "papermill": {
     "duration": 0.029962,
     "end_time": "2024-07-16T12:40:09.137230",
     "exception": false,
     "start_time": "2024-07-16T12:40:09.107268",
     "status": "completed"
    },
    "tags": []
   },
   "source": [
    "Now we have date, month and day columns let's lower case them and  find rush hours in the data."
   ]
  },
  {
   "cell_type": "code",
   "execution_count": 56,
   "id": "80633131",
   "metadata": {
    "execution": {
     "iopub.execute_input": "2024-07-16T12:40:09.196667Z",
     "iopub.status.busy": "2024-07-16T12:40:09.196267Z",
     "iopub.status.idle": "2024-07-16T12:40:09.202839Z",
     "shell.execute_reply": "2024-07-16T12:40:09.201823Z"
    },
    "papermill": {
     "duration": 0.039196,
     "end_time": "2024-07-16T12:40:09.205346",
     "exception": false,
     "start_time": "2024-07-16T12:40:09.166150",
     "status": "completed"
    },
    "tags": []
   },
   "outputs": [
    {
     "data": {
      "text/plain": [
       "Index(['Id', 'fare_amount', 'pickup_datetime', 'pickup_longitude',\n",
       "       'pickup_latitude', 'dropoff_longitude', 'dropoff_latitude',\n",
       "       'passenger_count', 'distance_km', 'month', 'day'],\n",
       "      dtype='object')"
      ]
     },
     "execution_count": 56,
     "metadata": {},
     "output_type": "execute_result"
    }
   ],
   "source": [
    "df1.columns"
   ]
  },
  {
   "cell_type": "code",
   "execution_count": 57,
   "id": "02fcef50",
   "metadata": {
    "execution": {
     "iopub.execute_input": "2024-07-16T12:40:09.267891Z",
     "iopub.status.busy": "2024-07-16T12:40:09.267495Z",
     "iopub.status.idle": "2024-07-16T12:40:10.238049Z",
     "shell.execute_reply": "2024-07-16T12:40:10.236513Z"
    },
    "papermill": {
     "duration": 1.006039,
     "end_time": "2024-07-16T12:40:10.240722",
     "exception": false,
     "start_time": "2024-07-16T12:40:09.234683",
     "status": "completed"
    },
    "tags": []
   },
   "outputs": [],
   "source": [
    "df1['day'] = df1['day'].str.lower()\n",
    "df1['month'] = df1['pickup_datetime'].dt.strftime('%b').str.lower()"
   ]
  },
  {
   "cell_type": "code",
   "execution_count": 58,
   "id": "4d7b23c9",
   "metadata": {
    "execution": {
     "iopub.execute_input": "2024-07-16T12:40:10.305799Z",
     "iopub.status.busy": "2024-07-16T12:40:10.304783Z",
     "iopub.status.idle": "2024-07-16T12:40:10.327079Z",
     "shell.execute_reply": "2024-07-16T12:40:10.325856Z"
    },
    "papermill": {
     "duration": 0.056738,
     "end_time": "2024-07-16T12:40:10.329375",
     "exception": false,
     "start_time": "2024-07-16T12:40:10.272637",
     "status": "completed"
    },
    "tags": []
   },
   "outputs": [
    {
     "data": {
      "text/html": [
       "<div>\n",
       "<style scoped>\n",
       "    .dataframe tbody tr th:only-of-type {\n",
       "        vertical-align: middle;\n",
       "    }\n",
       "\n",
       "    .dataframe tbody tr th {\n",
       "        vertical-align: top;\n",
       "    }\n",
       "\n",
       "    .dataframe thead th {\n",
       "        text-align: right;\n",
       "    }\n",
       "</style>\n",
       "<table border=\"1\" class=\"dataframe\">\n",
       "  <thead>\n",
       "    <tr style=\"text-align: right;\">\n",
       "      <th></th>\n",
       "      <th>Id</th>\n",
       "      <th>fare_amount</th>\n",
       "      <th>pickup_datetime</th>\n",
       "      <th>pickup_longitude</th>\n",
       "      <th>pickup_latitude</th>\n",
       "      <th>dropoff_longitude</th>\n",
       "      <th>dropoff_latitude</th>\n",
       "      <th>passenger_count</th>\n",
       "      <th>distance_km</th>\n",
       "      <th>month</th>\n",
       "      <th>day</th>\n",
       "    </tr>\n",
       "  </thead>\n",
       "  <tbody>\n",
       "    <tr>\n",
       "      <th>0</th>\n",
       "      <td>24238194</td>\n",
       "      <td>7.5</td>\n",
       "      <td>2015-05-07 19:52:06+00:00</td>\n",
       "      <td>-73.999817</td>\n",
       "      <td>40.738354</td>\n",
       "      <td>-73.999512</td>\n",
       "      <td>40.723217</td>\n",
       "      <td>1</td>\n",
       "      <td>1.683323</td>\n",
       "      <td>may</td>\n",
       "      <td>thursday</td>\n",
       "    </tr>\n",
       "    <tr>\n",
       "      <th>1</th>\n",
       "      <td>27835199</td>\n",
       "      <td>7.7</td>\n",
       "      <td>2009-07-17 20:04:56+00:00</td>\n",
       "      <td>-73.994355</td>\n",
       "      <td>40.728225</td>\n",
       "      <td>-73.994710</td>\n",
       "      <td>40.750325</td>\n",
       "      <td>1</td>\n",
       "      <td>2.457590</td>\n",
       "      <td>jul</td>\n",
       "      <td>friday</td>\n",
       "    </tr>\n",
       "    <tr>\n",
       "      <th>2</th>\n",
       "      <td>44984355</td>\n",
       "      <td>12.9</td>\n",
       "      <td>2009-08-24 21:45:00+00:00</td>\n",
       "      <td>-74.005043</td>\n",
       "      <td>40.740770</td>\n",
       "      <td>-73.962565</td>\n",
       "      <td>40.772647</td>\n",
       "      <td>1</td>\n",
       "      <td>5.036377</td>\n",
       "      <td>aug</td>\n",
       "      <td>monday</td>\n",
       "    </tr>\n",
       "    <tr>\n",
       "      <th>3</th>\n",
       "      <td>25894730</td>\n",
       "      <td>5.3</td>\n",
       "      <td>2009-06-26 08:22:21+00:00</td>\n",
       "      <td>-73.976124</td>\n",
       "      <td>40.790844</td>\n",
       "      <td>-73.965316</td>\n",
       "      <td>40.803349</td>\n",
       "      <td>3</td>\n",
       "      <td>1.661683</td>\n",
       "      <td>jun</td>\n",
       "      <td>friday</td>\n",
       "    </tr>\n",
       "    <tr>\n",
       "      <th>5</th>\n",
       "      <td>44470845</td>\n",
       "      <td>4.9</td>\n",
       "      <td>2011-02-12 02:27:09+00:00</td>\n",
       "      <td>-73.969019</td>\n",
       "      <td>40.755910</td>\n",
       "      <td>-73.969019</td>\n",
       "      <td>40.755910</td>\n",
       "      <td>1</td>\n",
       "      <td>0.000000</td>\n",
       "      <td>feb</td>\n",
       "      <td>saturday</td>\n",
       "    </tr>\n",
       "  </tbody>\n",
       "</table>\n",
       "</div>"
      ],
      "text/plain": [
       "         Id  fare_amount           pickup_datetime  pickup_longitude  \\\n",
       "0  24238194          7.5 2015-05-07 19:52:06+00:00        -73.999817   \n",
       "1  27835199          7.7 2009-07-17 20:04:56+00:00        -73.994355   \n",
       "2  44984355         12.9 2009-08-24 21:45:00+00:00        -74.005043   \n",
       "3  25894730          5.3 2009-06-26 08:22:21+00:00        -73.976124   \n",
       "5  44470845          4.9 2011-02-12 02:27:09+00:00        -73.969019   \n",
       "\n",
       "   pickup_latitude  dropoff_longitude  dropoff_latitude  passenger_count  \\\n",
       "0        40.738354         -73.999512         40.723217                1   \n",
       "1        40.728225         -73.994710         40.750325                1   \n",
       "2        40.740770         -73.962565         40.772647                1   \n",
       "3        40.790844         -73.965316         40.803349                3   \n",
       "5        40.755910         -73.969019         40.755910                1   \n",
       "\n",
       "   distance_km month       day  \n",
       "0     1.683323   may  thursday  \n",
       "1     2.457590   jul    friday  \n",
       "2     5.036377   aug    monday  \n",
       "3     1.661683   jun    friday  \n",
       "5     0.000000   feb  saturday  "
      ]
     },
     "execution_count": 58,
     "metadata": {},
     "output_type": "execute_result"
    }
   ],
   "source": [
    "df1.head()"
   ]
  },
  {
   "cell_type": "code",
   "execution_count": 59,
   "id": "3c591a15",
   "metadata": {
    "execution": {
     "iopub.execute_input": "2024-07-16T12:40:10.390080Z",
     "iopub.status.busy": "2024-07-16T12:40:10.389685Z",
     "iopub.status.idle": "2024-07-16T12:40:10.403760Z",
     "shell.execute_reply": "2024-07-16T12:40:10.402687Z"
    },
    "papermill": {
     "duration": 0.047717,
     "end_time": "2024-07-16T12:40:10.406313",
     "exception": false,
     "start_time": "2024-07-16T12:40:10.358596",
     "status": "completed"
    },
    "tags": []
   },
   "outputs": [],
   "source": [
    "df1['rush_hour'] = df1['pickup_datetime'].dt.hour"
   ]
  },
  {
   "cell_type": "code",
   "execution_count": 60,
   "id": "02fb39ee",
   "metadata": {
    "execution": {
     "iopub.execute_input": "2024-07-16T12:40:10.466791Z",
     "iopub.status.busy": "2024-07-16T12:40:10.466400Z",
     "iopub.status.idle": "2024-07-16T12:40:10.484849Z",
     "shell.execute_reply": "2024-07-16T12:40:10.483718Z"
    },
    "papermill": {
     "duration": 0.051522,
     "end_time": "2024-07-16T12:40:10.487212",
     "exception": false,
     "start_time": "2024-07-16T12:40:10.435690",
     "status": "completed"
    },
    "tags": []
   },
   "outputs": [
    {
     "data": {
      "text/html": [
       "<div>\n",
       "<style scoped>\n",
       "    .dataframe tbody tr th:only-of-type {\n",
       "        vertical-align: middle;\n",
       "    }\n",
       "\n",
       "    .dataframe tbody tr th {\n",
       "        vertical-align: top;\n",
       "    }\n",
       "\n",
       "    .dataframe thead th {\n",
       "        text-align: right;\n",
       "    }\n",
       "</style>\n",
       "<table border=\"1\" class=\"dataframe\">\n",
       "  <thead>\n",
       "    <tr style=\"text-align: right;\">\n",
       "      <th></th>\n",
       "      <th>Id</th>\n",
       "      <th>fare_amount</th>\n",
       "      <th>pickup_datetime</th>\n",
       "      <th>pickup_longitude</th>\n",
       "      <th>pickup_latitude</th>\n",
       "      <th>dropoff_longitude</th>\n",
       "      <th>dropoff_latitude</th>\n",
       "      <th>passenger_count</th>\n",
       "      <th>distance_km</th>\n",
       "      <th>month</th>\n",
       "      <th>day</th>\n",
       "      <th>rush_hour</th>\n",
       "    </tr>\n",
       "  </thead>\n",
       "  <tbody>\n",
       "    <tr>\n",
       "      <th>0</th>\n",
       "      <td>24238194</td>\n",
       "      <td>7.5</td>\n",
       "      <td>2015-05-07 19:52:06+00:00</td>\n",
       "      <td>-73.999817</td>\n",
       "      <td>40.738354</td>\n",
       "      <td>-73.999512</td>\n",
       "      <td>40.723217</td>\n",
       "      <td>1</td>\n",
       "      <td>1.683323</td>\n",
       "      <td>may</td>\n",
       "      <td>thursday</td>\n",
       "      <td>19</td>\n",
       "    </tr>\n",
       "    <tr>\n",
       "      <th>1</th>\n",
       "      <td>27835199</td>\n",
       "      <td>7.7</td>\n",
       "      <td>2009-07-17 20:04:56+00:00</td>\n",
       "      <td>-73.994355</td>\n",
       "      <td>40.728225</td>\n",
       "      <td>-73.994710</td>\n",
       "      <td>40.750325</td>\n",
       "      <td>1</td>\n",
       "      <td>2.457590</td>\n",
       "      <td>jul</td>\n",
       "      <td>friday</td>\n",
       "      <td>20</td>\n",
       "    </tr>\n",
       "    <tr>\n",
       "      <th>2</th>\n",
       "      <td>44984355</td>\n",
       "      <td>12.9</td>\n",
       "      <td>2009-08-24 21:45:00+00:00</td>\n",
       "      <td>-74.005043</td>\n",
       "      <td>40.740770</td>\n",
       "      <td>-73.962565</td>\n",
       "      <td>40.772647</td>\n",
       "      <td>1</td>\n",
       "      <td>5.036377</td>\n",
       "      <td>aug</td>\n",
       "      <td>monday</td>\n",
       "      <td>21</td>\n",
       "    </tr>\n",
       "    <tr>\n",
       "      <th>3</th>\n",
       "      <td>25894730</td>\n",
       "      <td>5.3</td>\n",
       "      <td>2009-06-26 08:22:21+00:00</td>\n",
       "      <td>-73.976124</td>\n",
       "      <td>40.790844</td>\n",
       "      <td>-73.965316</td>\n",
       "      <td>40.803349</td>\n",
       "      <td>3</td>\n",
       "      <td>1.661683</td>\n",
       "      <td>jun</td>\n",
       "      <td>friday</td>\n",
       "      <td>8</td>\n",
       "    </tr>\n",
       "    <tr>\n",
       "      <th>5</th>\n",
       "      <td>44470845</td>\n",
       "      <td>4.9</td>\n",
       "      <td>2011-02-12 02:27:09+00:00</td>\n",
       "      <td>-73.969019</td>\n",
       "      <td>40.755910</td>\n",
       "      <td>-73.969019</td>\n",
       "      <td>40.755910</td>\n",
       "      <td>1</td>\n",
       "      <td>0.000000</td>\n",
       "      <td>feb</td>\n",
       "      <td>saturday</td>\n",
       "      <td>2</td>\n",
       "    </tr>\n",
       "  </tbody>\n",
       "</table>\n",
       "</div>"
      ],
      "text/plain": [
       "         Id  fare_amount           pickup_datetime  pickup_longitude  \\\n",
       "0  24238194          7.5 2015-05-07 19:52:06+00:00        -73.999817   \n",
       "1  27835199          7.7 2009-07-17 20:04:56+00:00        -73.994355   \n",
       "2  44984355         12.9 2009-08-24 21:45:00+00:00        -74.005043   \n",
       "3  25894730          5.3 2009-06-26 08:22:21+00:00        -73.976124   \n",
       "5  44470845          4.9 2011-02-12 02:27:09+00:00        -73.969019   \n",
       "\n",
       "   pickup_latitude  dropoff_longitude  dropoff_latitude  passenger_count  \\\n",
       "0        40.738354         -73.999512         40.723217                1   \n",
       "1        40.728225         -73.994710         40.750325                1   \n",
       "2        40.740770         -73.962565         40.772647                1   \n",
       "3        40.790844         -73.965316         40.803349                3   \n",
       "5        40.755910         -73.969019         40.755910                1   \n",
       "\n",
       "   distance_km month       day  rush_hour  \n",
       "0     1.683323   may  thursday         19  \n",
       "1     2.457590   jul    friday         20  \n",
       "2     5.036377   aug    monday         21  \n",
       "3     1.661683   jun    friday          8  \n",
       "5     0.000000   feb  saturday          2  "
      ]
     },
     "execution_count": 60,
     "metadata": {},
     "output_type": "execute_result"
    }
   ],
   "source": [
    "df1.head()"
   ]
  },
  {
   "cell_type": "code",
   "execution_count": 61,
   "id": "0a08089b",
   "metadata": {
    "execution": {
     "iopub.execute_input": "2024-07-16T12:40:10.549012Z",
     "iopub.status.busy": "2024-07-16T12:40:10.548610Z",
     "iopub.status.idle": "2024-07-16T12:40:10.568402Z",
     "shell.execute_reply": "2024-07-16T12:40:10.567573Z"
    },
    "papermill": {
     "duration": 0.053221,
     "end_time": "2024-07-16T12:40:10.570689",
     "exception": false,
     "start_time": "2024-07-16T12:40:10.517468",
     "status": "completed"
    },
    "tags": []
   },
   "outputs": [],
   "source": [
    "df1.loc[df1['day'].isin(['saturday', 'sunday']), 'rush_hour'] = 0"
   ]
  },
  {
   "cell_type": "code",
   "execution_count": 62,
   "id": "e7542b42",
   "metadata": {
    "execution": {
     "iopub.execute_input": "2024-07-16T12:40:10.632425Z",
     "iopub.status.busy": "2024-07-16T12:40:10.632055Z",
     "iopub.status.idle": "2024-07-16T12:40:10.637564Z",
     "shell.execute_reply": "2024-07-16T12:40:10.636410Z"
    },
    "papermill": {
     "duration": 0.03985,
     "end_time": "2024-07-16T12:40:10.639982",
     "exception": false,
     "start_time": "2024-07-16T12:40:10.600132",
     "status": "completed"
    },
    "tags": []
   },
   "outputs": [],
   "source": [
    "def rush_hourizer(hour):\n",
    "    if 6 <= hour['rush_hour'] < 10:\n",
    "        val = 1\n",
    "    elif 16 <= hour['rush_hour'] < 20:\n",
    "        val = 1\n",
    "    else:\n",
    "        val = 0\n",
    "    return val"
   ]
  },
  {
   "cell_type": "code",
   "execution_count": 63,
   "id": "90dc7d47",
   "metadata": {
    "execution": {
     "iopub.execute_input": "2024-07-16T12:40:10.701200Z",
     "iopub.status.busy": "2024-07-16T12:40:10.700814Z",
     "iopub.status.idle": "2024-07-16T12:40:12.687787Z",
     "shell.execute_reply": "2024-07-16T12:40:12.686706Z"
    },
    "papermill": {
     "duration": 2.020586,
     "end_time": "2024-07-16T12:40:12.690394",
     "exception": false,
     "start_time": "2024-07-16T12:40:10.669808",
     "status": "completed"
    },
    "tags": []
   },
   "outputs": [
    {
     "data": {
      "text/html": [
       "<div>\n",
       "<style scoped>\n",
       "    .dataframe tbody tr th:only-of-type {\n",
       "        vertical-align: middle;\n",
       "    }\n",
       "\n",
       "    .dataframe tbody tr th {\n",
       "        vertical-align: top;\n",
       "    }\n",
       "\n",
       "    .dataframe thead th {\n",
       "        text-align: right;\n",
       "    }\n",
       "</style>\n",
       "<table border=\"1\" class=\"dataframe\">\n",
       "  <thead>\n",
       "    <tr style=\"text-align: right;\">\n",
       "      <th></th>\n",
       "      <th>Id</th>\n",
       "      <th>fare_amount</th>\n",
       "      <th>pickup_datetime</th>\n",
       "      <th>pickup_longitude</th>\n",
       "      <th>pickup_latitude</th>\n",
       "      <th>dropoff_longitude</th>\n",
       "      <th>dropoff_latitude</th>\n",
       "      <th>passenger_count</th>\n",
       "      <th>distance_km</th>\n",
       "      <th>month</th>\n",
       "      <th>day</th>\n",
       "      <th>rush_hour</th>\n",
       "    </tr>\n",
       "  </thead>\n",
       "  <tbody>\n",
       "    <tr>\n",
       "      <th>0</th>\n",
       "      <td>24238194</td>\n",
       "      <td>7.5</td>\n",
       "      <td>2015-05-07 19:52:06+00:00</td>\n",
       "      <td>-73.999817</td>\n",
       "      <td>40.738354</td>\n",
       "      <td>-73.999512</td>\n",
       "      <td>40.723217</td>\n",
       "      <td>1</td>\n",
       "      <td>1.683323</td>\n",
       "      <td>may</td>\n",
       "      <td>thursday</td>\n",
       "      <td>1</td>\n",
       "    </tr>\n",
       "    <tr>\n",
       "      <th>1</th>\n",
       "      <td>27835199</td>\n",
       "      <td>7.7</td>\n",
       "      <td>2009-07-17 20:04:56+00:00</td>\n",
       "      <td>-73.994355</td>\n",
       "      <td>40.728225</td>\n",
       "      <td>-73.994710</td>\n",
       "      <td>40.750325</td>\n",
       "      <td>1</td>\n",
       "      <td>2.457590</td>\n",
       "      <td>jul</td>\n",
       "      <td>friday</td>\n",
       "      <td>0</td>\n",
       "    </tr>\n",
       "    <tr>\n",
       "      <th>2</th>\n",
       "      <td>44984355</td>\n",
       "      <td>12.9</td>\n",
       "      <td>2009-08-24 21:45:00+00:00</td>\n",
       "      <td>-74.005043</td>\n",
       "      <td>40.740770</td>\n",
       "      <td>-73.962565</td>\n",
       "      <td>40.772647</td>\n",
       "      <td>1</td>\n",
       "      <td>5.036377</td>\n",
       "      <td>aug</td>\n",
       "      <td>monday</td>\n",
       "      <td>0</td>\n",
       "    </tr>\n",
       "    <tr>\n",
       "      <th>3</th>\n",
       "      <td>25894730</td>\n",
       "      <td>5.3</td>\n",
       "      <td>2009-06-26 08:22:21+00:00</td>\n",
       "      <td>-73.976124</td>\n",
       "      <td>40.790844</td>\n",
       "      <td>-73.965316</td>\n",
       "      <td>40.803349</td>\n",
       "      <td>3</td>\n",
       "      <td>1.661683</td>\n",
       "      <td>jun</td>\n",
       "      <td>friday</td>\n",
       "      <td>1</td>\n",
       "    </tr>\n",
       "    <tr>\n",
       "      <th>5</th>\n",
       "      <td>44470845</td>\n",
       "      <td>4.9</td>\n",
       "      <td>2011-02-12 02:27:09+00:00</td>\n",
       "      <td>-73.969019</td>\n",
       "      <td>40.755910</td>\n",
       "      <td>-73.969019</td>\n",
       "      <td>40.755910</td>\n",
       "      <td>1</td>\n",
       "      <td>0.000000</td>\n",
       "      <td>feb</td>\n",
       "      <td>saturday</td>\n",
       "      <td>0</td>\n",
       "    </tr>\n",
       "  </tbody>\n",
       "</table>\n",
       "</div>"
      ],
      "text/plain": [
       "         Id  fare_amount           pickup_datetime  pickup_longitude  \\\n",
       "0  24238194          7.5 2015-05-07 19:52:06+00:00        -73.999817   \n",
       "1  27835199          7.7 2009-07-17 20:04:56+00:00        -73.994355   \n",
       "2  44984355         12.9 2009-08-24 21:45:00+00:00        -74.005043   \n",
       "3  25894730          5.3 2009-06-26 08:22:21+00:00        -73.976124   \n",
       "5  44470845          4.9 2011-02-12 02:27:09+00:00        -73.969019   \n",
       "\n",
       "   pickup_latitude  dropoff_longitude  dropoff_latitude  passenger_count  \\\n",
       "0        40.738354         -73.999512         40.723217                1   \n",
       "1        40.728225         -73.994710         40.750325                1   \n",
       "2        40.740770         -73.962565         40.772647                1   \n",
       "3        40.790844         -73.965316         40.803349                3   \n",
       "5        40.755910         -73.969019         40.755910                1   \n",
       "\n",
       "   distance_km month       day  rush_hour  \n",
       "0     1.683323   may  thursday          1  \n",
       "1     2.457590   jul    friday          0  \n",
       "2     5.036377   aug    monday          0  \n",
       "3     1.661683   jun    friday          1  \n",
       "5     0.000000   feb  saturday          0  "
      ]
     },
     "execution_count": 63,
     "metadata": {},
     "output_type": "execute_result"
    }
   ],
   "source": [
    "df1.loc[(df1.day != 'saturday') & (df1.day != 'sunday'), 'rush_hour'] = df1.apply(rush_hourizer, axis=1).astype('int32')\n",
    "\n",
    "df1.head()"
   ]
  },
  {
   "cell_type": "code",
   "execution_count": 64,
   "id": "e912b419",
   "metadata": {
    "execution": {
     "iopub.execute_input": "2024-07-16T12:40:12.752991Z",
     "iopub.status.busy": "2024-07-16T12:40:12.752265Z",
     "iopub.status.idle": "2024-07-16T12:40:12.768901Z",
     "shell.execute_reply": "2024-07-16T12:40:12.767806Z"
    },
    "papermill": {
     "duration": 0.050209,
     "end_time": "2024-07-16T12:40:12.770960",
     "exception": false,
     "start_time": "2024-07-16T12:40:12.720751",
     "status": "completed"
    },
    "tags": []
   },
   "outputs": [
    {
     "data": {
      "text/html": [
       "<div>\n",
       "<style scoped>\n",
       "    .dataframe tbody tr th:only-of-type {\n",
       "        vertical-align: middle;\n",
       "    }\n",
       "\n",
       "    .dataframe tbody tr th {\n",
       "        vertical-align: top;\n",
       "    }\n",
       "\n",
       "    .dataframe thead th {\n",
       "        text-align: right;\n",
       "    }\n",
       "</style>\n",
       "<table border=\"1\" class=\"dataframe\">\n",
       "  <thead>\n",
       "    <tr style=\"text-align: right;\">\n",
       "      <th></th>\n",
       "      <th>Id</th>\n",
       "      <th>fare_amount</th>\n",
       "      <th>pickup_datetime</th>\n",
       "      <th>pickup_longitude</th>\n",
       "      <th>pickup_latitude</th>\n",
       "      <th>dropoff_longitude</th>\n",
       "      <th>dropoff_latitude</th>\n",
       "      <th>passenger_count</th>\n",
       "      <th>distance_km</th>\n",
       "      <th>month</th>\n",
       "      <th>day</th>\n",
       "      <th>rush_hour</th>\n",
       "    </tr>\n",
       "  </thead>\n",
       "  <tbody>\n",
       "    <tr>\n",
       "      <th>0</th>\n",
       "      <td>24238194</td>\n",
       "      <td>7.5</td>\n",
       "      <td>2015-05-07 19:52:06+00:00</td>\n",
       "      <td>-73.999817</td>\n",
       "      <td>40.738354</td>\n",
       "      <td>-73.999512</td>\n",
       "      <td>40.723217</td>\n",
       "      <td>1</td>\n",
       "      <td>1.683323</td>\n",
       "      <td>may</td>\n",
       "      <td>thursday</td>\n",
       "      <td>1</td>\n",
       "    </tr>\n",
       "    <tr>\n",
       "      <th>1</th>\n",
       "      <td>27835199</td>\n",
       "      <td>7.7</td>\n",
       "      <td>2009-07-17 20:04:56+00:00</td>\n",
       "      <td>-73.994355</td>\n",
       "      <td>40.728225</td>\n",
       "      <td>-73.994710</td>\n",
       "      <td>40.750325</td>\n",
       "      <td>1</td>\n",
       "      <td>2.457590</td>\n",
       "      <td>jul</td>\n",
       "      <td>friday</td>\n",
       "      <td>0</td>\n",
       "    </tr>\n",
       "    <tr>\n",
       "      <th>2</th>\n",
       "      <td>44984355</td>\n",
       "      <td>12.9</td>\n",
       "      <td>2009-08-24 21:45:00+00:00</td>\n",
       "      <td>-74.005043</td>\n",
       "      <td>40.740770</td>\n",
       "      <td>-73.962565</td>\n",
       "      <td>40.772647</td>\n",
       "      <td>1</td>\n",
       "      <td>5.036377</td>\n",
       "      <td>aug</td>\n",
       "      <td>monday</td>\n",
       "      <td>0</td>\n",
       "    </tr>\n",
       "    <tr>\n",
       "      <th>3</th>\n",
       "      <td>25894730</td>\n",
       "      <td>5.3</td>\n",
       "      <td>2009-06-26 08:22:21+00:00</td>\n",
       "      <td>-73.976124</td>\n",
       "      <td>40.790844</td>\n",
       "      <td>-73.965316</td>\n",
       "      <td>40.803349</td>\n",
       "      <td>3</td>\n",
       "      <td>1.661683</td>\n",
       "      <td>jun</td>\n",
       "      <td>friday</td>\n",
       "      <td>1</td>\n",
       "    </tr>\n",
       "    <tr>\n",
       "      <th>5</th>\n",
       "      <td>44470845</td>\n",
       "      <td>4.9</td>\n",
       "      <td>2011-02-12 02:27:09+00:00</td>\n",
       "      <td>-73.969019</td>\n",
       "      <td>40.755910</td>\n",
       "      <td>-73.969019</td>\n",
       "      <td>40.755910</td>\n",
       "      <td>1</td>\n",
       "      <td>0.000000</td>\n",
       "      <td>feb</td>\n",
       "      <td>saturday</td>\n",
       "      <td>0</td>\n",
       "    </tr>\n",
       "  </tbody>\n",
       "</table>\n",
       "</div>"
      ],
      "text/plain": [
       "         Id  fare_amount           pickup_datetime  pickup_longitude  \\\n",
       "0  24238194          7.5 2015-05-07 19:52:06+00:00        -73.999817   \n",
       "1  27835199          7.7 2009-07-17 20:04:56+00:00        -73.994355   \n",
       "2  44984355         12.9 2009-08-24 21:45:00+00:00        -74.005043   \n",
       "3  25894730          5.3 2009-06-26 08:22:21+00:00        -73.976124   \n",
       "5  44470845          4.9 2011-02-12 02:27:09+00:00        -73.969019   \n",
       "\n",
       "   pickup_latitude  dropoff_longitude  dropoff_latitude  passenger_count  \\\n",
       "0        40.738354         -73.999512         40.723217                1   \n",
       "1        40.728225         -73.994710         40.750325                1   \n",
       "2        40.740770         -73.962565         40.772647                1   \n",
       "3        40.790844         -73.965316         40.803349                3   \n",
       "5        40.755910         -73.969019         40.755910                1   \n",
       "\n",
       "   distance_km month       day  rush_hour  \n",
       "0     1.683323   may  thursday          1  \n",
       "1     2.457590   jul    friday          0  \n",
       "2     5.036377   aug    monday          0  \n",
       "3     1.661683   jun    friday          1  \n",
       "5     0.000000   feb  saturday          0  "
      ]
     },
     "execution_count": 64,
     "metadata": {},
     "output_type": "execute_result"
    }
   ],
   "source": [
    "df1.head()"
   ]
  },
  {
   "cell_type": "code",
   "execution_count": 65,
   "id": "58a55075",
   "metadata": {
    "execution": {
     "iopub.execute_input": "2024-07-16T12:40:12.833891Z",
     "iopub.status.busy": "2024-07-16T12:40:12.833128Z",
     "iopub.status.idle": "2024-07-16T12:40:12.839886Z",
     "shell.execute_reply": "2024-07-16T12:40:12.838720Z"
    },
    "papermill": {
     "duration": 0.040562,
     "end_time": "2024-07-16T12:40:12.842035",
     "exception": false,
     "start_time": "2024-07-16T12:40:12.801473",
     "status": "completed"
    },
    "tags": []
   },
   "outputs": [
    {
     "data": {
      "text/plain": [
       "Index(['Id', 'fare_amount', 'pickup_datetime', 'pickup_longitude',\n",
       "       'pickup_latitude', 'dropoff_longitude', 'dropoff_latitude',\n",
       "       'passenger_count', 'distance_km', 'month', 'day', 'rush_hour'],\n",
       "      dtype='object')"
      ]
     },
     "execution_count": 65,
     "metadata": {},
     "output_type": "execute_result"
    }
   ],
   "source": [
    "df1.columns"
   ]
  },
  {
   "cell_type": "code",
   "execution_count": 66,
   "id": "5d8a3360",
   "metadata": {
    "execution": {
     "iopub.execute_input": "2024-07-16T12:40:12.903416Z",
     "iopub.status.busy": "2024-07-16T12:40:12.903048Z",
     "iopub.status.idle": "2024-07-16T12:40:12.918284Z",
     "shell.execute_reply": "2024-07-16T12:40:12.917241Z"
    },
    "papermill": {
     "duration": 0.049027,
     "end_time": "2024-07-16T12:40:12.920705",
     "exception": false,
     "start_time": "2024-07-16T12:40:12.871678",
     "status": "completed"
    },
    "tags": []
   },
   "outputs": [
    {
     "data": {
      "text/html": [
       "<div>\n",
       "<style scoped>\n",
       "    .dataframe tbody tr th:only-of-type {\n",
       "        vertical-align: middle;\n",
       "    }\n",
       "\n",
       "    .dataframe tbody tr th {\n",
       "        vertical-align: top;\n",
       "    }\n",
       "\n",
       "    .dataframe thead th {\n",
       "        text-align: right;\n",
       "    }\n",
       "</style>\n",
       "<table border=\"1\" class=\"dataframe\">\n",
       "  <thead>\n",
       "    <tr style=\"text-align: right;\">\n",
       "      <th></th>\n",
       "      <th>fare_amount</th>\n",
       "      <th>passenger_count</th>\n",
       "      <th>distance_km</th>\n",
       "      <th>rush_hour</th>\n",
       "    </tr>\n",
       "  </thead>\n",
       "  <tbody>\n",
       "    <tr>\n",
       "      <th>0</th>\n",
       "      <td>7.5</td>\n",
       "      <td>1</td>\n",
       "      <td>1.683323</td>\n",
       "      <td>1</td>\n",
       "    </tr>\n",
       "    <tr>\n",
       "      <th>1</th>\n",
       "      <td>7.7</td>\n",
       "      <td>1</td>\n",
       "      <td>2.457590</td>\n",
       "      <td>0</td>\n",
       "    </tr>\n",
       "    <tr>\n",
       "      <th>2</th>\n",
       "      <td>12.9</td>\n",
       "      <td>1</td>\n",
       "      <td>5.036377</td>\n",
       "      <td>0</td>\n",
       "    </tr>\n",
       "    <tr>\n",
       "      <th>3</th>\n",
       "      <td>5.3</td>\n",
       "      <td>3</td>\n",
       "      <td>1.661683</td>\n",
       "      <td>1</td>\n",
       "    </tr>\n",
       "    <tr>\n",
       "      <th>5</th>\n",
       "      <td>4.9</td>\n",
       "      <td>1</td>\n",
       "      <td>0.000000</td>\n",
       "      <td>0</td>\n",
       "    </tr>\n",
       "  </tbody>\n",
       "</table>\n",
       "</div>"
      ],
      "text/plain": [
       "   fare_amount  passenger_count  distance_km  rush_hour\n",
       "0          7.5                1     1.683323          1\n",
       "1          7.7                1     2.457590          0\n",
       "2         12.9                1     5.036377          0\n",
       "3          5.3                3     1.661683          1\n",
       "5          4.9                1     0.000000          0"
      ]
     },
     "execution_count": 66,
     "metadata": {},
     "output_type": "execute_result"
    }
   ],
   "source": [
    "df2 = df1.drop(['Id', 'pickup_datetime', 'pickup_longitude',\n",
    "       'pickup_latitude', 'dropoff_longitude', 'dropoff_latitude','day', 'month'],axis=1)\n",
    "df2.head()"
   ]
  },
  {
   "cell_type": "code",
   "execution_count": 67,
   "id": "c3702a95",
   "metadata": {
    "execution": {
     "iopub.execute_input": "2024-07-16T12:40:12.983183Z",
     "iopub.status.busy": "2024-07-16T12:40:12.982413Z",
     "iopub.status.idle": "2024-07-16T12:40:25.216699Z",
     "shell.execute_reply": "2024-07-16T12:40:25.215327Z"
    },
    "papermill": {
     "duration": 12.269795,
     "end_time": "2024-07-16T12:40:25.220640",
     "exception": false,
     "start_time": "2024-07-16T12:40:12.950845",
     "status": "completed"
    },
    "tags": []
   },
   "outputs": [
    {
     "name": "stderr",
     "output_type": "stream",
     "text": [
      "/opt/conda/lib/python3.10/site-packages/seaborn/_oldcore.py:1119: FutureWarning: use_inf_as_na option is deprecated and will be removed in a future version. Convert inf values to NaN before operating instead.\n",
      "  with pd.option_context('mode.use_inf_as_na', True):\n",
      "/opt/conda/lib/python3.10/site-packages/seaborn/_oldcore.py:1119: FutureWarning: use_inf_as_na option is deprecated and will be removed in a future version. Convert inf values to NaN before operating instead.\n",
      "  with pd.option_context('mode.use_inf_as_na', True):\n",
      "/opt/conda/lib/python3.10/site-packages/seaborn/_oldcore.py:1119: FutureWarning: use_inf_as_na option is deprecated and will be removed in a future version. Convert inf values to NaN before operating instead.\n",
      "  with pd.option_context('mode.use_inf_as_na', True):\n",
      "/opt/conda/lib/python3.10/site-packages/seaborn/_oldcore.py:1119: FutureWarning: use_inf_as_na option is deprecated and will be removed in a future version. Convert inf values to NaN before operating instead.\n",
      "  with pd.option_context('mode.use_inf_as_na', True):\n"
     ]
    },
    {
     "data": {
      "image/png": "[encoded data removed]",
      "text/plain": [
       "<Figure size 1000x1000 with 20 Axes>"
      ]
     },
     "metadata": {},
     "output_type": "display_data"
    }
   ],
   "source": [
    "sns.pairplot(df2);"
   ]
  },
  {
   "cell_type": "code",
   "execution_count": 68,
   "id": "c100c5e3",
   "metadata": {
    "execution": {
     "iopub.execute_input": "2024-07-16T12:40:25.290793Z",
     "iopub.status.busy": "2024-07-16T12:40:25.290406Z",
     "iopub.status.idle": "2024-07-16T12:40:25.314172Z",
     "shell.execute_reply": "2024-07-16T12:40:25.313114Z"
    },
    "papermill": {
     "duration": 0.061483,
     "end_time": "2024-07-16T12:40:25.316447",
     "exception": false,
     "start_time": "2024-07-16T12:40:25.254964",
     "status": "completed"
    },
    "tags": []
   },
   "outputs": [
    {
     "data": {
      "text/html": [
       "<div>\n",
       "<style scoped>\n",
       "    .dataframe tbody tr th:only-of-type {\n",
       "        vertical-align: middle;\n",
       "    }\n",
       "\n",
       "    .dataframe tbody tr th {\n",
       "        vertical-align: top;\n",
       "    }\n",
       "\n",
       "    .dataframe thead th {\n",
       "        text-align: right;\n",
       "    }\n",
       "</style>\n",
       "<table border=\"1\" class=\"dataframe\">\n",
       "  <thead>\n",
       "    <tr style=\"text-align: right;\">\n",
       "      <th></th>\n",
       "      <th>fare_amount</th>\n",
       "      <th>passenger_count</th>\n",
       "      <th>distance_km</th>\n",
       "      <th>rush_hour</th>\n",
       "    </tr>\n",
       "  </thead>\n",
       "  <tbody>\n",
       "    <tr>\n",
       "      <th>fare_amount</th>\n",
       "      <td>1.000000</td>\n",
       "      <td>0.018304</td>\n",
       "      <td>0.754841</td>\n",
       "      <td>-0.010957</td>\n",
       "    </tr>\n",
       "    <tr>\n",
       "      <th>passenger_count</th>\n",
       "      <td>0.018304</td>\n",
       "      <td>1.000000</td>\n",
       "      <td>0.012573</td>\n",
       "      <td>-0.057370</td>\n",
       "    </tr>\n",
       "    <tr>\n",
       "      <th>distance_km</th>\n",
       "      <td>0.754841</td>\n",
       "      <td>0.012573</td>\n",
       "      <td>1.000000</td>\n",
       "      <td>-0.040627</td>\n",
       "    </tr>\n",
       "    <tr>\n",
       "      <th>rush_hour</th>\n",
       "      <td>-0.010957</td>\n",
       "      <td>-0.057370</td>\n",
       "      <td>-0.040627</td>\n",
       "      <td>1.000000</td>\n",
       "    </tr>\n",
       "  </tbody>\n",
       "</table>\n",
       "</div>"
      ],
      "text/plain": [
       "                 fare_amount  passenger_count  distance_km  rush_hour\n",
       "fare_amount         1.000000         0.018304     0.754841  -0.010957\n",
       "passenger_count     0.018304         1.000000     0.012573  -0.057370\n",
       "distance_km         0.754841         0.012573     1.000000  -0.040627\n",
       "rush_hour          -0.010957        -0.057370    -0.040627   1.000000"
      ]
     },
     "execution_count": 68,
     "metadata": {},
     "output_type": "execute_result"
    }
   ],
   "source": [
    "df2.corr(method='pearson')"
   ]
  },
  {
   "cell_type": "code",
   "execution_count": 69,
   "id": "291c3e26",
   "metadata": {
    "execution": {
     "iopub.execute_input": "2024-07-16T12:40:25.385447Z",
     "iopub.status.busy": "2024-07-16T12:40:25.385100Z",
     "iopub.status.idle": "2024-07-16T12:40:25.390976Z",
     "shell.execute_reply": "2024-07-16T12:40:25.389923Z"
    },
    "papermill": {
     "duration": 0.043238,
     "end_time": "2024-07-16T12:40:25.393471",
     "exception": false,
     "start_time": "2024-07-16T12:40:25.350233",
     "status": "completed"
    },
    "tags": []
   },
   "outputs": [],
   "source": [
    "df2['rush_hour'] = df2['rush_hour'].astype(float)"
   ]
  },
  {
   "cell_type": "code",
   "execution_count": 70,
   "id": "b2a15c0b",
   "metadata": {
    "execution": {
     "iopub.execute_input": "2024-07-16T12:40:25.462632Z",
     "iopub.status.busy": "2024-07-16T12:40:25.462257Z",
     "iopub.status.idle": "2024-07-16T12:40:25.743819Z",
     "shell.execute_reply": "2024-07-16T12:40:25.742689Z"
    },
    "papermill": {
     "duration": 0.318754,
     "end_time": "2024-07-16T12:40:25.746171",
     "exception": false,
     "start_time": "2024-07-16T12:40:25.427417",
     "status": "completed"
    },
    "tags": []
   },
   "outputs": [
    {
     "data": {
      "image/png": "[encoded data removed]",
      "text/plain": [
       "<Figure size 600x400 with 2 Axes>"
      ]
     },
     "metadata": {},
     "output_type": "display_data"
    }
   ],
   "source": [
    "\n",
    "plt.figure(figsize=(6,4))\n",
    "sns.heatmap(df2.corr(method='pearson'), annot=True, cmap='Reds')\n",
    "plt.title('Correlation heatmap',\n",
    "          fontsize=18)\n",
    "plt.show()"
   ]
  },
  {
   "cell_type": "code",
   "execution_count": null,
   "id": "5235e0dc",
   "metadata": {
    "papermill": {
     "duration": 0.03385,
     "end_time": "2024-07-16T12:40:25.814421",
     "exception": false,
     "start_time": "2024-07-16T12:40:25.780571",
     "status": "completed"
    },
    "tags": []
   },
   "outputs": [],
   "source": []
  }
 ],
 "metadata": {
  "kaggle": {
   "accelerator": "none",
   "dataSources": [
    {
     "datasetId": 1834623,
     "sourceId": 2994100,
     "sourceType": "datasetVersion"
    }
   ],
   "dockerImageVersionId": 30732,
   "isGpuEnabled": false,
   "isInternetEnabled": true,
   "language": "python",
   "sourceType": "notebook"
  },
  "kernelspec": {
   "display_name": "Python 3",
   "language": "python",
   "name": "python3"
  },
  "language_info": {
   "codemirror_mode": {
    "name": "ipython",
    "version": 3
   },
   "file_extension": ".py",
   "mimetype": "text/x-python",
   "name": "python",
   "nbconvert_exporter": "python",
   "pygments_lexer": "ipython3",
   "version": "3.10.13"
  },
  "papermill": {
   "default_parameters": {},
   "duration": 37.971281,
   "end_time": "2024-07-16T12:40:26.670380",
   "environment_variables": {},
   "exception": null,
   "input_path": "__notebook__.ipynb",
   "output_path": "__notebook__.ipynb",
   "parameters": {},
   "start_time": "2024-07-16T12:39:48.699099",
   "version": "2.5.0"
  }
 },
 "nbformat": 4,
 "nbformat_minor": 5
}
